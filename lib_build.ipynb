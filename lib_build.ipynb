{
 "cells": [
  {
   "cell_type": "code",
   "execution_count": 12,
   "metadata": {},
   "outputs": [],
   "source": [
    "import RAP_MASTER_LIB\n",
    "#MY LIBRARIES -- towards the end of project/when you need a break write up documentaiton of libraries\n",
    "#another library for plotting and testing\n",
    "from rap_scrpr import *\n",
    "from rap_db import *\n",
    "from rap_clean import*\n",
    "from rap_viz import *\n",
    "\n",
    "#import nltk\n",
    "#estconn = pg2.connect(database='rap_songs', user='keenan', host='localhost', password='keenan')\n",
    "#import nltk\n",
    "#nltk.download()\n",
    "#create_music_tables(estconn)\n",
    "from datamuse import datamuse\n",
    "api = datamuse.Datamuse()\n"
   ]
  },
  {
   "cell_type": "code",
   "execution_count": null,
   "metadata": {
    "collapsed": true
   },
   "outputs": [],
   "source": []
  },
  {
   "cell_type": "code",
   "execution_count": 7,
   "metadata": {},
   "outputs": [],
   "source": [
    "wrd = 'dog'\n",
    "orange_rhymes = api.words(rel_rhy=wrd, max=5)\n",
    "\n",
    "orange_near_rhymes = api.words(rel_nry=wrd, max=5)"
   ]
  },
  {
   "cell_type": "code",
   "execution_count": 9,
   "metadata": {},
   "outputs": [
    {
     "data": {
      "text/plain": [
       "[{'numSyllables': 3, 'score': 2864, 'word': 'demagogue'},\n",
       " {'numSyllables': 1, 'score': 2439, 'word': 'frog'},\n",
       " {'numSyllables': 1, 'score': 1902, 'word': 'log'},\n",
       " {'numSyllables': 3, 'score': 1847, 'word': 'dialogue'},\n",
       " {'numSyllables': 1, 'score': 1754, 'word': 'hog'}]"
      ]
     },
     "execution_count": 9,
     "metadata": {},
     "output_type": "execute_result"
    }
   ],
   "source": [
    "orange_rhymes"
   ]
  },
  {
   "cell_type": "code",
   "execution_count": null,
   "metadata": {
    "collapsed": true
   },
   "outputs": [],
   "source": []
  }
 ],
 "metadata": {
  "kernelspec": {
   "display_name": "Python 3",
   "language": "python",
   "name": "python3"
  },
  "language_info": {
   "codemirror_mode": {
    "name": "ipython",
    "version": 3
   },
   "file_extension": ".py",
   "mimetype": "text/x-python",
   "name": "python",
   "nbconvert_exporter": "python",
   "pygments_lexer": "ipython3",
   "version": "3.6.3"
  }
 },
 "nbformat": 4,
 "nbformat_minor": 2
}
