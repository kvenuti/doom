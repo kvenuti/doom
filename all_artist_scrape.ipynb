{
 "cells": [
  {
   "cell_type": "code",
   "execution_count": 50,
   "metadata": {
    "collapsed": true
   },
   "outputs": [],
   "source": [
    "import json\n",
    "import re\n",
    "from bs4 import BeautifulSoup\n",
    "import urllib\n",
    "import psycopg2 as pg2\n",
    "\n"
   ]
  },
  {
   "cell_type": "code",
   "execution_count": 51,
   "metadata": {},
   "outputs": [],
   "source": [
    "soup = BeautifulSoup(urllib.request.urlopen('http://ohhla.com/all.html').read(), 'html.parser')"
   ]
  },
  {
   "cell_type": "code",
   "execution_count": 52,
   "metadata": {},
   "outputs": [
    {
     "data": {
      "text/plain": [
       "[<a name=\"xx\"> </a>,\n",
       " <a href=\"anonymous/10_kans/\">10 K.A.N.'s</a>,\n",
       " <a href=\"anonymous/10sion/\">10sion</a>,\n",
       " <a href=\"anonymous/113/\">113</a>,\n",
       " <a href=\"anonymous/eleven_5/\">11/5</a>]"
      ]
     },
     "execution_count": 52,
     "metadata": {},
     "output_type": "execute_result"
    }
   ],
   "source": [
    "soup.select('pre > a')[0:5]"
   ]
  },
  {
   "cell_type": "code",
   "execution_count": 53,
   "metadata": {},
   "outputs": [],
   "source": [
    "art_dic = {}\n",
    "for a in soup.select('pre > a'):\n",
    "    try:\n",
    "        line = str(a).split('\">')\n",
    "        url = line[0].split('<a href=\"')[1]\n",
    "        art = line[1].split('<')[0]\n",
    "        art_dic[art] = url\n",
    "    except:\n",
    "        pass"
   ]
  },
  {
   "cell_type": "code",
   "execution_count": 62,
   "metadata": {},
   "outputs": [],
   "source": [
    "estconn = pg2.connect(database='rap_songs', user='keenan', host='localhost', password='keenan')\n",
    "s = '''drop table if exists all_artist_names'''\n",
    "f = '''create table all_artist_names (artist_nm text not null, artist_link text not null, unique (artist_nm, artist_link))'''\n",
    "commands = []\n",
    "for art, url in art_dic.items():\n",
    "    add = '''insert into all_artist_names values (%(art)s, %(url)s)''', {'art':art, 'url':url}\n",
    "    commands.append(add)\n",
    "    \n",
    "cur = estconn.cursor()\n",
    "cur.execute(s)\n",
    "cur.execute(f)\n",
    "for command in commands:\n",
    "    cur.execute(command[0], command[1])\n",
    "cur.close()\n",
    "estconn.commit()\n",
    "estconn.close()"
   ]
  },
  {
   "cell_type": "code",
   "execution_count": 56,
   "metadata": {
    "collapsed": true
   },
   "outputs": [],
   "source": []
  },
  {
   "cell_type": "code",
   "execution_count": null,
   "metadata": {
    "collapsed": true
   },
   "outputs": [],
   "source": []
  }
 ],
 "metadata": {
  "kernelspec": {
   "display_name": "Python 3",
   "language": "python",
   "name": "python3"
  },
  "language_info": {
   "codemirror_mode": {
    "name": "ipython",
    "version": 3
   },
   "file_extension": ".py",
   "mimetype": "text/x-python",
   "name": "python",
   "nbconvert_exporter": "python",
   "pygments_lexer": "ipython3",
   "version": "3.6.1"
  }
 },
 "nbformat": 4,
 "nbformat_minor": 2
}
