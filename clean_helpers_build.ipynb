{
 "cells": [
  {
   "cell_type": "code",
   "execution_count": 1,
   "metadata": {
    "collapsed": true
   },
   "outputs": [],
   "source": [
    "from rap_db import *\n",
    "import re\n",
    "from os import listdir\n",
    "from os.path import isfile, join\n",
    "import nltk\n",
    "#nltk.download()\n",
    "estconn = pg2.connect(database='rap_songs', user='keenan', host='localhost', password='keenan')"
   ]
  },
  {
   "cell_type": "code",
   "execution_count": 2,
   "metadata": {
    "collapsed": true,
    "scrolled": false
   },
   "outputs": [],
   "source": [
    "#anytime a rapper is quoted need name to id type == verse\n",
    "cur = estconn.cursor()\n",
    "cur.execute('''SELECT lower(artist_nm) FROM all_artist_names UNION SELECT LOWER(artist_name) FROM artists;''')\n",
    "quer = cur.fetchall()\n",
    "COMPLETE_RAPPERS = set()\n",
    "#want all rappers listed and any rapper in string\n",
    "for art in quer:\n",
    "    full_name = art[0]\n",
    "    sep_name = re.sub('f./|f/|w/|&amp;|and|((^|\\W)\\()|(\\)($|\\W))', ',', full_name)\n",
    "    list_of_names = sep_name.split(',')\n",
    "    for name in list_of_names:\n",
    "        COMPLETE_RAPPERS = COMPLETE_RAPPERS|{name.strip()}\n",
    "COMPLETE_RAPPERS = COMPLETE_RAPPERS - {''}\n",
    "\n",
    "#run all artists\n",
    "cur.execute('''SELECT artist_name FROM artists;''')\n",
    "quer = cur.fetchall()\n",
    "SCRAPED_RAPPERS = set(art[0] for art in quer)\n",
    "cur.close()"
   ]
  },
  {
   "cell_type": "code",
   "execution_count": 3,
   "metadata": {
    "collapsed": true
   },
   "outputs": [],
   "source": [
    "#need to find the best way to mark of important parts of the song,\n",
    "# {**} == not sure but one thing is can mean someone saying something\n",
    "# {?} == dont know line\n",
    "# [Artist] == i think this is when an artist s speaking\n",
    "# [yes] == can also mean like () whe someone says somthing, have to use [Capital First letter] to differentiate\n",
    "#or a great way to differentiate is to check contents of [] against db of artists with tolower and edge case for chorus or outro or intro\n",
    "# * == annotator notes\n",
    "# (action!) == i think this is sound of action, can also be someone saying something in track\n",
    "# () == someone saying something or repeat signal\n",
    "# (**) ==\n",
    "# looks like () and [] and {} are pretty much interchanchable and it matters a lot more whats inside\n",
    "# [???] == i think it means they didn't know\n",
    "# \"\" == i think this is when someone else is talking over the track\n",
    "# Man1: denoting that someone is speaking in a conversation\n",
    "#words = re.sub(\"([\\(\\[]).*?([\\)\\]])\", \"\", lyrics)\n",
    "#words = re.sub(\"\\n\",\"--\",words)\n"
   ]
  },
  {
   "cell_type": "code",
   "execution_count": 18,
   "metadata": {
    "collapsed": true
   },
   "outputs": [],
   "source": [
    "def check_verse(text, nec_len = 20, nec_uniq = 10):\n",
    "    ret = True\n",
    "    if len(text) < nec_len:\n",
    "        ret = False\n",
    "    if ret:\n",
    "        unique_words = set()\n",
    "        text_con = re.sub('[,\\- \\.\\!]', '=.=', text)\n",
    "        for word in text_con.split('=.='):\n",
    "            unique_words = unique_words|{word.strip()}\n",
    "        if len(unique_words) < nec_uniq:\n",
    "            ret = False\n",
    "    return ret"
   ]
  },
  {
   "cell_type": "code",
   "execution_count": 19,
   "metadata": {
    "collapsed": true
   },
   "outputs": [],
   "source": [
    "class text_segment():\n",
    "    def __init__(self, typ, label, start, end):\n",
    "        self.typ = typ\n",
    "        self.label = label\n",
    "        self.start = start\n",
    "        self.end = end\n",
    "    def gen_content(self, raw_text, next_start):\n",
    "        self.content = raw_text[self.end:next_start]"
   ]
  },
  {
   "cell_type": "code",
   "execution_count": 33,
   "metadata": {
    "collapsed": true
   },
   "outputs": [],
   "source": [
    "class song():\n",
    "    #regex are dope\n",
    "    regex_commands = {'intro':'\\[.*intro.*\\]',\n",
    "                      'outro':'\\[.*outro.*\\]',\n",
    "                      'chorus':'(\\[.*chorus.*\\]|\\(.*chorus.*\\))',\n",
    "                      'verse':'(\\[.*verse.*|.*bridge.*\\]|\\(.*verse.*|.*bridge.*\\))',\n",
    "                      #the reason you get [ex] [a] or [ex] + [x] is because .* doesnt stop on /w or + or [] weird thing is its kinda more accurate this way\n",
    "                      '[]':'\\[(?!.*intro.*|.*outro.*|.*chorus.*|.*verse.*|.*bridge.*).*\\]',\n",
    "                      '{}':'\\{(.*?)\\}',\n",
    "                      '\\n':'\\n',\n",
    "                      #still pulling others, may come back to this later\n",
    "                      #'**':'\\*(.*?)\\*',\n",
    "                      '{**}':'\\{\\*(.*?)\\*\\}',\n",
    "                      '()':'\\((?!.*chorus.*|.*verse.*|.*bridge.*).*\\)',\n",
    "                      '\"\"':'\"(.*?)\"',\n",
    "                      '?':'\\?+',\n",
    "                      '*text':'[\\n| ]\\*[^\\n|\\{|\\(|\\[]*'}\n",
    "    \n",
    "    def __init__(self, raw_text, name):\n",
    "        self.raw_text = re.sub('&amp;', 'and', raw_text)\n",
    "        self.name = name\n",
    "    \n",
    "    #basically want to go through dic and use a re ex to pull out the matching phrase and mark the spot in the string\n",
    "    #with the marks, I can cut up the lyrics accordingly, I use extras_set/extras_list to rank my segments in order\n",
    "    def assign_extras(self):\n",
    "        #record all special instances\n",
    "        self.extras = dict(zip(song.regex_commands.keys(), [[]]*len(song.regex_commands)))\n",
    "        #this will later be used to create song segments\n",
    "        extra_segs = set()\n",
    "        \n",
    "        for ext, regex_command in song.regex_commands.items():\n",
    "            finder = re.compile(regex_command)\n",
    "            ap_list = []\n",
    "            for match in finder.finditer(self.raw_text.lower()):\n",
    "                #match has a start pos and a match value, add to list to append\n",
    "                seg_type = ext\n",
    "                if match.group()[1:-1] in COMPLETE_RAPPERS:\n",
    "                    #this if statement is a catch all for rappers names mentioned to be sent to verse\n",
    "                    #wanna check things like '[eminem]' so [1:-1]\n",
    "                    seg_type = 'verse'\n",
    "                    self.extras[seg_type].append((match.group(), (match.start(), match.start()+len(match.group()))))\n",
    "                else:\n",
    "                    ap_list.append((match.group(), (match.start(), match.start()+len(match.group()))))\n",
    "                \n",
    "                #determines what segments will be used to construct actual song\n",
    "                #basically each segment has start and end and song willbe build on raw text before and after these anchor points\n",
    "                if seg_type in ['verse', 'chorus', 'intro', 'outro']:#, '[]', '()']:\n",
    "                    extra_segs = extra_segs|{((seg_type, match.group()),(match.start(), match.start()+len(match.group())))}\n",
    "            self.extras[ext] = ap_list\n",
    "            \n",
    "        #gonna be used for ranking purposes\n",
    "        self.extra_segs = sorted(list(extra_segs), key=lambda x: x[1][0])\n",
    "        \n",
    "    #this removes any of the regex formations above and recalculates the new positions\n",
    "    def remove_and_reass(self, rem = []):\n",
    "        for r in rem:\n",
    "            if r in song.regex_commands.keys():\n",
    "                self.raw_text = re.sub(song.regex_commands[r], '', self.raw_text)\n",
    "        self.assign_extras()\n",
    "    \n",
    "    #this make as a list that holds the segments in order. Each segment has a location and content of the segment\n",
    "    #this list of segments creates the song\n",
    "    def create_song_as_seg(self):\n",
    "        self.segments = []\n",
    "        for index, extra in enumerate(self.extra_segs):\n",
    "            ex_type = extra[0][0]\n",
    "            ex_cont = extra[0][1]\n",
    "            ex_start = extra[1][0]\n",
    "            ex_end = extra[1][1]\n",
    "            \n",
    "            if not self.segments:\n",
    "                #this means on first segment\n",
    "                seg = text_segment('[pre_text]', 'pre_text', 0, 0)\n",
    "                #pull until the first first real segment\n",
    "                seg.gen_content(self.raw_text, ex_start)\n",
    "                self.segments = [seg]\n",
    "                \n",
    "            seg = text_segment(ex_type, ex_cont, ex_start, ex_end)\n",
    "            #if we're on the last tag the end is the end of string\n",
    "            if index+1 == len(self.extra_segs):\n",
    "                #this means we're on the last segment\n",
    "                seg.gen_content(self.raw_text, len(self.raw_text))\n",
    "            else:\n",
    "                #pull the next segments start position so we know where to end\n",
    "                seg.gen_content(self.raw_text, self.extra_segs[index+1][1][0])\n",
    "                \n",
    "            #need to be careful about what I allow to be a verse\n",
    "            if not check_verse(seg.content):\n",
    "                seg.typ = 'chorus'\n",
    "                \n",
    "            self.segments.append(seg)"
   ]
  },
  {
   "cell_type": "markdown",
   "metadata": {},
   "source": [
    "What you did last time:\n",
    "\n",
    "made 99% method of capturing all verses - huge - updated this immensly and simply lol\n",
    "\n",
    "\n",
    "next:\n",
    "write artist/album wrapper, can be simple, just a holder aka dictionary for songs and list of verses/list of choruses\n",
    "write verse object - already set up rule and exception unique words, that sohuld be good\n",
    "\n",
    "write new verse object with cleaning methods\n",
    "^if you do this then finish that, clean comments/code and make it into a library and move forward\n",
    "scrape a few more artists\n",
    "\n",
    "goals:\n",
    "KEEP CLEANING AND LEANING\n",
    "\n",
    "very close"
   ]
  },
  {
   "cell_type": "code",
   "execution_count": 34,
   "metadata": {},
   "outputs": [],
   "source": [
    "song_list = []\n",
    "zbt ='Juice'\n",
    "for art in SCRAPED_RAPPERS:\n",
    "    art_work = basic_lyrc_pull(estconn, art)\n",
    "    for art, text in art_work.items():\n",
    "        cur_song = song(text, art)\n",
    "        cur_song.assign_extras()\n",
    "        cur_song.remove_and_reass(['*text', '?'])\n",
    "        cur_song.create_song_as_seg()\n",
    "        song_list.append(cur_song)\n",
    "        if cur_song.name == zbt:\n",
    "            zbt = cur_song"
   ]
  },
  {
   "cell_type": "code",
   "execution_count": 35,
   "metadata": {},
   "outputs": [
    {
     "data": {
      "text/plain": [
       "<__main__.song at 0x280c8ac6cc0>"
      ]
     },
     "execution_count": 35,
     "metadata": {},
     "output_type": "execute_result"
    }
   ],
   "source": [
    "zbt"
   ]
  },
  {
   "cell_type": "code",
   "execution_count": 39,
   "metadata": {
    "scrolled": false
   },
   "outputs": [
    {
     "name": "stdout",
     "output_type": "stream",
     "text": [
      "8 [pre_text]\n",
      "36 intro\n",
      "19 verse\n",
      "30 chorus\n",
      "19 verse\n",
      "8 chorus\n",
      "19 verse\n",
      "22 chorus\n"
     ]
    }
   ],
   "source": [
    "for f in zbt.segments:\n",
    "    print(len(f.label), f.typ)#,f.content)"
   ]
  },
  {
   "cell_type": "code",
   "execution_count": 40,
   "metadata": {
    "collapsed": true
   },
   "outputs": [],
   "source": [
    "estconn.close()"
   ]
  },
  {
   "cell_type": "code",
   "execution_count": null,
   "metadata": {
    "collapsed": true
   },
   "outputs": [],
   "source": []
  }
 ],
 "metadata": {
  "kernelspec": {
   "display_name": "Python 3",
   "language": "python",
   "name": "python3"
  },
  "language_info": {
   "codemirror_mode": {
    "name": "ipython",
    "version": 3
   },
   "file_extension": ".py",
   "mimetype": "text/x-python",
   "name": "python",
   "nbconvert_exporter": "python",
   "pygments_lexer": "ipython3",
   "version": "3.6.1"
  }
 },
 "nbformat": 4,
 "nbformat_minor": 2
}
