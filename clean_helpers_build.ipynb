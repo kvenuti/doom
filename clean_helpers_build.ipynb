{
 "cells": [
  {
   "cell_type": "code",
   "execution_count": 359,
   "metadata": {
    "collapsed": true
   },
   "outputs": [],
   "source": [
    "from rap_db import *\n",
    "import re\n",
    "from os import listdir\n",
    "from os.path import isfile, join\n",
    "import nltk\n",
    "#nltk.download()\n",
    "estconn = pg2.connect(database='rap_songs', user='keenan', host='localhost', password='keenan')\n",
    "#create_music_tables(estconn)"
   ]
  },
  {
   "cell_type": "code",
   "execution_count": 365,
   "metadata": {
    "collapsed": true
   },
   "outputs": [],
   "source": [
    "#need this to figure out verses\n",
    "cur = estconn.cursor()\n",
    "cur.execute('''SELECT artist_name FROM artists;''')\n",
    "quer = cur.fetchall()\n",
    "MASTER_RAPPER_SET = set(art[0].lower() for art in quer)\n",
    "#known aliases that aren't in there\n",
    "aliases = {'em'}\n",
    "MASTER_RAPPER_SET = MASTER_RAPPER_SET|aliases"
   ]
  },
  {
   "cell_type": "markdown",
   "metadata": {
    "scrolled": false
   },
   "source": [
    "create_music_tables(estconn, bypass = True)\n",
    "bulk_load(estconn, ['mf_doom', 'chance_the_rapper'])"
   ]
  },
  {
   "cell_type": "code",
   "execution_count": 366,
   "metadata": {
    "collapsed": true,
    "scrolled": false
   },
   "outputs": [],
   "source": [
    "doom = basic_lyrc_pull(estconn, 'MF Doom')\n",
    "chance = basic_lyrc_pull(estconn, 'Chance The Rapper')\n",
    "em = basic_lyrc_pull(estconn, 'Eminem')"
   ]
  },
  {
   "cell_type": "code",
   "execution_count": 367,
   "metadata": {
    "collapsed": true
   },
   "outputs": [],
   "source": [
    "#need to find the best way to mark of important parts of the song,\n",
    "# {**} == not sure but one thing is can mean someone saying something\n",
    "# {?} == dont know line\n",
    "# [Artist] == i think this is when an artist s speaking\n",
    "# [yes] == can also mean like () whe someone says somthing, have to use [Capital First letter] to differentiate\n",
    "#or a great way to differentiate is to check contents of [] against db of artists with tolower and edge case for chorus or outro or intro\n",
    "# * == annotator notes\n",
    "# (action!) == i think this is sound of action, can also be someone saying something in track\n",
    "# () == someone saying something or repeat signal\n",
    "# (**) ==\n",
    "# looks like () and [] and {} are pretty much interchanchable and it matters a lot more whats inside\n",
    "# [???] == i think it means they didn't know\n",
    "# \"\" == i think this is when someone else is talking over the track\n",
    "# Man1: denoting that someone is speaking in a conversation\n",
    "#words = re.sub(\"([\\(\\[]).*?([\\)\\]])\", \"\", lyrics)\n",
    "#words = re.sub(\"\\n\",\"--\",words)\n"
   ]
  },
  {
   "cell_type": "code",
   "execution_count": 2,
   "metadata": {
    "collapsed": true
   },
   "outputs": [],
   "source": [
    "class text_segment():\n",
    "    def __init__(self, typ, label, start, end):\n",
    "        self.typ = typ\n",
    "        self.label = label\n",
    "        self.start = start\n",
    "        self.end = end\n",
    "    def gen_content(self, raw_text, next_start):\n",
    "        self.content = raw_text[self.end:next_start]\n",
    "\n",
    "class song():\n",
    "    #can consolidate this later if there's no benefit to differentiating, but cant have start with [ and end with ] or }\n",
    "    #regex are dope\n",
    "    regex_commands = {'[intro]':'\\[intro\\]',\n",
    "                      '[outro]':'\\[outro\\]',\n",
    "                      '[chorus]':'\\[.*chorus.*\\]',\n",
    "                      '[verse]':'\\[.*verse.*|.*bridge.*\\]',\n",
    "                      '[]':'\\[(?!intro|outro|.*chorus.*|.*verse.*|.*bridge.*).*\\]',\n",
    "                      '{}':'\\{(.*?)\\}',\n",
    "                      '\\n':'\\n',\n",
    "                      #still pulling others, may come back to this later\n",
    "                      #'**':'\\*(.*?)\\*',\n",
    "                      '{**}':'\\{\\*(.*?)\\*\\}',\n",
    "                      '()':'\\((.*?)\\)',\n",
    "                      '\"\"':'\"(.*?)\"',\n",
    "                      '?':'\\?+',\n",
    "                      '*text':'[\\n| ]\\*[^\\n|\\{|\\(|\\[]*'}\n",
    "                        #second part stops on \\n,{,[, or (, might need to add/take away more exceptions\n",
    "    \n",
    "    def __init__(self, raw_text, name):\n",
    "        self.raw_text = raw_text\n",
    "        self.name = name\n",
    "    \n",
    "    #basically want to go through dic and use a re ex to pull out the matching phrase and mark the spot in the string\n",
    "    #with the marks, I can cut up the lyrics accordingly, I use extras_set/extras_list to rank my segments in order\n",
    "    def assign_extras(self):\n",
    "        #record all special instances\n",
    "        self.extras = dict(zip(song.regex_commands.keys(), [[]]*len(song.regex_commands)))\n",
    "        #this will later be used to create song segments\n",
    "        extra_segs = set()\n",
    "        \n",
    "        for ext, regex_command in song.regex_commands.items():\n",
    "            finder = re.compile(regex_command)\n",
    "            ap_list = []\n",
    "            for match in finder.finditer(self.raw_text.lower()):\n",
    "                #match has a start pos and a match value, add to list to append\n",
    "                seg_type = ext\n",
    "                if match.group()[1:-1] in MASTER_RAPPER_SET:\n",
    "                    #this if statement is a catch all for rappers names mentioned to be sent to verse\n",
    "                    #wanna check things like '[eminem]' so [1:-1]\n",
    "                    #its painstacking but I want verse as accurate as possible\n",
    "                    seg_type = '[verse]'\n",
    "                    self.extras[seg_type].append((match.group(), (match.start(), match.start()+len(match.group()))))\n",
    "                else:\n",
    "                    ap_list.append((match.group(), (match.start(), match.start()+len(match.group()))))\n",
    "                \n",
    "                #determines what segments will be used to construct actual song\n",
    "                #basically each segment has start and end and song willbe build on raw text before and after these anchor points\n",
    "                if seg_type in ['[verse]', '[chorus]', '[intro]', '[outro]', '[]']:\n",
    "                    extra_segs = extra_segs|{((seg_type, match.group()),(match.start(), match.start()+len(match.group())))}\n",
    "            self.extras[ext] = ap_list\n",
    "            \n",
    "        #gonna be used for ranking purposes\n",
    "        self.extra_segs = sorted(list(extra_segs), key=lambda x: x[1][0])\n",
    "        \n",
    "    #this removes any of the regex formations above and recalculates the new positions\n",
    "    def remove_and_reass(self, rem = []):\n",
    "        for r in rem:\n",
    "            if r in song.regex_commands.keys():\n",
    "                self.raw_text = re.sub(song.regex_commands[r], '', self.raw_text)\n",
    "        self.assign_extras()\n",
    "    \n",
    "    #this make as a list that holds the segments in order. Each segment has a location and content of the segment\n",
    "    #this list of segments creates the song\n",
    "    def create_song_as_seg(self):\n",
    "        self.song_segmented = []\n",
    "        for index, extra in enumerate(self.extra_segs):\n",
    "            ex_type = extra[0][0]\n",
    "            ex_cont = extra[0][1]\n",
    "            ex_start = extra[1][0]\n",
    "            ex_end = extra[1][1]\n",
    "            \n",
    "            if not self.song_segmented:\n",
    "                #this means on first segment\n",
    "                seg = text_segment('-pre_text-', 'pre_text', 0, 0)\n",
    "                #pull until the first first real segment\n",
    "                seg.gen_content(self.raw_text, ex_start)\n",
    "                self.song_segmented = [seg]\n",
    "                \n",
    "            seg = text_segment(ex_type, ex_cont, ex_start, ex_end)\n",
    "            #if we're on the last tag the end is the end of string\n",
    "            if index == len(self.extra_segs):\n",
    "                #this means we're on the last segment\n",
    "                seg.gen_content(self.raw_text, len(self.raw_text))\n",
    "            else:\n",
    "                #pull the next segments start position so we know where to end\n",
    "                seg.gen_content(self.raw_text, self.extra_segs[index+1][1][0])\n",
    "            self.song_segmented.append(seg)\n",
    "            \n",
    "        \n",
    "    \n",
    "    "
   ]
  },
  {
   "cell_type": "code",
   "execution_count": 382,
   "metadata": {
    "collapsed": true,
    "scrolled": false
   },
   "outputs": [],
   "source": [
    "song_list = []\n",
    "for art, text in {**em, **doom, **chance}.items():\n",
    "    cur_song = song(text, art)\n",
    "    cur_song.assign_extras()\n",
    "    cur_song.remove_and_reass(['*text', '?'])\n",
    "    cur_song_list.append(cur_song)"
   ]
  },
  {
   "cell_type": "markdown",
   "metadata": {},
   "source": [
    "What you did last time:\n",
    "\n",
    "made ranking system for extras built into raw_lyrics class\n",
    "found a way to id verses, choruses, intro, outro, etc. via regex and list checking\n",
    "made inital class to hold each lyrics type\n",
    "\n",
    "next:\n",
    "TEST: feed in sorted list to make each block_text class type, all of those will be held in a song class, under attribute song_segmented\n",
    "now lyrics will have type\n",
    "play aroudn with colorizing lyrics based on type for quick texting\n",
    "\n",
    "goals:\n",
    "continue to clean\n",
    "build a good and anti edge case foundation so it's easy to keep builiding up\n",
    "lots of cleaning on comments and uncessary shit\n",
    "\n",
    "I think we're getting close!"
   ]
  },
  {
   "cell_type": "code",
   "execution_count": null,
   "metadata": {
    "collapsed": true
   },
   "outputs": [],
   "source": []
  },
  {
   "cell_type": "code",
   "execution_count": 371,
   "metadata": {
    "collapsed": true
   },
   "outputs": [],
   "source": [
    "estconn.close()"
   ]
  },
  {
   "cell_type": "code",
   "execution_count": null,
   "metadata": {
    "collapsed": true
   },
   "outputs": [],
   "source": []
  }
 ],
 "metadata": {
  "kernelspec": {
   "display_name": "Python 3",
   "language": "python",
   "name": "python3"
  },
  "language_info": {
   "codemirror_mode": {
    "name": "ipython",
    "version": 3
   },
   "file_extension": ".py",
   "mimetype": "text/x-python",
   "name": "python",
   "nbconvert_exporter": "python",
   "pygments_lexer": "ipython3",
   "version": "3.6.3"
  }
 },
 "nbformat": 4,
 "nbformat_minor": 2
}
