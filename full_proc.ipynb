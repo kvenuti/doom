{
 "cells": [
  {
   "cell_type": "code",
   "execution_count": 1,
   "metadata": {},
   "outputs": [],
   "source": [
    "import RAP_MASTER_LIB\n",
    "#MY LIBRARIES -- towards the end of project/when you need a break write up documentaiton of libraries\n",
    "#another library for plotting and testing\n",
    "from rap_scrpr import *\n",
    "from rap_db import *\n",
    "from rap_clean import*\n",
    "import matplotlib.pyplot as plt\n",
    "from statistics import mean, median \n",
    "estconn = pg2.connect(database='rap_songs', user='keenan', host='localhost', password='keenan')\n",
    "#create_music_tables(estconn)"
   ]
  },
  {
   "cell_type": "markdown",
   "metadata": {},
   "source": [
    "import RAP_MASTER_LIB\n",
    "import re\n",
    "from bs4 import BeautifulSoup\n",
    "import urllib\n",
    "import time\n",
    "import json\n",
    "import psycopg2 as pg2\n",
    "import psycopg2.extras\n",
    "\n",
    "from rap_scrpr import *\n",
    "from rap_db import *\n",
    "from rap_clean import*\n",
    "#nltk.download()\n",
    "from os import listdir\n",
    "from os.path import isfile, join\n",
    "\n",
    "estconn = pg2.connect(database='rap_songs', user='keenan', host='localhost', password='keenan')\n",
    "#create_music_tables(estconn)"
   ]
  },
  {
   "cell_type": "code",
   "execution_count": 2,
   "metadata": {},
   "outputs": [],
   "source": [
    "#scrape artist\n",
    "#create_music_tables(estconn, bypass = True)\n",
    "#new_artists = scrape_multi_artists(estconn, ['10sion'])\n",
    "#load them into db\n",
    "#bulk_load(estconn, new_artists)\n",
    "#create the artist, album, song, and verse objects\n",
    "#works = construct_artists(estconn, art_list = ['Del','Chance the Rapper','MF Doom','50 Cent'], use_ind_artists=False)"
   ]
  },
  {
   "cell_type": "code",
   "execution_count": 3,
   "metadata": {
    "scrolled": true
   },
   "outputs": [],
   "source": [
    "works = construct_artists(estconn, art_list = ['MF Doom'], use_ind_artists=False)"
   ]
  },
  {
   "cell_type": "markdown",
   "metadata": {
    "collapsed": true
   },
   "source": [
    "what you did\n",
    "implemented construct artists on the backend\n",
    "you enter artist, albums, songs and it filters any matchces it finds of that\n",
    "\n",
    "next is viz and modeling forsure"
   ]
  },
  {
   "cell_type": "markdown",
   "metadata": {},
   "source": [
    "CHANGING BACK END TO REMOVE SOUND EFFECTS LIKE (),{},**,ETC. IMPT, LEFT COMMENT AT LINE 197"
   ]
  },
  {
   "cell_type": "code",
   "execution_count": 4,
   "metadata": {
    "collapsed": true
   },
   "outputs": [],
   "source": [
    "#this is sick"
   ]
  },
  {
   "cell_type": "code",
   "execution_count": 5,
   "metadata": {
    "scrolled": true
   },
   "outputs": [
    {
     "name": "stdout",
     "output_type": "stream",
     "text": [
      "MF Doom\n"
     ]
    },
    {
     "data": {
      "image/png": "[encoded data removed]",
      "text/plain": [
       "<matplotlib.figure.Figure at 0x20cb7c70d30>"
      ]
     },
     "metadata": {},
     "output_type": "display_data"
    }
   ],
   "source": [
    "def quick_plot(artist_obj_list, b = 50):\n",
    "    #good start, build on ideas from here\n",
    "    #this is too messy for your final shit\n",
    "    for art in artist_obj_list:\n",
    "        #by verse\n",
    "        uniq_vs = []\n",
    "        for v in art.verses:\n",
    "            uniq_vs.append(len(v.unique_words)/len(v.all_words))\n",
    "        #by song\n",
    "        uniq_ss = []\n",
    "        for s in art.songs:\n",
    "            one_song = set()\n",
    "            one_song_all = []\n",
    "            for seg in s.segments:\n",
    "                if type(seg) == verse:\n",
    "                    one_song = one_song|seg.unique_words\n",
    "                    one_song_all.extend(seg.all_words)\n",
    "            if one_song and one_song_all:\n",
    "                uniq_ss.append(len(one_song)/len(one_song_all))\n",
    "        print(art.name)\n",
    "        \n",
    "        #graphs\n",
    "        rnd = 4\n",
    "        fig, (ax1,ax2) = plt.subplots(1,2, figsize=(10,4))\n",
    "        ax1.hist(uniq_vs, bins=b, color='green')\n",
    "        ax1.axvline(mean(uniq_vs), color='yellow', linestyle='dashed', linewidth=1)\n",
    "        ax1.axvline(median(uniq_vs), color='red', linestyle='solid', linewidth=1)\n",
    "        ax1.set_title('Verses:'+str(round(mean(uniq_vs),rnd))+' Med:'+str(round(median(uniq_vs),rnd)))\n",
    "        ax2.hist(uniq_ss, bins=b, color='blue')\n",
    "        ax2.axvline(mean(uniq_ss), color='yellow', linestyle='dashed', linewidth=1)\n",
    "        ax2.axvline(median(uniq_ss), color='red', linestyle='solid', linewidth=1)\n",
    "        fig.tight_layout()\n",
    "        ax2.set_title('Songs: Mean:'+str(round(mean(uniq_ss),rnd))+' Med:'+str(round(median(uniq_ss),rnd)))\n",
    "        plt.show()\n",
    "        #quick insight, leaving in [], {}, \"\", () lowered chances avg\n",
    "quick_plot(works)"
   ]
  },
  {
   "cell_type": "code",
   "execution_count": null,
   "metadata": {
    "collapsed": true
   },
   "outputs": [],
   "source": []
  },
  {
   "cell_type": "code",
   "execution_count": 8,
   "metadata": {},
   "outputs": [
    {
     "name": "stdout",
     "output_type": "stream",
     "text": [
      "0.95 \n",
      "looking at his henny sip\n",
      "look at little pretty chicks\n",
      "sucka's tryin to penny flip\n",
      "niggaz looping any shit\n",
      "\n",
      "\n",
      "\n",
      "0.9473684210526315 \n",
      "run up in your fucking lab looking for goodies\n",
      "a hundred tooties decked out in fatass robes and st vitus hoodies\n",
      "three man team screaming for vengeance\n",
      "i shed repentence until my last sentence\n",
      "time to end this\n",
      "\n",
      "0.9444444444444444 \n",
      "on the strength, she wasn't lent three cent\n",
      "got her own connect for free rent off the cement\n",
      "now what if that was your moms short arms \n",
      "quarter waters to bottles of dom bought the {}\n",
      "\n",
      "\n",
      "\n",
      "0.9444444444444444 \n",
      "just as the mask, some people wear a mask\n",
      "don't mean that they did something {*more laughter*}\n",
      "\n",
      "0.9375 \n",
      "no doubt \n",
      "krazy world, get it where you fit in...\n",
      "....\n",
      "\n",
      "\"attention: we have heard from the control center on monster island that the \n",
      "two monsters have broken out. all men stand by!\"\n",
      "\n"
     ]
    }
   ],
   "source": [
    "all_verses = []\n",
    "for v in works[0].verses:\n",
    "    all_verses.append((len(v.unique_words)/len(v.all_words), v.content, v.unique_words))\n",
    "all_verses = sorted(all_verses, reverse=True)\n",
    "\n",
    "for a in all_verses[:5]:\n",
    "    print(a[0], a[1])\n",
    "    print()"
   ]
  },
  {
   "cell_type": "code",
   "execution_count": null,
   "metadata": {
    "collapsed": true
   },
   "outputs": [],
   "source": []
  },
  {
   "cell_type": "markdown",
   "metadata": {
    "collapsed": true
   },
   "source": [
    "what you did\n",
    "\n",
    "literally two hours tix an insanneee verse bug\n",
    "but, increased accuracy of unique words by a lot\n",
    "revamped remove and reass method to be way more accurate/usable\n",
    "\n",
    "what's next\n",
    "make meta data calcs and graphing backend\n",
    "possibly add that stuff to db (maybe)"
   ]
  },
  {
   "cell_type": "code",
   "execution_count": null,
   "metadata": {
    "collapsed": true
   },
   "outputs": [],
   "source": []
  },
  {
   "cell_type": "code",
   "execution_count": 7,
   "metadata": {
    "collapsed": true
   },
   "outputs": [],
   "source": [
    "#estconn.close()"
   ]
  },
  {
   "cell_type": "code",
   "execution_count": null,
   "metadata": {
    "collapsed": true
   },
   "outputs": [],
   "source": []
  }
 ],
 "metadata": {
  "kernelspec": {
   "display_name": "Python 3",
   "language": "python",
   "name": "python3"
  },
  "language_info": {
   "codemirror_mode": {
    "name": "ipython",
    "version": 3
   },
   "file_extension": ".py",
   "mimetype": "text/x-python",
   "name": "python",
   "nbconvert_exporter": "python",
   "pygments_lexer": "ipython3",
   "version": "3.6.1"
  }
 },
 "nbformat": 4,
 "nbformat_minor": 2
}
