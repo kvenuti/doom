{
 "cells": [
  {
   "cell_type": "code",
   "execution_count": 1,
   "metadata": {},
   "outputs": [
    {
     "name": "stderr",
     "output_type": "stream",
     "text": [
      "/home/keenan/anaconda3/lib/python3.6/site-packages/psycopg2/__init__.py:144: UserWarning: The psycopg2 wheel package will be renamed from release 2.8; in order to keep installing from binary please use \"pip install psycopg2-binary\" instead. For details see: <http://initd.org/psycopg/docs/install.html#binary-install-from-pypi>.\n",
      "  \"\"\")\n"
     ]
    }
   ],
   "source": [
    "from rap_scrpr import *\n",
    "from rap_db import *\n",
    "#nltk.download()\n",
    "from os import listdir\n",
    "from os.path import isfile, join\n",
    "\n",
    "estconn = pg2.connect(database='rap_songs', user='keenan', host='localhost', password='keenan')\n",
    "#create_music_tables(estconn)"
   ]
  },
  {
   "cell_type": "code",
   "execution_count": 2,
   "metadata": {
    "collapsed": true
   },
   "outputs": [],
   "source": [
    "#for show\n",
    "#this is a full add from start to \n",
    "def scrape_multi_artists(art_dic):\n",
    "    ret_list = []\n",
    "    for art, page in artist_to_scrape.items():\n",
    "        #latency timing of 1\n",
    "        scraped_songs = raw_clean(song_scrape(song_links(page)), art)\n",
    "        #back up scrape after clean\n",
    "        with open('json_lyrics/'+art+'_raw.json', 'w') as outfile:\n",
    "            json.dump(scraped_songs, outfile)\n",
    "        print(art+'_raw.json made!')\n",
    "        ret_list.append(art+'_raw.json')\n",
    "    return ret_list\n",
    "        \n",
    "def bulk_load(conn, new_eds = []):\n",
    "    if not new_eds:\n",
    "        new_eds = [f for f in listdir('json_lyrics/') if isfile(join('json_lyrics/', f))]\n",
    "    for new in new_eds:\n",
    "        songs = json.load(open('json_lyrics/'+new))\n",
    "        art_name = new.replace(\"_raw.json\",\"\")\n",
    "        add_base(conn, art_name)\n",
    "        for name, works in songs.items():\n",
    "            if 'raw_song_' not in name:\n",
    "                add_songs(conn, art_name, name, works)\n",
    "        print(new+\" added!\")"
   ]
  },
  {
   "cell_type": "code",
   "execution_count": null,
   "metadata": {
    "collapsed": true
   },
   "outputs": [],
   "source": [
    "#boolean tells it if its one of two style pages, in final product scrape an artist\n",
    "#artist_to_scrape =  {'chance_the_rapper': ('http://ohhla.com/anonymous/chancetr/', True)}\n",
    "#HAVE TO RESCRAPE, CLEANING PROCESS TOOK OUT VITAL INFO\n",
    "artist_to_scrape = {'del':'http://www.ohhla.com/YFA_del.html'}\n",
    "added = scrape_multi_artists(artist_to_scrape)\n",
    "#now safely stored in json file filled folder\n",
    "#create_music_tables(estconn, bypass = True)\n",
    "#now load them into db\n",
    "bulk_load(estconn)"
   ]
  },
  {
   "cell_type": "markdown",
   "metadata": {
    "scrolled": false
   },
   "source": [
    "create_music_tables(estconn, bypass = True)\n",
    "bulk_load(estconn, ['mf_doom', 'chance_the_rapper'])"
   ]
  },
  {
   "cell_type": "code",
   "execution_count": 5,
   "metadata": {
    "collapsed": true,
    "scrolled": false
   },
   "outputs": [],
   "source": [
    "#basic_lyrc_pull(estconn, 'MF Doom')"
   ]
  },
  {
   "cell_type": "code",
   "execution_count": 4,
   "metadata": {
    "collapsed": true
   },
   "outputs": [],
   "source": [
    "#\n",
    "estconn.close()"
   ]
  },
  {
   "cell_type": "code",
   "execution_count": null,
   "metadata": {
    "collapsed": true
   },
   "outputs": [],
   "source": []
  }
 ],
 "metadata": {
  "kernelspec": {
   "display_name": "Python 3",
   "language": "python",
   "name": "python3"
  },
  "language_info": {
   "codemirror_mode": {
    "name": "ipython",
    "version": 3
   },
   "file_extension": ".py",
   "mimetype": "text/x-python",
   "name": "python",
   "nbconvert_exporter": "python",
   "pygments_lexer": "ipython3",
   "version": "3.6.1"
  }
 },
 "nbformat": 4,
 "nbformat_minor": 2
}
