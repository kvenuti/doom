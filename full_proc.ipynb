{
 "cells": [
  {
   "cell_type": "code",
   "execution_count": 1,
   "metadata": {},
   "outputs": [],
   "source": [
    "import RAP_MASTER_LIB\n",
    "#MY LIBRARIES\n",
    "\n",
    "from rap_scrpr import *\n",
    "from rap_db import *\n",
    "from rap_clean import*\n",
    "\n",
    "estconn = pg2.connect(database='rap_songs', user='keenan', host='localhost', password='keenan')\n",
    "#create_music_tables(estconn)"
   ]
  },
  {
   "cell_type": "markdown",
   "metadata": {},
   "source": [
    "import RAP_MASTER_LIB\n",
    "import re\n",
    "from bs4 import BeautifulSoup\n",
    "import urllib\n",
    "import time\n",
    "import json\n",
    "import psycopg2 as pg2\n",
    "import psycopg2.extras\n",
    "\n",
    "from rap_scrpr import *\n",
    "from rap_db import *\n",
    "from rap_clean import*\n",
    "#nltk.download()\n",
    "from os import listdir\n",
    "from os.path import isfile, join\n",
    "\n",
    "estconn = pg2.connect(database='rap_songs', user='keenan', host='localhost', password='keenan')\n",
    "#create_music_tables(estconn)"
   ]
  },
  {
   "cell_type": "code",
   "execution_count": 2,
   "metadata": {
    "collapsed": true
   },
   "outputs": [],
   "source": [
    "#for show\n",
    "#scrape artist\n",
    "def scrape_multi_artists(conn, artist_list):\n",
    "    ret_list = []\n",
    "    for art in artist_list:\n",
    "        page = pull_link(conn, art)\n",
    "        scraped_songs = full_artist_scrape(page, art)\n",
    "        art_file = art.replace(' ', '_').lower()\n",
    "        #back up scrape after clean\n",
    "        with open('json_lyrics/'+art_file+'_raw.json', 'w') as outfile:\n",
    "            json.dump(scraped_songs, outfile)\n",
    "        print(art_file+'_raw.json made!')\n",
    "        ret_list.append(art_file+'_raw.json')\n",
    "    return ret_list\n",
    "\n",
    "#load them into db\n",
    "def bulk_load(conn, new_eds = []):\n",
    "    if not new_eds:\n",
    "        new_eds = [f for f in listdir('json_lyrics/') if isfile(join('json_lyrics/', f))]\n",
    "    for new in new_eds:\n",
    "        songs = json.load(open('json_lyrics/'+new))\n",
    "        art_name = new.replace(\"_raw.json\",\"\")\n",
    "        add_base(conn, art_name)\n",
    "        for name, works in songs.items():\n",
    "            if 'raw_song_' not in name:\n",
    "                add_songs(conn, art_name, name, works)\n",
    "        print(new+\" added!\")\n",
    "\n",
    "#MAY GET RID OF THIS OR USE PERCISE PULL FOR PERFORMANCE\n",
    "        \n",
    "#pull from db and make song objects\n",
    "def construct_artists(art_list = [''], alb_list = [''], sng_list = ['']):\n",
    "    #pull from db\n",
    "    db_records = adv_pull(estconn, art_list, alb_list, sng_list)\n",
    "    \n",
    "    artists = []\n",
    "    #make song objs\n",
    "    for art, albs in db_records.items():\n",
    "        \n",
    "        album_objs = []\n",
    "        for alb_name, sngs in albs.items():\n",
    "            song_objs = []\n",
    "            for sng_name, lyrc in sngs.items():\n",
    "                song_obj = song(lyrc, sng_name, art)\n",
    "                song_obj.assign_extras()\n",
    "                song_obj.remove_and_reass()\n",
    "                song_obj.create_song_as_seg()\n",
    "                song_objs.append(song_obj)\n",
    "            album_obj = album(art, alb_name, song_objs)\n",
    "            #extra verse cleaning\n",
    "            for v in album_obj.verses:\n",
    "                v.run_all_split()\n",
    "            album_objs.append(album_obj)\n",
    "\n",
    "        artist_obj = artist(art, album_objs)\n",
    "        artists.append(artist_obj)\n",
    "    return artists"
   ]
  },
  {
   "cell_type": "code",
   "execution_count": 3,
   "metadata": {},
   "outputs": [],
   "source": [
    "#boolean tells it if its one of two style pages, in final product scrape an artist\n",
    "#artists_to_scrape =  ['Buckwild']\n",
    "#HAVE TO RESCRAPE, CLEANING PROCESS TOOK OUT VITAL INFO\n",
    "#artist_to_scrape = {'del':'http://www.ohhla.com/YFA_del.html'}\n",
    "#create_music_tables(estconn, bypass = True)\n",
    "#added = scrape_multi_artists(estconn, artists_to_scrape)\n",
    "#now safely stored in json file filled folder\n",
    "#create_music_tables(estconn, bypass = True)\n",
    "#now load them into db\n",
    "#bulk_load(estconn, added)"
   ]
  },
  {
   "cell_type": "code",
   "execution_count": 4,
   "metadata": {
    "collapsed": true
   },
   "outputs": [],
   "source": [
    "ar = construct_artists(['Chance The Rapper', 'Odd Future'], ['10 Day (Mixtape)', 'Acid Rap'])"
   ]
  },
  {
   "cell_type": "code",
   "execution_count": 5,
   "metadata": {},
   "outputs": [
    {
     "data": {
      "text/plain": [
       "[<rap_clean.album at 0x1f84c1dd9b0>, <rap_clean.album at 0x1f84c2aeeb8>]"
      ]
     },
     "execution_count": 5,
     "metadata": {},
     "output_type": "execute_result"
    }
   ],
   "source": [
    "ar[0].albums"
   ]
  },
  {
   "cell_type": "markdown",
   "metadata": {
    "collapsed": true
   },
   "source": [
    "what you did\n",
    "\n",
    "so much hard to tell tbh\n",
    "made artist, album classes, finished clean library and added all verse cleaning,\n",
    "made an upgraded way to pull from db,\n",
    "set up first function to feed artists and spit out objects, smart too\n",
    "touched up typos, cleaned clean library\n",
    "also made easier way to scrape\n",
    "soooo much shit\n",
    "probably need cleaning before final publsih\n",
    "and consolidated master library\n",
    "\n",
    "next is viz and modeling forsure\n"
   ]
  },
  {
   "cell_type": "code",
   "execution_count": 7,
   "metadata": {
    "collapsed": true
   },
   "outputs": [],
   "source": [
    "estconn.close()"
   ]
  },
  {
   "cell_type": "code",
   "execution_count": null,
   "metadata": {
    "collapsed": true
   },
   "outputs": [],
   "source": []
  }
 ],
 "metadata": {
  "kernelspec": {
   "display_name": "Python 3",
   "language": "python",
   "name": "python3"
  },
  "language_info": {
   "codemirror_mode": {
    "name": "ipython",
    "version": 3
   },
   "file_extension": ".py",
   "mimetype": "text/x-python",
   "name": "python",
   "nbconvert_exporter": "python",
   "pygments_lexer": "ipython3",
   "version": "3.6.1"
  }
 },
 "nbformat": 4,
 "nbformat_minor": 2
}
