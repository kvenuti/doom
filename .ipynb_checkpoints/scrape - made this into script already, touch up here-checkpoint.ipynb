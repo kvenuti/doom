{
 "cells": [
  {
   "cell_type": "code",
   "execution_count": 1,
   "metadata": {
    "collapsed": true
   },
   "outputs": [],
   "source": [
    "from bs4 import BeautifulSoup\n",
    "import urllib\n",
    "import re\n",
    "import json\n",
    "import time"
   ]
  },
  {
   "cell_type": "code",
   "execution_count": 2,
   "metadata": {
    "collapsed": true
   },
   "outputs": [],
   "source": [
    "r = urllib.request.urlopen('http://ohhla.com/YFA_mfdoom.html').read()\n",
    "soup = BeautifulSoup(r, 'html.parser')"
   ]
  },
  {
   "cell_type": "code",
   "execution_count": 3,
   "metadata": {
    "collapsed": true,
    "scrolled": false
   },
   "outputs": [],
   "source": [
    "song_list = []\n",
    "for a in soup.find_all('a'):\n",
    "    if '.txt\">' in str(a):\n",
    "        lines = str(a).split('\">')\n",
    "        match = re.search(r'href=[\\'\"]?([^\\'\" >]+)', lines[0])\n",
    "        link = match.group(1)\n",
    "        title = lines[1][:-4]\n",
    "        song_list.append(link)"
   ]
  },
  {
   "cell_type": "code",
   "execution_count": 4,
   "metadata": {},
   "outputs": [
    {
     "data": {
      "text/plain": [
       "['anonymous/kmd/mr_hood/crackpot.kmd.txt',\n",
       " 'anonymous/kmd/mr_hood/who_me.kmd.txt',\n",
       " 'anonymous/kmd/mr_hood/boogie.kmd.txt',\n",
       " 'anonymous/kmd/mr_hood/subrocs.kmd.txt',\n",
       " 'anonymous/kmd/mr_hood/humrush.kmd.txt']"
      ]
     },
     "execution_count": 4,
     "metadata": {},
     "output_type": "execute_result"
    }
   ],
   "source": [
    "song_list[:5]"
   ]
  },
  {
   "cell_type": "code",
   "execution_count": 6,
   "metadata": {
    "scrolled": true
   },
   "outputs": [
    {
     "name": "stdout",
     "output_type": "stream",
     "text": [
      "Succesfully scraped: anonymous/kmd/mr_hood/crackpot.kmd.txt\n",
      "Succesfully scraped: anonymous/kmd/mr_hood/who_me.kmd.txt\n",
      "Succesfully scraped: anonymous/kmd/mr_hood/boogie.kmd.txt\n",
      "Succesfully scraped: anonymous/kmd/mr_hood/subrocs.kmd.txt\n",
      "Succesfully scraped: anonymous/kmd/mr_hood/humrush.kmd.txt\n",
      "Succesfully scraped: anonymous/kmd/mr_hood/figureof.kmd.txt\n",
      "Succesfully scraped: anonymous/kmd/mr_hood/b_blues.kmd.txt\n",
      "Succesfully scraped: anonymous/kmd/mr_hood/n_gritty.kmd.txt\n",
      "Succesfully scraped: anonymous/kmd/mr_hood/trial_n.kmd.txt\n",
      "Succesfully scraped: anonymous/kmd/mr_hood/hard_wit.kmd.txt\n",
      "Succesfully scraped: anonymous/kmd/mr_hood/808_man.kmd.txt\n",
      "Succesfully scraped: anonymous/kmd/mr_hood/boy_who.kmd.txt\n",
      "Succesfully scraped: anonymous/kmd/mr_hood/peachfzz.kmd.txt\n",
      "Succesfully scraped: anonymous/kmd/mr_hood/porkchop.kmd.txt\n",
      "Succesfully scraped: anonymous/kmd/mr_hood/soulflex.kmd.txt\n",
      "Succesfully scraped: anonymous/kmd/mr_hood/g_refill.kmd.txt\n",
      "Succesfully scraped: anonymous/mf_doom/doomsday/doomsday.mfd.txt\n",
      "Succesfully scraped: anonymous/mf_doom/doomsday/rhymes.mfd.txt\n",
      "Succesfully scraped: anonymous/mf_doom/doomsday/finest.mfd.txt\n",
      "Succesfully scraped: anonymous/mf_doom/doomsday/the_flow.mfd.txt\n",
      "Succesfully scraped: anonymous/mf_doom/doomsday/ticktick.mfd.txt\n",
      "Succesfully scraped: anonymous/mf_doom/doomsday/red_gold.mfd.txt\n",
      "Succesfully scraped: anonymous/mf_doom/doomsday/whothink.mfd.txt\n",
      "Succesfully scraped: anonymous/mf_doom/doomsday/hey.mfd.txt\n",
      "Succesfully scraped: anonymous/mf_doom/doomsday/greenbck.mfd.txt\n",
      "Succesfully scraped: anonymous/mf_doom/doomsday/the_mic.mfd.txt\n",
      "Succesfully scraped: anonymous/mf_doom/doomsday/deadbent.mfd.txt\n",
      "Succesfully scraped: anonymous/mf_doom/doomsday/gas_draw.mfd.txt\n",
      "Succesfully scraped: anonymous/mf_doom/doomsday/question.mfd.txt\n",
      "Succesfully scraped: anonymous/mf_doom/doomsday/hero_vs.mfd.txt\n",
      "Succesfully scraped: anonymous/mf_doom/takemeto/nosnakes.mfd.txt\n",
      "Succesfully scraped: anonymous/mf_grimm/mfandmf/impostas.mfg.txt\n",
      "Succesfully scraped: anonymous/mf_grimm/mfandmf/break_em.mfg.txt\n",
      "Succesfully scraped: anonymous/kmd/bastards/g_u_n.kmd.txt\n",
      "Succesfully scraped: anonymous/kmd/bastards/whatanig.kmd.txt\n",
      "Succesfully scraped: anonymous/kmd/bastards/sweetpre.kmd.txt\n",
      "Succesfully scraped: anonymous/kmd/bastards/plums.kmd.txt\n",
      "Succesfully scraped: anonymous/kmd/bastards/smokints.kmd.txt\n",
      "Succesfully scraped: anonymous/kmd/bastards/contact.kmd.txt\n",
      "Succesfully scraped: anonymous/kmd/bastards/gimme.kmd.txt\n",
      "Succesfully scraped: anonymous/kmd/bastards/blk_bast.kmd.txt\n",
      "Succesfully scraped: anonymous/kmd/bastards/it_sound.kmd.txt\n",
      "Succesfully scraped: anonymous/kmd/bastards/plums.kmd.txt\n",
      "Succesfully scraped: anonymous/kmd/bastards/constip.kmd.txt\n",
      "Succesfully scraped: anonymous/kmd/bastards/fuck_wit.kmd.txt\n",
      "Succesfully scraped: anonymous/kmd/bastards/suspend.kmd.txt\n",
      "Succesfully scraped: anonymous/kmd/bastards/whtremix.kmd.txt\n",
      "Succesfully scraped: anonymous/mi_czars/escape/12_12.mic.txt\n",
      "Succesfully scraped: anonymous/mi_czars/escape/sumthin.mic.txt\n",
      "Succesfully scraped: anonymous/mi_czars/escape/control.mic.txt\n",
      "Succesfully scraped: anonymous/mf_doom/takemeto/fazers.mfd.txt\n",
      "Succesfully scraped: anonymous/mf_doom/takemeto/fastlane.mfd.txt\n",
      "Succesfully scraped: anonymous/mf_doom/takemeto/krazy_wo.mfd.txt\n",
      "Succesfully scraped: anonymous/mf_doom/takemeto/thefinal.mfd.txt\n",
      "Succesfully scraped: anonymous/mf_doom/takemeto/impress.mfd.txt\n",
      "Succesfully scraped: anonymous/mf_doom/takemeto/nosnakes.mfd.txt\n",
      "Succesfully scraped: anonymous/mf_doom/takemeto/anti_mat.mfd.txt\n",
      "Succesfully scraped: anonymous/mf_doom/takemeto/lockjaw.mfd.txt\n",
      "Succesfully scraped: anonymous/mf_doom/takemeto/i_wonder.mfd.txt\n",
      "Succesfully scraped: anonymous/mf_doom/takemeto/fi_print.mfd.txt\n",
      "Succesfully scraped: anonymous/mf_doom/vaudevil/villain.mfd.txt\n",
      "Succesfully scraped: anonymous/mf_doom/vaudevil/lickupon.mfd.txt\n",
      "Succesfully scraped: anonymous/mf_doom/vaudevil/the_drop.mfd.txt\n",
      "Succesfully scraped: anonymous/mf_doom/vaudevil/lactose.mfd.txt\n",
      "Succesfully scraped: anonymous/mf_doom/vaudevil/dead_mse.mfd.txt\n",
      "Succesfully scraped: anonymous/mf_doom/vaudevil/raedawn.mfd.txt\n",
      "Succesfully scraped: anonymous/mf_doom/vaudevil/me_watch.mfd.txt\n",
      "Succesfully scraped: anonymous/mf_doom/vaudevil/saliva.mfd.txt\n",
      "Succesfully scraped: anonymous/mf_doom/vaudevil/mugging.mfd.txt\n",
      "Succesfully scraped: anonymous/mf_doom/vaudevil/nev_dead.mfd.txt\n",
      "Succesfully scraped: anonymous/mf_doom/vaudevil/popsnot.mfd.txt\n",
      "Succesfully scraped: anonymous/mf_doom/vaudevil/mr_clean.mfd.txt\n",
      "Succesfully scraped: anonymous/mf_doom/vaudevil/gmc.mfd.txt\n",
      "Succesfully scraped: anonymous/mf_doom/vaudevil/change.mfd.txt\n",
      "Succesfully scraped: anonymous/kmd/mr_hood/subrocs.kmd.txt\n",
      "Succesfully scraped: anonymous/kmd/mr_hood/who_me.kmd.txt\n",
      "Succesfully scraped: anonymous/kmd/mr_hood/trial_n.kmd.txt\n",
      "Succesfully scraped: anonymous/kmd/mr_hood/hard_wit.kmd.txt\n",
      "Succesfully scraped: anonymous/kmd/mr_hood/808_man.kmd.txt\n",
      "Succesfully scraped: anonymous/kmd/mr_hood/humrush.kmd.txt\n",
      "Succesfully scraped: anonymous/kmd/mr_hood/n_gritty.kmd.txt\n",
      "Succesfully scraped: anonymous/kmd/mr_hood/peachfzz.kmd.txt\n",
      "Succesfully scraped: anonymous/kmd/mr_hood/porkchop.kmd.txt\n",
      "Succesfully scraped: anonymous/kmd/bastards/whatanig.kmd.txt\n",
      "Succesfully scraped: anonymous/kmd/bastards/sweetpre.kmd.txt\n",
      "Succesfully scraped: anonymous/kmd/bastards/smokints.kmd.txt\n",
      "Succesfully scraped: anonymous/kmd/bastards/contact.kmd.txt\n",
      "Succesfully scraped: anonymous/kmd/bastards/gimme.kmd.txt\n",
      "Succesfully scraped: anonymous/kmd/bastards/blk_bast.kmd.txt\n",
      "Succesfully scraped: anonymous/kmd/bastards/it_sound.kmd.txt\n",
      "Succesfully scraped: anonymous/kmd/bastards/plums.kmd.txt\n",
      "Succesfully scraped: anonymous/kmd/rm_bside/popcorn.kmd.txt\n",
      "Succesfully scraped: anonymous/kmd/rm_bside/ng_remix.kmd.txt\n",
      "Succesfully scraped: anonymous/mf_doom/madvill/accord.mfd.txt\n",
      "Succesfully scraped: anonymous/mf_doom/madvill/meat_gri.mfd.txt\n",
      "Succesfully scraped: anonymous/mf_doom/madvill/raid.mfd.txt\n",
      "Succesfully scraped: anonymous/mf_doom/madvill/americas.mfd.txt\n",
      "Succesfully scraped: anonymous/mf_doom/madvill/rainbows.mfd.txt\n",
      "Succesfully scraped: anonymous/mf_doom/madvill/curls.mfd.txt\n",
      "Succesfully scraped: anonymous/mf_doom/madvill/moneyfld.mfd.txt\n",
      "Succesfully scraped: anonymous/mf_doom/madvill/shadows.mfd.txt\n",
      "Succesfully scraped: anonymous/mf_doom/madvill/op_life.mfd.txt\n",
      "Succesfully scraped: anonymous/mf_doom/madvill/figaro.mfd.txt\n",
      "Succesfully scraped: anonymous/mf_doom/madvill/hardcore.mfd.txt\n",
      "Succesfully scraped: anonymous/mf_doom/madvill/strange.mfd.txt\n",
      "Succesfully scraped: anonymous/mf_doom/madvill/fancyclo.mfd.txt\n",
      "Succesfully scraped: anonymous/mf_doom/madvill/eye.mfd.txt\n",
      "Succesfully scraped: anonymous/mf_doom/madvill/all_caps.mfd.txt\n",
      "Succesfully scraped: anonymous/mf_doom/madvill/greatday.mfd.txt\n",
      "Succesfully scraped: anonymous/mf_doom/madvill/rhinest.mfd.txt\n",
      "Succesfully scraped: anonymous/mf_doom/venomous/back_end.mfd.txt\n",
      "Succesfully scraped: anonymous/mf_doom/venomous/fallback.mfd.txt\n",
      "Succesfully scraped: anonymous/mf_doom/venomous/rap_game.mfd.txt\n",
      "Succesfully scraped: anonymous/mf_doom/venomous/dpeskill.mfd.txt\n",
      "Succesfully scraped: anonymous/mf_doom/venomous/dprskill.mfd.txt\n",
      "Succesfully scraped: anonymous/mf_doom/venomous/ode2road.mfd.txt\n",
      "Succesfully scraped: anonymous/mf_doom/venomous/bl_chain.mfd.txt\n",
      "Succesfully scraped: anonymous/mf_doom/venomous/popremix.mfd.txt\n",
      "Succesfully scraped: anonymous/mf_doom/mm_food/beefrapp.mfd.txt\n",
      "Succesfully scraped: anonymous/mf_doom/mm_food/hoecakes.mfd.txt\n",
      "Succesfully scraped: anonymous/mf_doom/mm_food/pothold.mfd.txt\n",
      "Succesfully scraped: anonymous/mf_doom/mm_food/one_beer.mfd.txt\n",
      "Succesfully scraped: anonymous/mf_doom/mm_food/df_frenz.mfd.txt\n",
      "Succesfully scraped: anonymous/mf_doom/mm_food/konkarne.mfd.txt\n",
      "Succesfully scraped: anonymous/mf_doom/mm_food/guinness.mfd.txt\n",
      "Succesfully scraped: anonymous/mf_doom/mm_food/konqueso.mfd.txt\n",
      "Succesfully scraped: anonymous/mf_doom/mm_food/rapp_sni.mfd.txt\n",
      "Succesfully scraped: anonymous/mf_doom/mm_food/vomitspt.mfd.txt\n",
      "Succesfully scraped: anonymous/mf_doom/mm_food/kookies.mfd.txt\n",
      "Succesfully scraped: anonymous/mf_doom/rm_bside/bl_drunk.mfd.txt\n",
      "Succesfully scraped: anonymous/mf_doom/rm_bside/f_ladies.mfd.txt\n",
      "Succesfully scraped: anonymous/mf_doom/themouse/el_chupa.mfd.txt\n"
     ]
    },
    {
     "name": "stdout",
     "output_type": "stream",
     "text": [
      "Succesfully scraped: anonymous/mf_doom/themouse/sofaking.mfd.txt\n",
      "Succesfully scraped: anonymous/mf_doom/themouse/the_mask.mfd.txt\n",
      "Succesfully scraped: anonymous/mf_doom/themouse/braksrap.mfd.txt\n",
      "Succesfully scraped: anonymous/mf_doom/themouse/perfect.mfd.txt\n",
      "Succesfully scraped: anonymous/mf_doom/themouse/benzie.mfd.txt\n",
      "Succesfully scraped: anonymous/mf_doom/themouse/oldskool.mfd.txt\n",
      "Succesfully scraped: anonymous/mf_doom/themouse/athf.mfd.txt\n",
      "Succesfully scraped: anonymous/mf_doom/themouse/basket.mfd.txt\n",
      "Succesfully scraped: anonymous/mf_doom/themouse/no_names.mfd.txt\n",
      "Succesfully scraped: anonymous/mf_doom/themouse/cross.mfd.txt\n",
      "Succesfully scraped: anonymous/mf_doom/themouse/mince_mt.mfd.txt\n",
      "Succesfully scraped: anonymous/mf_doom/themouse/vaturine.mfd.txt\n",
      "Succesfully scraped: anonymous/mf_doom/themouse/spacehos.mfd.txt\n",
      "Succesfully scraped: anonymous/mf_doom/themouse/badabing.mfd.txt\n",
      "Succesfully scraped: anonymous/mf_doom/themouse/beef_rap.mfd.txt\n",
      "Succesfully scraped: anonymous/mf_doom/occultep/chuparmx.mfd.txt\n",
      "Succesfully scraped: anonymous/mf_doom/occultep/perfect2.mfd.txt\n",
      "Succesfully scraped: anonymous/mf_doom/occultep/korndogs.mfd.txt\n",
      "Succesfully scraped: anonymous/mf_doom/occultep/sofa_rmx.mfd.txt\n",
      "Succesfully scraped: anonymous/mf_doom/occultep/spacermx.mfd.txt\n",
      "Succesfully scraped: anonymous/mf_doom/bornlike/gazillon.mfd.txt\n",
      "Succesfully scraped: anonymous/mf_doom/bornlike/ballskin.mfd.txt\n",
      "Succesfully scraped: anonymous/mf_doom/bornlike/yessir.mfd.txt\n",
      "Succesfully scraped: anonymous/mf_doom/bornlike/absolute.mfd.txt\n",
      "Succesfully scraped: anonymous/mf_doom/bornlike/rpambush.mfd.txt\n",
      "Succesfully scraped: anonymous/mf_doom/bornlike/lightwrk.mfd.txt\n",
      "Succesfully scraped: anonymous/mf_doom/bornlike/battybys.mfd.txt\n",
      "Succesfully scraped: anonymous/mf_doom/bornlike/angelz.mfd.txt\n",
      "Succesfully scraped: anonymous/mf_doom/bornlike/cellz.mfd.txt\n",
      "Succesfully scraped: anonymous/mf_doom/bornlike/stilldpe.mfd.txt\n",
      "Succesfully scraped: anonymous/mf_doom/bornlike/microwve.mfd.txt\n",
      "Succesfully scraped: anonymous/mf_doom/bornlike/more_rhy.mfd.txt\n",
      "Succesfully scraped: anonymous/mf_doom/bornlike/thats_th.mfd.txt\n",
      "Succesfully scraped: anonymous/mf_doom/bornlike/supervil.mfd.txt\n",
      "Succesfully scraped: anonymous/mf_doom/rm_bside/mnksuite.mfd.txt\n",
      "Succesfully scraped: anonymous/doomstar/rm_bside/victory.mfd.txt\n",
      "Succesfully scraped: anonymous/ghfkilla/rm_bside/gtachina.ghf.txt\n",
      "Succesfully scraped: anonymous/mf_doom/rm_bside/i_hear.mfd.txt\n",
      "Succesfully scraped: anonymous/mf_doom/rm_bside/isheill.mfd.txt\n",
      "Succesfully scraped: anonymous/rap_comp/nasounds/angeles.nsc.txt\n",
      "Succesfully scraped: anonymous/kmd/rm_bside/ng_remix.kmd.txt\n",
      "Succesfully scraped: anonymous/mf_doom/rm_bside/newbegin.mfd.txt\n",
      "Succesfully scraped: anonymous/mf_doom/rm_bside/f_ladies.mfd.txt\n",
      "Succesfully scraped: anonymous/rap_comp/thinkdif/biochem.tdm.txt\n",
      "Succesfully scraped: anonymous/3rd_bass/derelict/ace_hole.3rd.txt\n",
      "Succesfully scraped: anonymous/3rd_bass/cactus/gas_face.3rd.txt\n",
      "Succesfully scraped: anonymous/b_rhymes/abstract/instreet.brm.txt\n",
      "Succesfully scraped: anonymous/delasoul/grind/rock_co.dls.txt\n",
      "Succesfully scraped: anonymous/dj_babu/duckvol3/unexpect.bab.txt\n",
      "Succesfully scraped: anonymous/djnumark/rm_bside/melodyrm.mrk.txt\n",
      "Succesfully scraped: anonymous/flylotus/rm_bside/masquat.fly.txt\n",
      "Succesfully scraped: anonymous/ghfkilla/soursoul/ray_gun.ghf.txt\n",
      "Succesfully scraped: anonymous/gorillaz/demonday/november.gor.txt\n",
      "Succesfully scraped: anonymous/h_razah/renchild/pro_jazz.raz.txt\n",
      "Succesfully scraped: anonymous/iconking/vomit/subabuse.icn.txt\n",
      "Succesfully scraped: anonymous/jake_one/whitevan/geterdne.jke.txt\n",
      "Succesfully scraped: anonymous/jake_one/whitevan/trapdoor.jke.txt\n",
      "Succesfully scraped: anonymous/jay_dee/jay_stay/firewood.dee.txt\n",
      "Succesfully scraped: anonymous/MA_doom/yvonne/thinkiam.mad.txt\n",
      "Succesfully scraped: anonymous/mf_grimm/scarsand/takeemto.mfg.txt\n",
      "Succesfully scraped: anonymous/molemen/ritualof/quarter.mol.txt\n",
      "Succesfully scraped: anonymous/non_phix/future/strange.non.txt\n",
      "Succesfully scraped: anonymous/prefse73/vocal_st/blacklst.p73.txt\n",
      "Succesfully scraped: anonymous/prhyme/prhyme/highsand.prh.txt\n",
      "Succesfully scraped: anonymous/quasimot/further/closer.mto.txt\n",
      "Succesfully scraped: anonymous/t_kweli/rightnow/fly_that.tab.txt\n",
      "Succesfully scraped: anonymous/j-toth/rm_bside/ghstwhrl.jon.txt\n"
     ]
    }
   ],
   "source": [
    "song_text = []\n",
    "for song in song_list:\n",
    "    #do this just in case so we don't lose the whole scrape\n",
    "    try:\n",
    "        page = urllib.request.urlopen(\"http://ohhla.com/\"+song).read()\n",
    "        text = BeautifulSoup(page, 'html.parser')\n",
    "        #can hit error\n",
    "        try:\n",
    "            lyrics = str(text.find_all('pre')[0])\n",
    "        except:\n",
    "            lyrics = str(text)\n",
    "        song_text.append(re.sub('<[^>]*>', '', lyrics))\n",
    "        print('Succesfully scraped: '+song)\n",
    "    except:\n",
    "        #can we do a try try excpet? those other text files just don't have pre, I think it would just be song_text.append(re.sub('<[^>]*>', '', lyrics))\n",
    "        print(\"Couldn't scrape: \"+song)\n",
    "    time.sleep(.01)"
   ]
  },
  {
   "cell_type": "code",
   "execution_count": 7,
   "metadata": {},
   "outputs": [
    {
     "name": "stdout",
     "output_type": "stream",
     "text": [
      "[\"\\nArtist: K.M.D.\\nAlbum:  Mr. Hood\\nSong:   Mr. Hood at Piocalles Jewelry/Crackpot\\nTyped by: OHHLA Webmaster DJ Flash\\n\\n[Mr. Hood]  Let's enter this jewerly shop.\\n[Zev Love]  Ahc'mon Mr. Piocalles man hook it up\\n            14K, def bracelet, you can't beat it kid!\\n[Piocalles] No I cannot do that.\\n            This is not a pawn shop, this is Piocalles Jewelry!\\n            Ahh, Mr. Hood, my favorite customer!\\n            What can I do for you today?\\n[Mr. Hood]  I would like to see some gold rings.\\n[Piocalles] Ahh yes we have these stupid phat gold rings,\\n            perfect for your masculine hands.\\n[Mr. Hood]  Some earrings for my wife.\\n[Piocalles] How about these elephant studded diamond earrings,\\n            perfect for the woman of your dreams.\\n[Mr. Hood]  And a watch, for my cousin.\\n[Piocalles] Ahh yes we have a Rolex for just under three-thousand\\n            seven-hundred and ninety-two.\\n[Mr. Hood]  That is a beautiful watch.\\n[Zev Love]  No actually it's two-thousand, three-hundred\\n            and thirty-six green.\\n[Mr. Hood]  Many thanks for your help.\\n[Zev Love]  Yeah he's always trying to jerk people!\\n[Mr. Hood]  My name is Mr. Hood.  What is your name?\\n[Zev Love]  Hmm... yeah I'm Zev Love X from K.M.D.\\n[Mr. Hood]  I am pleased to meet you.\\n[Zev Love]  Oh yeah likewise uhh, how ya doin anyway?\\n[Mr. Hood]  Perfectly well, thank you.  And you?\\n[Zev Love]  Ohh... I'm just chillin, ya see uhh\\n            but I got one problem.  I come in here to pawn this\\n            bracelet, see cause this rhymin for nickels business\\n            ain't makin it.  What I need is a job uhh...\\n            where you work at?  They hiring?\\n[Mr. Hood]  Follow this avenue (yeah) turn right at the corner (uh-huh)\\n            go to the left when you reach the square. (yeah)\\n            It is the house next to the theater.\\n[Zev Love]  Ohh.  Huh.  Yeah I know the line of work you're in, yeah.\\n[Mr. Hood]  Would you care for a spoon?  They are not too expensive.\\n[Zev Love]  No go, I don't deal with that stuff.\\n            As a matter of fact...\\n\\nThis reminds me of the days of dwelling with those who\\nkilled off the weak for fancy clothes and hoes too\\nNot opposed to the picket fence dream\\nWhere both lines are same side of the gate\\nIt seems that it's all coming back to me now\\nYeah ummmmm ahhhhhh I figured it was about two summers ago\\nNo joking, no I lie to win\\nCause it was a crackpot, yeah Crackpot Jenkins\\nI first met Crackpot in like Head Starts\\nAnd then I knew he wasn't too head smart cuz I scribbled in art\\nHe insisted on standing in the sandbox to collect unknown\\namounts of pebbles and stones to throw rocks\\nDissin the wrist he flicked was suddenly an early physics lesson\\nTwo atoms can't occupy the same space\\nat the same time, acknowledged by the playground's boot to wesson\\nWho felt pops rock then cracked pops face\\nConsidering his aim, I warned he could hurt others with his game\\nMs. Kristmahn warned the same\\nAlthough, he didn't care the heat cuz in a decade and one year\\nHe continued to throw rocks for a career\\nPain and more pain as he pelt rocks felt by\\nEvery brother and brown will soon be dealt\\nOne more rock thrown, ahh shoot\\nUnder the van was a boy in a blue suit\\nStill a lot of rock throwin goin on up the block\\nBut a pocket full of pebbles what locked up Crackpot\\nShould've used his wrists for the cut like Subroc\\nMaybe then he'd have avoided the cacophony jackpot\\nYeah, the phony jackpot\\n\\n[Zev Love]  Yo man, we got much better things to do with your time\\n[Mr. Hood]  Show me something better\\n[Zev Love]  What, something better?  We built this place man.\\n            We're the Gods of the Universe, Kings and Queens\\n            of the planet.\\n(If you or I could see this individual, we might call him an\\n impractical dreamer, or a crackpot.)\\n[Zev Love]  No, I'm not crackpot.\\n(Would you have seen the scientific, intellectual, creative\\n genius, in a small ragged negro boy?)\\n[Zev Love]  Uh-oh, uh-oh, ohh no.  You're gonna set it off!\\n\"]\n"
     ]
    }
   ],
   "source": [
    "print(song_text[0:1])"
   ]
  },
  {
   "cell_type": "code",
   "execution_count": 40,
   "metadata": {
    "collapsed": true,
    "scrolled": true
   },
   "outputs": [],
   "source": [
    "song_data = {}\n",
    "song_data['Songs'] = []\n",
    "count = 0\n",
    "for song in song_text:\n",
    "    try:\n",
    "        #sometimes artist is written incorrectly dur\n",
    "        try:\n",
    "            artist = re.search(r\"Artist: (.*?)\\n\", song).group(1)\n",
    "        except:\n",
    "            artist = re.search(r\"Aritst: (.*?)\\n\", song).group(1)\n",
    "        album = re.search(r\"Album:  (.*?)\\n\", song).group(1)\n",
    "        title = re.search(r\"Song:   (.*?)\\n\", song).group(1)\n",
    "        #sometimes doesn't pull typed right\n",
    "        typed = re.search(r\"Typed by: (.*?)\\n\", song).group(0)\n",
    "        lyrics = song.split(typed,1)[1] \n",
    "        song_data['Songs'].append({'Title':title,'Album':album, 'Artist':artist, 'Lyrics':lyrics})\n",
    "    except:\n",
    "        #again, want to use try excepts for indivdual artist\n",
    "        song_data['Songs'].append({'Raw':song})\n",
    "        count += 1"
   ]
  },
  {
   "cell_type": "code",
   "execution_count": 41,
   "metadata": {
    "collapsed": true
   },
   "outputs": [],
   "source": [
    "with open('raw_mf_doom.json', 'w') as outfile:\n",
    "    json.dump(song_data, outfile)"
   ]
  },
  {
   "cell_type": "code",
   "execution_count": 2,
   "metadata": {
    "collapsed": true
   },
   "outputs": [],
   "source": [
    "songs = json.load(open('raw_mf_doom.json'))"
   ]
  },
  {
   "cell_type": "code",
   "execution_count": 3,
   "metadata": {
    "collapsed": true
   },
   "outputs": [],
   "source": [
    "def clean_lyrics(full_text):\n",
    "    line_list = []\n",
    "    #split on /n so that each entry in list is a line\n",
    "    lines = full_text.split('\\n')\n",
    "    #then make list of words for each line\n",
    "    for line in lines:\n",
    "        #keeps all words\n",
    "        #get rid of all brackets and parenthesees in words (represents someone talking)\n",
    "        words = re.sub(\"([\\(\\[]).*?([\\)\\]])\", \"\", line)\n",
    "        #isolate words \n",
    "        words = re.findall(r\"[\\w']+\", words)\n",
    "        if len(words):\n",
    "            line_list.append(words)\n",
    "    return line_list"
   ]
  },
  {
   "cell_type": "code",
   "execution_count": null,
   "metadata": {
    "collapsed": true
   },
   "outputs": [],
   "source": [
    "for song in songs['Songs']:\n",
    "    lyrics = clean_lyrics(song)"
   ]
  },
  {
   "cell_type": "code",
   "execution_count": null,
   "metadata": {
    "collapsed": true
   },
   "outputs": [],
   "source": []
  },
  {
   "cell_type": "code",
   "execution_count": null,
   "metadata": {
    "collapsed": true
   },
   "outputs": [],
   "source": []
  }
 ],
 "metadata": {
  "kernelspec": {
   "display_name": "Python 3",
   "language": "python",
   "name": "python3"
  },
  "language_info": {
   "codemirror_mode": {
    "name": "ipython",
    "version": 3
   },
   "file_extension": ".py",
   "mimetype": "text/x-python",
   "name": "python",
   "nbconvert_exporter": "python",
   "pygments_lexer": "ipython3",
   "version": "3.6.1"
  }
 },
 "nbformat": 4,
 "nbformat_minor": 2
}
