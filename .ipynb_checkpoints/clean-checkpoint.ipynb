{
 "cells": [
  {
   "cell_type": "code",
   "execution_count": 34,
   "metadata": {},
   "outputs": [
    {
     "name": "stderr",
     "output_type": "stream",
     "text": [
      "C:\\Users\\kvenuti\\AppData\\Local\\Continuum\\anaconda3\\lib\\site-packages\\nltk\\twitter\\__init__.py:20: UserWarning: The twython library has not been installed. Some functionality from the twitter package will not be available.\n",
      "  warnings.warn(\"The twython library has not been installed. \"\n"
     ]
    }
   ],
   "source": [
    "import json\n",
    "import nltk\n",
    "import re\n",
    "#import psycopg2 as pg2\n",
    "#let's store in a postgresql db\n",
    "from nltk.classify import NaiveBayesClassifier\n",
    "from nltk.corpus import subjectivity\n",
    "from nltk.sentiment import SentimentAnalyzer\n",
    "from nltk.sentiment.util import *"
   ]
  },
  {
   "cell_type": "markdown",
   "metadata": {},
   "source": [
    "Vizualizations to start\n",
    "\n",
    "Sentiment anlaysis for each line for each verse for each song for each album\n",
    "sentiment analysis for each verse for each song for each album\n",
    "sentiment analysis fo reach song for each album\n",
    "http://lotrproject.com/statistics/books/sentimentanalysis\n",
    "http://help.sentiment140.com/api\n",
    "\n",
    "word count for album\n",
    "word count for artist\n",
    "\n",
    "word similarity/diversity count score for each song\n",
    "word similarity score for each album\n",
    "\n",
    "phoneme similarity score for each song\n",
    "phoneme similarity score for each album\n",
    "\n",
    "eventually a full textual representation of matching phoenems"
   ]
  },
  {
   "cell_type": "markdown",
   "metadata": {},
   "source": [
    "code/functions to build\n",
    "breaks down text to list of words (already have)\n",
    "breaks down list of words into list of list of phonemes\n",
    "\n"
   ]
  },
  {
   "cell_type": "markdown",
   "metadata": {},
   "source": [
    "algorithms/metrics to implemnet\n"
   ]
  },
  {
   "cell_type": "markdown",
   "metadata": {},
   "source": [
    "this is a cool project, I'd like to make a cool website to go along with hit"
   ]
  },
  {
   "cell_type": "code",
   "execution_count": 7,
   "metadata": {
    "collapsed": true,
    "scrolled": true
   },
   "outputs": [],
   "source": [
    "from pprint import pprint\n",
    "\n",
    "songs = json.load(open('raw_mf_doom.json'))\n"
   ]
  },
  {
   "cell_type": "code",
   "execution_count": 11,
   "metadata": {},
   "outputs": [
    {
     "name": "stdout",
     "output_type": "stream",
     "text": [
      "{'Album': 'Mr. Hood',\n",
      " 'Artist': 'K.M.D.',\n",
      " 'Lyrics': '\\n'\n",
      "           \"[Mr. Hood]  Let's enter this jewerly shop.\\n\"\n",
      "           \"[Zev Love]  Ahc'mon Mr. Piocalles man hook it up\\n\"\n",
      "           \"            14K, def bracelet, you can't beat it kid!\\n\"\n",
      "           '[Piocalles] No I cannot do that.\\n'\n",
      "           '            This is not a pawn shop, this is Piocalles Jewelry!\\n'\n",
      "           '            Ahh, Mr. Hood, my favorite customer!\\n'\n",
      "           '            What can I do for you today?\\n'\n",
      "           '[Mr. Hood]  I would like to see some gold rings.\\n'\n",
      "           '[Piocalles] Ahh yes we have these stupid phat gold rings,\\n'\n",
      "           '            perfect for your masculine hands.\\n'\n",
      "           '[Mr. Hood]  Some earrings for my wife.\\n'\n",
      "           '[Piocalles] How about these elephant studded diamond earrings,\\n'\n",
      "           '            perfect for the woman of your dreams.\\n'\n",
      "           '[Mr. Hood]  And a watch, for my cousin.\\n'\n",
      "           '[Piocalles] Ahh yes we have a Rolex for just under three-thousand\\n'\n",
      "           '            seven-hundred and ninety-two.\\n'\n",
      "           '[Mr. Hood]  That is a beautiful watch.\\n'\n",
      "           \"[Zev Love]  No actually it's two-thousand, three-hundred\\n\"\n",
      "           '            and thirty-six green.\\n'\n",
      "           '[Mr. Hood]  Many thanks for your help.\\n'\n",
      "           \"[Zev Love]  Yeah he's always trying to jerk people!\\n\"\n",
      "           '[Mr. Hood]  My name is Mr. Hood.  What is your name?\\n'\n",
      "           \"[Zev Love]  Hmm... yeah I'm Zev Love X from K.M.D.\\n\"\n",
      "           '[Mr. Hood]  I am pleased to meet you.\\n'\n",
      "           '[Zev Love]  Oh yeah likewise uhh, how ya doin anyway?\\n'\n",
      "           '[Mr. Hood]  Perfectly well, thank you.  And you?\\n'\n",
      "           \"[Zev Love]  Ohh... I'm just chillin, ya see uhh\\n\"\n",
      "           '            but I got one problem.  I come in here to pawn this\\n'\n",
      "           '            bracelet, see cause this rhymin for nickels business\\n'\n",
      "           \"            ain't makin it.  What I need is a job uhh...\\n\"\n",
      "           '            where you work at?  They hiring?\\n'\n",
      "           '[Mr. Hood]  Follow this avenue (yeah) turn right at the corner '\n",
      "           '(uh-huh)\\n'\n",
      "           '            go to the left when you reach the square. (yeah)\\n'\n",
      "           '            It is the house next to the theater.\\n'\n",
      "           \"[Zev Love]  Ohh.  Huh.  Yeah I know the line of work you're in, \"\n",
      "           'yeah.\\n'\n",
      "           '[Mr. Hood]  Would you care for a spoon?  They are not too '\n",
      "           'expensive.\\n'\n",
      "           \"[Zev Love]  No go, I don't deal with that stuff.\\n\"\n",
      "           '            As a matter of fact...\\n'\n",
      "           '\\n'\n",
      "           'This reminds me of the days of dwelling with those who\\n'\n",
      "           'killed off the weak for fancy clothes and hoes too\\n'\n",
      "           'Not opposed to the picket fence dream\\n'\n",
      "           'Where both lines are same side of the gate\\n'\n",
      "           \"It seems that it's all coming back to me now\\n\"\n",
      "           'Yeah ummmmm ahhhhhh I figured it was about two summers ago\\n'\n",
      "           'No joking, no I lie to win\\n'\n",
      "           'Cause it was a crackpot, yeah Crackpot Jenkins\\n'\n",
      "           'I first met Crackpot in like Head Starts\\n'\n",
      "           \"And then I knew he wasn't too head smart cuz I scribbled in art\\n\"\n",
      "           'He insisted on standing in the sandbox to collect unknown\\n'\n",
      "           'amounts of pebbles and stones to throw rocks\\n'\n",
      "           'Dissin the wrist he flicked was suddenly an early physics lesson\\n'\n",
      "           \"Two atoms can't occupy the same space\\n\"\n",
      "           \"at the same time, acknowledged by the playground's boot to wesson\\n\"\n",
      "           'Who felt pops rock then cracked pops face\\n'\n",
      "           'Considering his aim, I warned he could hurt others with his game\\n'\n",
      "           'Ms. Kristmahn warned the same\\n'\n",
      "           \"Although, he didn't care the heat cuz in a decade and one year\\n\"\n",
      "           'He continued to throw rocks for a career\\n'\n",
      "           'Pain and more pain as he pelt rocks felt by\\n'\n",
      "           'Every brother and brown will soon be dealt\\n'\n",
      "           'One more rock thrown, ahh shoot\\n'\n",
      "           'Under the van was a boy in a blue suit\\n'\n",
      "           'Still a lot of rock throwin goin on up the block\\n'\n",
      "           'But a pocket full of pebbles what locked up Crackpot\\n'\n",
      "           \"Should've used his wrists for the cut like Subroc\\n\"\n",
      "           \"Maybe then he'd have avoided the cacophony jackpot\\n\"\n",
      "           'Yeah, the phony jackpot\\n'\n",
      "           '\\n'\n",
      "           '[Zev Love]  Yo man, we got much better things to do with your '\n",
      "           'time\\n'\n",
      "           '[Mr. Hood]  Show me something better\\n'\n",
      "           '[Zev Love]  What, something better?  We built this place man.\\n'\n",
      "           \"            We're the Gods of the Universe, Kings and Queens\\n\"\n",
      "           '            of the planet.\\n'\n",
      "           '(If you or I could see this individual, we might call him an\\n'\n",
      "           ' impractical dreamer, or a crackpot.)\\n'\n",
      "           \"[Zev Love]  No, I'm not crackpot.\\n\"\n",
      "           '(Would you have seen the scientific, intellectual, creative\\n'\n",
      "           ' genius, in a small ragged negro boy?)\\n'\n",
      "           \"[Zev Love]  Uh-oh, uh-oh, ohh no.  You're gonna set it off!\\n\",\n",
      " 'Title': 'Mr. Hood at Piocalles Jewelry/Crackpot'}\n"
     ]
    }
   ],
   "source": [
    "pprint(songs['Songs'][0])"
   ]
  },
  {
   "cell_type": "markdown",
   "metadata": {
    "collapsed": true
   },
   "source": [
    "when I was going to do list of words\n",
    "\n",
    "def clean_lyrics(full_text):\n",
    "    line_list = []\n",
    "    #split on /n so that each entry in list is a line\n",
    "    lines = full_text.split('\\n')\n",
    "    #then make list of words for each line\n",
    "    for line in lines:\n",
    "        #keeps all words\n",
    "        #get rid of all brackets and parenthesees in words (represents someone talking)\n",
    "        words = re.sub(\"([\\(\\[]).*?([\\)\\]])\", \"\", line)\n",
    "        #isolate words \n",
    "        words = re.findall(r\"[\\w']+\", words)\n",
    "        if len(words):\n",
    "            line_list.append(words)\n",
    "    return line_list"
   ]
  },
  {
   "cell_type": "code",
   "execution_count": 8,
   "metadata": {
    "collapsed": true
   },
   "outputs": [],
   "source": [
    "def clean_lyrics(full_text):\n",
    "    words = re.sub(\"([\\(\\[]).*?([\\)\\]])\", \"\", full_text)\n",
    "    words = re.sub(\"\\n\",\"--\",words)\n",
    "    return words"
   ]
  },
  {
   "cell_type": "code",
   "execution_count": 9,
   "metadata": {
    "collapsed": true
   },
   "outputs": [],
   "source": [
    "a = clean_lyrics(songs['Songs'][100]['Lyrics'])"
   ]
  },
  {
   "cell_type": "code",
   "execution_count": 24,
   "metadata": {
    "collapsed": true,
    "scrolled": true
   },
   "outputs": [],
   "source": [
    "album_dic = {}\n",
    "\n",
    "for song in songs['Songs']:   \n",
    "    try:\n",
    "        if album_dic.get(song['Album']) == None:\n",
    "            album_dic[song['Album']] = []\n",
    "        else:\n",
    "            album_dic[song['Album']].append({'artist':song['Artist'],'name':song['Title'],'lyrics':clean_lyrics(song['Lyrics'])})\n",
    "    except:\n",
    "        pass\n"
   ]
  },
  {
   "cell_type": "code",
   "execution_count": 35,
   "metadata": {},
   "outputs": [
    {
     "name": "stdout",
     "output_type": "stream",
     "text": [
      "Red &amp; Gold MF Doom --I remember when, last past November when--Clown kid got pounded in with the Timberland--They left him trembling, he was not remembering:--Never tuck your denim in just to floss an emblem--Some would debate, \"Wait, the fella ate gelatin--Or even listening in to what his weathermens was telling him\"--When I could feel it in my melanin, it's compelling--Us to break them off, no reassembling--No science-fiction to no theater near you, coming soon to--Fuck with you frequently like how phases of the moon would do--You could gather 'round like it was an eclipse--Just don't look directly to the bitch, you may be blinded by the crips----Pass the L, the last to tussle in them shirttails--All hail, King Geedorah, the third rail--700 volts holds rap to a standstill--Fool ignore the rule, fuck up and get his man killed--Two bottles of Dom got his hands filled--And so goes the days of our lives as the hourglass sand spill--And built with Passion and a glass of the 'Ze------And I knew it was the last day ... Wig-Twisting Season--When some could get their wigs twisted back within reason--Mostly with these crimes of treason--And you'll be lucky if there's no squeezing even this evening--From how he's feeling, thrilling choice of flow is sick--He's the villain with the million dollar voice-throat trick--He's like a ventriloquist, with his fist in the speaker's back--Couldn't think of no uniquer track, nope, sneak attack--It don't really matter how big them is, so much as a nipple--'Cause you could have a chick with D-Triple--'Cept the nipple little, just hot off the griddle--Like how he do monkey rhymers, like Monkey-in-the-Middle by his damn self--Ain't no average MC ahead of me--Getting cheddar instead of the probably better pedigree--With nicknames, sick games as Rick James--Messy games, sci-fi such as Jesse James----Blast, I figure, ass-hawking ass titty licker--Last one to walk up in, fast-talking city slicker--Got bagged 'cause of the dirty chick with make-up--Bail out quick for the 7:30 wake-up--My only backup was an A-cup, as far as May--To when the leaves turn red and gold to Nimrod's earthday--All else? Worthless to say------That's when I knew it was the first day ... Wig-Twisting Season--When some could get their wigs twisted back within reasoning--Mostly with these crimes of treason men--And y'all be lucky if there's no squeezing even this evening--..--It's like a mosquit-ah, the much sweeter resent the act--I been bent back since my Physical went back--Since, Cultured more of my kin--And for them I keep an L rolled in this hellhole--Hold your head, use your head and hold, or be dead and cold--In the worsest way, soon as the leaves show red and gold--To 'round Nimrod's release day--And all else? Needless to say----Wait a motherfucking minute, true facts presented--The names was probably changed just to protect who ain't in it--The XP was three-quarters tinted, 4/5ths was converted--The way his shit was twisted? Ask him if it hurted--...--... Wig-Twisting Season--When some could get their wigs twisted back within reasoning--Mostly with these crimes of lying, and fronting, and cheating--All types of different styles of treason\n"
     ]
    }
   ],
   "source": [
    "for a in album_dic['Operation: Doomsday']:\n",
    "    print(a['name'], a['artist'],a['lyrics'])\n",
    "    break"
   ]
  },
  {
   "cell_type": "code",
   "execution_count": null,
   "metadata": {
    "collapsed": true
   },
   "outputs": [],
   "source": []
  },
  {
   "cell_type": "code",
   "execution_count": 14,
   "metadata": {},
   "outputs": [
    {
     "ename": "OperationalError",
     "evalue": "FATAL:  password authentication failed for user \"postgres\"\n",
     "output_type": "error",
     "traceback": [
      "\u001b[1;31m---------------------------------------------------------------------------\u001b[0m",
      "\u001b[1;31mOperationalError\u001b[0m                          Traceback (most recent call last)",
      "\u001b[1;32m<ipython-input-14-b21b294bf334>\u001b[0m in \u001b[0;36m<module>\u001b[1;34m()\u001b[0m\n\u001b[1;32m----> 1\u001b[1;33m \u001b[0mconn\u001b[0m \u001b[1;33m=\u001b[0m \u001b[0mpg2\u001b[0m\u001b[1;33m.\u001b[0m\u001b[0mconnect\u001b[0m\u001b[1;33m(\u001b[0m\u001b[0mdatabase\u001b[0m\u001b[1;33m=\u001b[0m\u001b[1;34m'rap_songs'\u001b[0m\u001b[1;33m,\u001b[0m \u001b[0muser\u001b[0m\u001b[1;33m=\u001b[0m\u001b[1;34m'postgres'\u001b[0m\u001b[1;33m,\u001b[0m \u001b[0mpassword\u001b[0m\u001b[1;33m=\u001b[0m\u001b[1;34m'hulk1994'\u001b[0m\u001b[1;33m)\u001b[0m\u001b[1;33m\u001b[0m\u001b[0m\n\u001b[0m",
      "\u001b[1;32mC:\\Users\\kvenu\\AppData\\Local\\Continuum\\Anaconda3\\lib\\site-packages\\psycopg2\\__init__.py\u001b[0m in \u001b[0;36mconnect\u001b[1;34m(dsn, connection_factory, cursor_factory, **kwargs)\u001b[0m\n\u001b[0;32m    128\u001b[0m \u001b[1;33m\u001b[0m\u001b[0m\n\u001b[0;32m    129\u001b[0m     \u001b[0mdsn\u001b[0m \u001b[1;33m=\u001b[0m \u001b[0m_ext\u001b[0m\u001b[1;33m.\u001b[0m\u001b[0mmake_dsn\u001b[0m\u001b[1;33m(\u001b[0m\u001b[0mdsn\u001b[0m\u001b[1;33m,\u001b[0m \u001b[1;33m**\u001b[0m\u001b[0mkwargs\u001b[0m\u001b[1;33m)\u001b[0m\u001b[1;33m\u001b[0m\u001b[0m\n\u001b[1;32m--> 130\u001b[1;33m     \u001b[0mconn\u001b[0m \u001b[1;33m=\u001b[0m \u001b[0m_connect\u001b[0m\u001b[1;33m(\u001b[0m\u001b[0mdsn\u001b[0m\u001b[1;33m,\u001b[0m \u001b[0mconnection_factory\u001b[0m\u001b[1;33m=\u001b[0m\u001b[0mconnection_factory\u001b[0m\u001b[1;33m,\u001b[0m \u001b[1;33m**\u001b[0m\u001b[0mkwasync\u001b[0m\u001b[1;33m)\u001b[0m\u001b[1;33m\u001b[0m\u001b[0m\n\u001b[0m\u001b[0;32m    131\u001b[0m     \u001b[1;32mif\u001b[0m \u001b[0mcursor_factory\u001b[0m \u001b[1;32mis\u001b[0m \u001b[1;32mnot\u001b[0m \u001b[1;32mNone\u001b[0m\u001b[1;33m:\u001b[0m\u001b[1;33m\u001b[0m\u001b[0m\n\u001b[0;32m    132\u001b[0m         \u001b[0mconn\u001b[0m\u001b[1;33m.\u001b[0m\u001b[0mcursor_factory\u001b[0m \u001b[1;33m=\u001b[0m \u001b[0mcursor_factory\u001b[0m\u001b[1;33m\u001b[0m\u001b[0m\n",
      "\u001b[1;31mOperationalError\u001b[0m: FATAL:  password authentication failed for user \"postgres\"\n"
     ]
    }
   ],
   "source": [
    "#need password\n",
    "#conn = pg2.connect(database='rap_songs', user='postgres', password=)\n",
    "#words = re.findall(r\"[\\w']+\", text)"
   ]
  },
  {
   "cell_type": "code",
   "execution_count": null,
   "metadata": {
    "collapsed": true
   },
   "outputs": [],
   "source": []
  }
 ],
 "metadata": {
  "kernelspec": {
   "display_name": "Python 3",
   "language": "python",
   "name": "python3"
  },
  "language_info": {
   "codemirror_mode": {
    "name": "ipython",
    "version": 3
   },
   "file_extension": ".py",
   "mimetype": "text/x-python",
   "name": "python",
   "nbconvert_exporter": "python",
   "pygments_lexer": "ipython3",
   "version": "3.6.3"
  }
 },
 "nbformat": 4,
 "nbformat_minor": 2
}
