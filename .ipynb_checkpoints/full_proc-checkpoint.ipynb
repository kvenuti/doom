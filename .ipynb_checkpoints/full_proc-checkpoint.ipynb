{
 "cells": [
  {
   "cell_type": "code",
   "execution_count": 1,
   "metadata": {
    "collapsed": true
   },
   "outputs": [],
   "source": [
    "import RAP_MASTER_LIB\n",
    "#MY LIBRARIES -- towards the end of project/when you need a break write up documentaiton of libraries\n",
    "#another library for plotting and testing\n",
    "from rap_scrpr import *\n",
    "from rap_db import *\n",
    "from rap_clean_w_word import verse as vvv\n",
    "from rap_clean import*\n",
    "from rap_viz_wout_word import *\n",
    "#import nltk\n",
    "#nltk.download()\n",
    "estconn = pg2.connect(database='rap_songs', user='keenan', host='localhost', password='keenan')"
   ]
  },
  {
   "cell_type": "code",
   "execution_count": 5,
   "metadata": {
    "scrolled": true
   },
   "outputs": [
    {
     "ename": "KeyboardInterrupt",
     "evalue": "",
     "output_type": "error",
     "traceback": [
      "\u001b[1;31m---------------------------------------------------------------------------\u001b[0m",
      "\u001b[1;31mKeyboardInterrupt\u001b[0m                         Traceback (most recent call last)",
      "\u001b[1;32m<ipython-input-5-0e5d5da400f0>\u001b[0m in \u001b[0;36m<module>\u001b[1;34m()\u001b[0m\n\u001b[0;32m      1\u001b[0m \u001b[0ml2\u001b[0m \u001b[1;33m=\u001b[0m \u001b[1;33m[\u001b[0m\u001b[1;34m'Chance'\u001b[0m\u001b[1;33m]\u001b[0m\u001b[1;33m\u001b[0m\u001b[0m\n\u001b[1;32m----> 2\u001b[1;33m \u001b[0mworks_pull\u001b[0m \u001b[1;33m=\u001b[0m \u001b[0mdict\u001b[0m\u001b[1;33m(\u001b[0m\u001b[0mzip\u001b[0m\u001b[1;33m(\u001b[0m\u001b[0ml2\u001b[0m\u001b[1;33m,\u001b[0m \u001b[0mconstruct_artists\u001b[0m\u001b[1;33m(\u001b[0m\u001b[0mestconn\u001b[0m\u001b[1;33m,\u001b[0m \u001b[0mart_list\u001b[0m \u001b[1;33m=\u001b[0m \u001b[0ml2\u001b[0m\u001b[1;33m)\u001b[0m\u001b[1;33m)\u001b[0m\u001b[1;33m)\u001b[0m\u001b[1;33m\u001b[0m\u001b[0m\n\u001b[0m\u001b[0;32m      3\u001b[0m \u001b[0mart_save\u001b[0m\u001b[1;33m(\u001b[0m\u001b[0mworks_pull\u001b[0m\u001b[1;33m)\u001b[0m\u001b[1;33m\u001b[0m\u001b[0m\n\u001b[0;32m      4\u001b[0m \u001b[0mworks\u001b[0m \u001b[1;33m=\u001b[0m \u001b[0mart_load\u001b[0m\u001b[1;33m(\u001b[0m\u001b[0mlst\u001b[0m\u001b[1;33m)\u001b[0m\u001b[1;33m\u001b[0m\u001b[0m\n",
      "\u001b[1;32mC:\\Users\\kvenu\\Music\\git\\doom\\rap_clean_w_word.py\u001b[0m in \u001b[0;36mconstruct_artists\u001b[1;34m(conn, art_list, alb_list, sng_list, use_ind_artists)\u001b[0m\n\u001b[0;32m    414\u001b[0m         \u001b[1;32melse\u001b[0m\u001b[1;33m:\u001b[0m\u001b[1;33m\u001b[0m\u001b[0m\n\u001b[0;32m    415\u001b[0m             \u001b[1;31m#key error means it didn't find anything for that artist\u001b[0m\u001b[1;33m\u001b[0m\u001b[1;33m\u001b[0m\u001b[0m\n\u001b[1;32m--> 416\u001b[1;33m             \u001b[0martist_works\u001b[0m\u001b[1;33m.\u001b[0m\u001b[0mappend\u001b[0m\u001b[1;33m(\u001b[0m\u001b[0martist\u001b[0m\u001b[1;33m(\u001b[0m\u001b[0mmain_artist\u001b[0m\u001b[1;33m,\u001b[0m \u001b[0mconstruct_albums\u001b[0m\u001b[1;33m(\u001b[0m\u001b[0mdb_records\u001b[0m\u001b[1;33m[\u001b[0m\u001b[0mmain_artist\u001b[0m\u001b[1;33m]\u001b[0m\u001b[1;33m,\u001b[0m \u001b[0mmain_artist\u001b[0m\u001b[1;33m)\u001b[0m\u001b[1;33m)\u001b[0m\u001b[1;33m)\u001b[0m\u001b[1;33m\u001b[0m\u001b[0m\n\u001b[0m\u001b[0;32m    417\u001b[0m     \u001b[1;32mreturn\u001b[0m \u001b[0martist_works\u001b[0m\u001b[1;33m\u001b[0m\u001b[0m\n",
      "\u001b[1;32mC:\\Users\\kvenu\\Music\\git\\doom\\rap_clean_w_word.py\u001b[0m in \u001b[0;36mconstruct_albums\u001b[1;34m(albs_dic, artist_nm)\u001b[0m\n\u001b[0;32m    399\u001b[0m             \u001b[0msong_obj\u001b[0m\u001b[1;33m.\u001b[0m\u001b[0massign_extras\u001b[0m\u001b[1;33m(\u001b[0m\u001b[1;33m)\u001b[0m\u001b[1;33m\u001b[0m\u001b[0m\n\u001b[0;32m    400\u001b[0m             \u001b[0msong_obj\u001b[0m\u001b[1;33m.\u001b[0m\u001b[0mremove_and_reass\u001b[0m\u001b[1;33m(\u001b[0m\u001b[1;33m[\u001b[0m\u001b[1;34m'[]'\u001b[0m\u001b[1;33m,\u001b[0m \u001b[1;34m'?'\u001b[0m\u001b[1;33m,\u001b[0m \u001b[1;34m'*text'\u001b[0m\u001b[1;33m,\u001b[0m \u001b[1;34m'{**}'\u001b[0m\u001b[1;33m]\u001b[0m\u001b[1;33m)\u001b[0m\u001b[1;33m\u001b[0m\u001b[0m\n\u001b[1;32m--> 401\u001b[1;33m             \u001b[0msong_obj\u001b[0m\u001b[1;33m.\u001b[0m\u001b[0mcreate_song_as_seg\u001b[0m\u001b[1;33m(\u001b[0m\u001b[1;33m)\u001b[0m\u001b[1;33m\u001b[0m\u001b[0m\n\u001b[0m\u001b[0;32m    402\u001b[0m             \u001b[0msong_objs\u001b[0m\u001b[1;33m.\u001b[0m\u001b[0mappend\u001b[0m\u001b[1;33m(\u001b[0m\u001b[0msong_obj\u001b[0m\u001b[1;33m)\u001b[0m\u001b[1;33m\u001b[0m\u001b[0m\n\u001b[0;32m    403\u001b[0m         \u001b[0malbum_obj\u001b[0m \u001b[1;33m=\u001b[0m \u001b[0malbum\u001b[0m\u001b[1;33m(\u001b[0m\u001b[0martist_nm\u001b[0m\u001b[1;33m,\u001b[0m \u001b[0malb_name\u001b[0m\u001b[1;33m,\u001b[0m \u001b[0msong_objs\u001b[0m\u001b[1;33m)\u001b[0m\u001b[1;33m\u001b[0m\u001b[0m\n",
      "\u001b[1;32mC:\\Users\\kvenu\\Music\\git\\doom\\rap_clean_w_word.py\u001b[0m in \u001b[0;36mcreate_song_as_seg\u001b[1;34m(self)\u001b[0m\n\u001b[0;32m    345\u001b[0m                     \u001b[0mverse_seg\u001b[0m \u001b[1;33m=\u001b[0m \u001b[0mverse\u001b[0m\u001b[1;33m(\u001b[0m\u001b[0mseg\u001b[0m\u001b[1;33m.\u001b[0m\u001b[0mtyp\u001b[0m\u001b[1;33m,\u001b[0m \u001b[0mseg\u001b[0m\u001b[1;33m.\u001b[0m\u001b[0mlabel\u001b[0m\u001b[1;33m,\u001b[0m \u001b[0mseg\u001b[0m\u001b[1;33m.\u001b[0m\u001b[0mstart\u001b[0m\u001b[1;33m,\u001b[0m \u001b[0mseg\u001b[0m\u001b[1;33m.\u001b[0m\u001b[0mend\u001b[0m\u001b[1;33m)\u001b[0m\u001b[1;33m\u001b[0m\u001b[0m\n\u001b[0;32m    346\u001b[0m                     \u001b[0mverse_seg\u001b[0m\u001b[1;33m.\u001b[0m\u001b[0mcontent\u001b[0m \u001b[1;33m=\u001b[0m \u001b[0mseg\u001b[0m\u001b[1;33m.\u001b[0m\u001b[0mcontent\u001b[0m\u001b[1;33m\u001b[0m\u001b[0m\n\u001b[1;32m--> 347\u001b[1;33m                     \u001b[0mverse_seg\u001b[0m\u001b[1;33m.\u001b[0m\u001b[0mrun_all_split\u001b[0m\u001b[1;33m(\u001b[0m\u001b[1;33m)\u001b[0m\u001b[1;33m\u001b[0m\u001b[0m\n\u001b[0m\u001b[0;32m    348\u001b[0m                     \u001b[0mseg\u001b[0m \u001b[1;33m=\u001b[0m \u001b[0mverse_seg\u001b[0m\u001b[1;33m\u001b[0m\u001b[0m\n\u001b[0;32m    349\u001b[0m                 \u001b[1;31m#if it was originally classified as a verse, but doesn't pass test, it's more of a chorus\u001b[0m\u001b[1;33m\u001b[0m\u001b[1;33m\u001b[0m\u001b[0m\n",
      "\u001b[1;32mC:\\Users\\kvenu\\Music\\git\\doom\\rap_clean_w_word.py\u001b[0m in \u001b[0;36mrun_all_split\u001b[1;34m(self)\u001b[0m\n\u001b[0;32m    248\u001b[0m \u001b[1;33m\u001b[0m\u001b[0m\n\u001b[0;32m    249\u001b[0m     \u001b[1;32mdef\u001b[0m \u001b[0mrun_all_split\u001b[0m\u001b[1;33m(\u001b[0m\u001b[0mself\u001b[0m\u001b[1;33m)\u001b[0m\u001b[1;33m:\u001b[0m\u001b[1;33m\u001b[0m\u001b[0m\n\u001b[1;32m--> 250\u001b[1;33m         \u001b[0mself\u001b[0m\u001b[1;33m.\u001b[0m\u001b[0msplit_to_words\u001b[0m\u001b[1;33m(\u001b[0m\u001b[1;33m)\u001b[0m\u001b[1;33m\u001b[0m\u001b[0m\n\u001b[0m\u001b[0;32m    251\u001b[0m         \u001b[1;31m#self.split_on_stem()\u001b[0m\u001b[1;33m\u001b[0m\u001b[1;33m\u001b[0m\u001b[0m\n\u001b[0;32m    252\u001b[0m \u001b[1;33m\u001b[0m\u001b[0m\n",
      "\u001b[1;32mC:\\Users\\kvenu\\Music\\git\\doom\\rap_clean_w_word.py\u001b[0m in \u001b[0;36msplit_to_words\u001b[1;34m(self)\u001b[0m\n\u001b[0;32m    237\u001b[0m             \u001b[0mself\u001b[0m\u001b[1;33m.\u001b[0m\u001b[0mall_words_by_line\u001b[0m\u001b[1;33m.\u001b[0m\u001b[0mappend\u001b[0m\u001b[1;33m(\u001b[0m\u001b[0mwords\u001b[0m\u001b[1;33m)\u001b[0m\u001b[1;33m\u001b[0m\u001b[0m\n\u001b[0;32m    238\u001b[0m             \u001b[1;32mfor\u001b[0m \u001b[0mcur_word\u001b[0m \u001b[1;32min\u001b[0m \u001b[0mwords\u001b[0m\u001b[1;33m:\u001b[0m\u001b[1;33m\u001b[0m\u001b[0m\n\u001b[1;32m--> 239\u001b[1;33m                 \u001b[0mself\u001b[0m\u001b[1;33m.\u001b[0m\u001b[0mword_objs\u001b[0m\u001b[1;33m[\u001b[0m\u001b[0mcur_word\u001b[0m\u001b[1;33m]\u001b[0m \u001b[1;33m=\u001b[0m \u001b[0mword\u001b[0m\u001b[1;33m(\u001b[0m\u001b[0mcur_word\u001b[0m\u001b[1;33m)\u001b[0m\u001b[1;33m\u001b[0m\u001b[0m\n\u001b[0m\u001b[0;32m    240\u001b[0m                 \u001b[1;31m#need this to be lower for true count\u001b[0m\u001b[1;33m\u001b[0m\u001b[1;33m\u001b[0m\u001b[0m\n\u001b[0;32m    241\u001b[0m                 \u001b[0mself\u001b[0m\u001b[1;33m.\u001b[0m\u001b[0munique_words\u001b[0m \u001b[1;33m=\u001b[0m \u001b[0mself\u001b[0m\u001b[1;33m.\u001b[0m\u001b[0munique_words\u001b[0m\u001b[1;33m|\u001b[0m\u001b[1;33m{\u001b[0m\u001b[0mcur_word\u001b[0m\u001b[1;33m.\u001b[0m\u001b[0mlower\u001b[0m\u001b[1;33m(\u001b[0m\u001b[1;33m)\u001b[0m\u001b[1;33m}\u001b[0m\u001b[1;33m\u001b[0m\u001b[0m\n",
      "\u001b[1;32mC:\\Users\\kvenu\\Music\\git\\doom\\rap_clean_w_word.py\u001b[0m in \u001b[0;36m__init__\u001b[1;34m(self, text)\u001b[0m\n\u001b[0;32m     96\u001b[0m \u001b[1;33m\u001b[0m\u001b[0m\n\u001b[0;32m     97\u001b[0m         \u001b[1;32mif\u001b[0m \u001b[0mself\u001b[0m\u001b[1;33m.\u001b[0m\u001b[0mfound_text\u001b[0m \u001b[1;32mnot\u001b[0m \u001b[1;32min\u001b[0m \u001b[0mCMU_KEYS\u001b[0m\u001b[1;33m:\u001b[0m\u001b[1;33m\u001b[0m\u001b[0m\n\u001b[1;32m---> 98\u001b[1;33m             \u001b[0mself\u001b[0m\u001b[1;33m.\u001b[0m\u001b[0mall_found_words\u001b[0m \u001b[1;33m=\u001b[0m \u001b[0mget_close_matches\u001b[0m\u001b[1;33m(\u001b[0m\u001b[0mself\u001b[0m\u001b[1;33m.\u001b[0m\u001b[0mfound_text\u001b[0m\u001b[1;33m,\u001b[0m \u001b[0mCMU_KEYS\u001b[0m\u001b[1;33m,\u001b[0m \u001b[0mn\u001b[0m\u001b[1;33m=\u001b[0m\u001b[1;36m5\u001b[0m\u001b[1;33m)\u001b[0m\u001b[1;33m\u001b[0m\u001b[0m\n\u001b[0m\u001b[0;32m     99\u001b[0m             \u001b[1;32mif\u001b[0m \u001b[1;32mnot\u001b[0m \u001b[0mself\u001b[0m\u001b[1;33m.\u001b[0m\u001b[0mall_found_words\u001b[0m\u001b[1;33m:\u001b[0m\u001b[1;33m\u001b[0m\u001b[0m\n\u001b[0;32m    100\u001b[0m                 \u001b[0mprint\u001b[0m\u001b[1;33m(\u001b[0m\u001b[1;34m'Error with '\u001b[0m\u001b[1;33m+\u001b[0m\u001b[0mself\u001b[0m\u001b[1;33m.\u001b[0m\u001b[0mtext\u001b[0m\u001b[1;33m)\u001b[0m\u001b[1;33m\u001b[0m\u001b[0m\n",
      "\u001b[1;32mC:\\Users\\kvenu\\AppData\\Local\\Continuum\\Anaconda3\\lib\\difflib.py\u001b[0m in \u001b[0;36mget_close_matches\u001b[1;34m(word, possibilities, n, cutoff)\u001b[0m\n\u001b[0;32m    726\u001b[0m         \u001b[1;32mif\u001b[0m \u001b[0ms\u001b[0m\u001b[1;33m.\u001b[0m\u001b[0mreal_quick_ratio\u001b[0m\u001b[1;33m(\u001b[0m\u001b[1;33m)\u001b[0m \u001b[1;33m>=\u001b[0m \u001b[0mcutoff\u001b[0m \u001b[1;32mand\u001b[0m\u001b[0;31m \u001b[0m\u001b[0;31m\\\u001b[0m\u001b[1;33m\u001b[0m\u001b[0m\n\u001b[0;32m    727\u001b[0m            \u001b[0ms\u001b[0m\u001b[1;33m.\u001b[0m\u001b[0mquick_ratio\u001b[0m\u001b[1;33m(\u001b[0m\u001b[1;33m)\u001b[0m \u001b[1;33m>=\u001b[0m \u001b[0mcutoff\u001b[0m \u001b[1;32mand\u001b[0m\u001b[0;31m \u001b[0m\u001b[0;31m\\\u001b[0m\u001b[1;33m\u001b[0m\u001b[0m\n\u001b[1;32m--> 728\u001b[1;33m            \u001b[0ms\u001b[0m\u001b[1;33m.\u001b[0m\u001b[0mratio\u001b[0m\u001b[1;33m(\u001b[0m\u001b[1;33m)\u001b[0m \u001b[1;33m>=\u001b[0m \u001b[0mcutoff\u001b[0m\u001b[1;33m:\u001b[0m\u001b[1;33m\u001b[0m\u001b[0m\n\u001b[0m\u001b[0;32m    729\u001b[0m             \u001b[0mresult\u001b[0m\u001b[1;33m.\u001b[0m\u001b[0mappend\u001b[0m\u001b[1;33m(\u001b[0m\u001b[1;33m(\u001b[0m\u001b[0ms\u001b[0m\u001b[1;33m.\u001b[0m\u001b[0mratio\u001b[0m\u001b[1;33m(\u001b[0m\u001b[1;33m)\u001b[0m\u001b[1;33m,\u001b[0m \u001b[0mx\u001b[0m\u001b[1;33m)\u001b[0m\u001b[1;33m)\u001b[0m\u001b[1;33m\u001b[0m\u001b[0m\n\u001b[0;32m    730\u001b[0m \u001b[1;33m\u001b[0m\u001b[0m\n",
      "\u001b[1;32mC:\\Users\\kvenu\\AppData\\Local\\Continuum\\Anaconda3\\lib\\difflib.py\u001b[0m in \u001b[0;36mratio\u001b[1;34m(self)\u001b[0m\n\u001b[0;32m    642\u001b[0m         \"\"\"\n\u001b[0;32m    643\u001b[0m \u001b[1;33m\u001b[0m\u001b[0m\n\u001b[1;32m--> 644\u001b[1;33m         \u001b[0mmatches\u001b[0m \u001b[1;33m=\u001b[0m \u001b[0msum\u001b[0m\u001b[1;33m(\u001b[0m\u001b[0mtriple\u001b[0m\u001b[1;33m[\u001b[0m\u001b[1;33m-\u001b[0m\u001b[1;36m1\u001b[0m\u001b[1;33m]\u001b[0m \u001b[1;32mfor\u001b[0m \u001b[0mtriple\u001b[0m \u001b[1;32min\u001b[0m \u001b[0mself\u001b[0m\u001b[1;33m.\u001b[0m\u001b[0mget_matching_blocks\u001b[0m\u001b[1;33m(\u001b[0m\u001b[1;33m)\u001b[0m\u001b[1;33m)\u001b[0m\u001b[1;33m\u001b[0m\u001b[0m\n\u001b[0m\u001b[0;32m    645\u001b[0m         \u001b[1;32mreturn\u001b[0m \u001b[0m_calculate_ratio\u001b[0m\u001b[1;33m(\u001b[0m\u001b[0mmatches\u001b[0m\u001b[1;33m,\u001b[0m \u001b[0mlen\u001b[0m\u001b[1;33m(\u001b[0m\u001b[0mself\u001b[0m\u001b[1;33m.\u001b[0m\u001b[0ma\u001b[0m\u001b[1;33m)\u001b[0m \u001b[1;33m+\u001b[0m \u001b[0mlen\u001b[0m\u001b[1;33m(\u001b[0m\u001b[0mself\u001b[0m\u001b[1;33m.\u001b[0m\u001b[0mb\u001b[0m\u001b[1;33m)\u001b[0m\u001b[1;33m)\u001b[0m\u001b[1;33m\u001b[0m\u001b[0m\n\u001b[0;32m    646\u001b[0m \u001b[1;33m\u001b[0m\u001b[0m\n",
      "\u001b[1;32mC:\\Users\\kvenu\\AppData\\Local\\Continuum\\Anaconda3\\lib\\difflib.py\u001b[0m in \u001b[0;36mget_matching_blocks\u001b[1;34m(self)\u001b[0m\n\u001b[0;32m    486\u001b[0m                     \u001b[0mqueue\u001b[0m\u001b[1;33m.\u001b[0m\u001b[0mappend\u001b[0m\u001b[1;33m(\u001b[0m\u001b[1;33m(\u001b[0m\u001b[0malo\u001b[0m\u001b[1;33m,\u001b[0m \u001b[0mi\u001b[0m\u001b[1;33m,\u001b[0m \u001b[0mblo\u001b[0m\u001b[1;33m,\u001b[0m \u001b[0mj\u001b[0m\u001b[1;33m)\u001b[0m\u001b[1;33m)\u001b[0m\u001b[1;33m\u001b[0m\u001b[0m\n\u001b[0;32m    487\u001b[0m                 \u001b[1;32mif\u001b[0m \u001b[0mi\u001b[0m\u001b[1;33m+\u001b[0m\u001b[0mk\u001b[0m \u001b[1;33m<\u001b[0m \u001b[0mahi\u001b[0m \u001b[1;32mand\u001b[0m \u001b[0mj\u001b[0m\u001b[1;33m+\u001b[0m\u001b[0mk\u001b[0m \u001b[1;33m<\u001b[0m \u001b[0mbhi\u001b[0m\u001b[1;33m:\u001b[0m\u001b[1;33m\u001b[0m\u001b[0m\n\u001b[1;32m--> 488\u001b[1;33m                     \u001b[0mqueue\u001b[0m\u001b[1;33m.\u001b[0m\u001b[0mappend\u001b[0m\u001b[1;33m(\u001b[0m\u001b[1;33m(\u001b[0m\u001b[0mi\u001b[0m\u001b[1;33m+\u001b[0m\u001b[0mk\u001b[0m\u001b[1;33m,\u001b[0m \u001b[0mahi\u001b[0m\u001b[1;33m,\u001b[0m \u001b[0mj\u001b[0m\u001b[1;33m+\u001b[0m\u001b[0mk\u001b[0m\u001b[1;33m,\u001b[0m \u001b[0mbhi\u001b[0m\u001b[1;33m)\u001b[0m\u001b[1;33m)\u001b[0m\u001b[1;33m\u001b[0m\u001b[0m\n\u001b[0m\u001b[0;32m    489\u001b[0m         \u001b[0mmatching_blocks\u001b[0m\u001b[1;33m.\u001b[0m\u001b[0msort\u001b[0m\u001b[1;33m(\u001b[0m\u001b[1;33m)\u001b[0m\u001b[1;33m\u001b[0m\u001b[0m\n\u001b[0;32m    490\u001b[0m \u001b[1;33m\u001b[0m\u001b[0m\n",
      "\u001b[1;31mKeyboardInterrupt\u001b[0m: "
     ]
    }
   ],
   "source": [
    "l2 = ['Chance']\n",
    "works_pull = dict(zip(l2, construct_artists(estconn, art_list = l2)))\n",
    "art_save(works_pull)\n",
    "works = art_load(lst)"
   ]
  },
  {
   "cell_type": "code",
   "execution_count": null,
   "metadata": {
    "collapsed": true
   },
   "outputs": [],
   "source": [
    "works['Chance'].albums"
   ]
  },
  {
   "cell_type": "code",
   "execution_count": null,
   "metadata": {
    "collapsed": true
   },
   "outputs": [],
   "source": [
    "#i'd say find your favorite verses now that everything works\n",
    "#for code below, since there is change to rap clean, need to re run cleaning.\n",
    "#next time at home\n",
    "#scrape, add to db\n",
    "#only load clean objects for doom, del\n",
    "#test that see if you like it then run rest overnight"
   ]
  },
  {
   "cell_type": "code",
   "execution_count": 2,
   "metadata": {
    "collapsed": true
   },
   "outputs": [],
   "source": [
    "#estconn = pg2.connect(database='rap_songs', user='keenan', host='localhost', password='keenan')\n",
    "#next time with DB\n",
    "#some_more = ['Donnie Trumpet', 'Danny Brown', 'Denzel Curry', 'Black Star']\n",
    "#might have trouble with donnie trumpet\n",
    "#new_artists = scrape_multi_artists(estconn, some_more)\n",
    "#create_music_tables(estconn, bypass = True)\n",
    "#bulk_load(estconn)\n",
    "#need to remake chance\n",
    "#still need to scrape these\n",
    "#make_these = ['Mos Def', 'Talib Kweli', 'Danny Brown', 'Denzel Curry', 'Chance']\n",
    "#works_pull = dict(zip(l2, construct_artists(estconn, art_list = l2)))\n",
    "#art_save(works_pull)\n",
    "#i think del was pulled with a space after del but double check it\n",
    "\n"
   ]
  },
  {
   "cell_type": "code",
   "execution_count": 2,
   "metadata": {
    "collapsed": true
   },
   "outputs": [],
   "source": [
    "lst = ['Del', 'Eminem', 'Jay-Z', 'Chance', '50_Cent', 'Doom', 'Earl', 'Amine']\n",
    "works = art_load(lst)\n",
    "sub_works = {'Del':works['Del'], 'Chance':works['Chance'], 'Doom':works['Doom'], 'Earl':works['Earl']}"
   ]
  },
  {
   "cell_type": "code",
   "execution_count": 3,
   "metadata": {},
   "outputs": [],
   "source": [
    "#prelimnary test\n",
    "cur = works['Chance'].uniq_art_verses[0]\n",
    "con = cur.content\n",
    "test = vvv(cur.typ, cur.label, 0, 0)\n",
    "test.gen_content(con, 10001)\n",
    "test.split_to_words()"
   ]
  },
  {
   "cell_type": "code",
   "execution_count": 4,
   "metadata": {
    "scrolled": true
   },
   "outputs": [
    {
     "data": {
      "text/plain": [
       "{'Damn': <rap_clean_w_word.word at 0x18726894a90>,\n",
       " 'I': <rap_clean_w_word.word at 0x18726d70b70>,\n",
       " \"I'm\": <rap_clean_w_word.word at 0x18726cedba8>,\n",
       " \"I'mma\": <rap_clean_w_word.word at 0x18726d739b0>,\n",
       " 'Mine': <rap_clean_w_word.word at 0x18726d6cb38>,\n",
       " 'Ooh': <rap_clean_w_word.word at 0x18726d64828>,\n",
       " 'Put': <rap_clean_w_word.word at 0x18726d61be0>,\n",
       " 'You': <rap_clean_w_word.word at 0x18726d4fda0>,\n",
       " 'all': <rap_clean_w_word.word at 0x18726d70518>,\n",
       " 'and': <rap_clean_w_word.word at 0x18726d6c2b0>,\n",
       " 'been': <rap_clean_w_word.word at 0x18726d73048>,\n",
       " 'behind': <rap_clean_w_word.word at 0x18726d61f28>,\n",
       " \"can't\": <rap_clean_w_word.word at 0x18726d4feb8>,\n",
       " 'cause': <rap_clean_w_word.word at 0x18726d4f940>,\n",
       " 'daddy': <rap_clean_w_word.word at 0x18726d64cc0>,\n",
       " 'damn': <rap_clean_w_word.word at 0x18726d4f7f0>,\n",
       " 'deep': <rap_clean_w_word.word at 0x18726d4f5f8>,\n",
       " 'demons': <rap_clean_w_word.word at 0x18726d76048>,\n",
       " 'empty': <rap_clean_w_word.word at 0x1871c9e9748>,\n",
       " 'even': <rap_clean_w_word.word at 0x18726d640f0>,\n",
       " 'ever': <rap_clean_w_word.word at 0x18726d61518>,\n",
       " 'fiendin': <rap_clean_w_word.word at 0x18726d617f0>,\n",
       " 'fix': <rap_clean_w_word.word at 0x18726d73828>,\n",
       " 'fuck': <rap_clean_w_word.word at 0x18726d73710>,\n",
       " 'get': <rap_clean_w_word.word at 0x18726d733c8>,\n",
       " 'girl': <rap_clean_w_word.word at 0x18726d642e8>,\n",
       " 'gums': <rap_clean_w_word.word at 0x18726d70278>,\n",
       " 'hate': <rap_clean_w_word.word at 0x18726d64ac8>,\n",
       " 'he': <rap_clean_w_word.word at 0x18726d613c8>,\n",
       " 'if': <rap_clean_w_word.word at 0x18726d64c88>,\n",
       " 'in': <rap_clean_w_word.word at 0x18726d700f0>,\n",
       " 'is': <rap_clean_w_word.word at 0x18726d6ccc0>,\n",
       " \"it's\": <rap_clean_w_word.word at 0x18726d762b0>,\n",
       " 'its': <rap_clean_w_word.word at 0x18726d61ef0>,\n",
       " 'let': <rap_clean_w_word.word at 0x18726d64ef0>,\n",
       " 'lined': <rap_clean_w_word.word at 0x18726d70668>,\n",
       " 'mama': <rap_clean_w_word.word at 0x18726d64400>,\n",
       " 'me': <rap_clean_w_word.word at 0x18726d61940>,\n",
       " 'met': <rap_clean_w_word.word at 0x18726d616a0>,\n",
       " 'minty': <rap_clean_w_word.word at 0x18726d4f518>,\n",
       " 'minus': <rap_clean_w_word.word at 0x18726d70400>,\n",
       " 'mouth': <rap_clean_w_word.word at 0x18726d64438>,\n",
       " 'my': <rap_clean_w_word.word at 0x18726d763c8>,\n",
       " 'of': <rap_clean_w_word.word at 0x18726d73d68>,\n",
       " 'oh': <rap_clean_w_word.word at 0x18726d70d68>,\n",
       " 'ohh': <rap_clean_w_word.word at 0x18726d70f28>,\n",
       " 'probably': <rap_clean_w_word.word at 0x18726d4f908>,\n",
       " 'put': <rap_clean_w_word.word at 0x18726d6c390>,\n",
       " 'rid': <rap_clean_w_word.word at 0x18726d73be0>,\n",
       " 'say': <rap_clean_w_word.word at 0x18726d70cc0>,\n",
       " 'scratchin': <rap_clean_w_word.word at 0x18726d731d0>,\n",
       " 'shit': <rap_clean_w_word.word at 0x18726d61d30>,\n",
       " 'sinus': <rap_clean_w_word.word at 0x18726d64940>,\n",
       " 'so': <rap_clean_w_word.word at 0x18726d64588>,\n",
       " 'speak': <rap_clean_w_word.word at 0x18726d641d0>,\n",
       " 'that': <rap_clean_w_word.word at 0x18726d6cda0>,\n",
       " 'them': <rap_clean_w_word.word at 0x18726d73e80>,\n",
       " 'this': <rap_clean_w_word.word at 0x18726d6c518>,\n",
       " 'up': <rap_clean_w_word.word at 0x18726d6cf60>,\n",
       " 'us': <rap_clean_w_word.word at 0x18726d6c1d0>,\n",
       " 'with': <rap_clean_w_word.word at 0x18726d707b8>,\n",
       " \"wouldn't\": <rap_clean_w_word.word at 0x18726d64e80>,\n",
       " 'you': <rap_clean_w_word.word at 0x18726d73a90>,\n",
       " \"you're\": <rap_clean_w_word.word at 0x18726d4fa20>,\n",
       " 'your': <rap_clean_w_word.word at 0x18726d4f400>}"
      ]
     },
     "execution_count": 4,
     "metadata": {},
     "output_type": "execute_result"
    }
   ],
   "source": [
    "test.word_objs"
   ]
  },
  {
   "cell_type": "code",
   "execution_count": null,
   "metadata": {
    "collapsed": true,
    "scrolled": false
   },
   "outputs": [],
   "source": [
    "vs = unique_verses_bar(sub_works.values())"
   ]
  },
  {
   "cell_type": "code",
   "execution_count": null,
   "metadata": {
    "collapsed": true,
    "scrolled": false
   },
   "outputs": [],
   "source": [
    "unique_words_hist(sub_works.values())"
   ]
  },
  {
   "cell_type": "code",
   "execution_count": null,
   "metadata": {
    "collapsed": true
   },
   "outputs": [],
   "source": [
    "unique_words_hist(sub_works.values(), song_or_verse='song')"
   ]
  },
  {
   "cell_type": "code",
   "execution_count": null,
   "metadata": {
    "collapsed": true,
    "scrolled": false
   },
   "outputs": [],
   "source": [
    "unique_count_to_length(sub_works.values())"
   ]
  },
  {
   "cell_type": "code",
   "execution_count": null,
   "metadata": {
    "collapsed": true,
    "scrolled": false
   },
   "outputs": [],
   "source": [
    "unique_count_to_length([works['Del']], by_alb=True)"
   ]
  },
  {
   "cell_type": "code",
   "execution_count": 5,
   "metadata": {
    "scrolled": true
   },
   "outputs": [
    {
     "data": {
      "text/plain": [
       "[<rap_viz_wout_word.line at 0x18726d76a58>,\n",
       " <rap_viz_wout_word.line at 0x18726d76a90>,\n",
       " <rap_viz_wout_word.line at 0x18726d76ac8>,\n",
       " <rap_viz_wout_word.line at 0x18726d76b00>,\n",
       " <rap_viz_wout_word.line at 0x18726d76b38>,\n",
       " <rap_viz_wout_word.line at 0x18726d76b70>,\n",
       " <rap_viz_wout_word.line at 0x18726d76ba8>,\n",
       " <rap_viz_wout_word.line at 0x18726d76be0>]"
      ]
     },
     "execution_count": 5,
     "metadata": {},
     "output_type": "execute_result"
    }
   ],
   "source": [
    "bada_bing = verse_graph(test, 'artist_name', 'song_name')\n",
    "bada_bing.ver_as_lines"
   ]
  },
  {
   "cell_type": "code",
   "execution_count": 6,
   "metadata": {},
   "outputs": [
    {
     "name": "stdout",
     "output_type": "stream",
     "text": [
      "Changed 8 sylbs!\n"
     ]
    },
    {
     "data": {
      "text/html": [
       "<html><style>h1{font-size:40pt;}h2{font-size:20pt;}\n",
       "        mark{margin-right:-7.4px;font-family:Arial;font-size:14pt;background-clip:content-box;}\n",
       "        mark:hover {cursor:help;position: relative}\n",
       "        mark span {display:none}\n",
       "        mark:hover span {display:block;z-index:1;white-space:nowrap;background:white;color:black;position:absolute;left:0px;margin:10px;top:10px;}mark.AW{background-color: rgba(234,240,115,.5);}mark.UH{background-color: rgba(0,0,0,.5);}mark.IH{background-color: rgba(180,184,246,.5);}mark.ER{background-color: rgba(198,203,117,.5);}mark.OW{background-color: rgba(54,55,125,.5);}mark.IY{background-color: rgba(72,73,252,.5);}mark.UW{background-color: rgba(144,147,248,.5);}mark.EH{background-color: rgba(108,110,250,.5);}mark.AH{background-color: rgba(18,18,127,.5);}mark.AE{background-color: rgba(162,166,119,.5);}mark.AA{background-color: rgba(90,92,123,.5);}mark.EY{background-color: rgba(126,129,121,.5);}mark.AO{background-color: rgba(36,36,254,.5);}mark.AY{background-color: rgba(216,221,244,.5);}mark.un{background-color: transparent;}</style><body><h1>Verse breakdown for song_name by artist_name</h1><h2>Vowel Color Legend<br></h2><mark class=\"AW\">AW<span>(Count:1)</span></mark> <mark class=\"UH\">UH<span>(Count:6)</span></mark> <mark class=\"IH\">IH<span>(Count:21)</span></mark> <mark class=\"ER\">ER<span>(Count:4)</span></mark> <mark class=\"OW\">OW<span>(Count:5)</span></mark> <mark class=\"IY\">IY<span>(Count:15)</span></mark> <mark class=\"UW\">UW<span>(Count:8)</span></mark> <mark class=\"EH\">EH<span>(Count:6)</span></mark> <mark class=\"AH\">AH<span>(Count:19)</span></mark> <mark class=\"AE\">AE<span>(Count:5)</span></mark> <mark class=\"AA\">AA<span>(Count:2)</span></mark> <mark class=\"EY\">EY<span>(Count:2)</span></mark> <mark class=\"AO\">AO<span>(Count:4)</span></mark> <mark class=\"AY\">AY<span>(Count:8)</span></mark> <mark class=\"un\">un<span>(Count:%%un%%)</span></mark> <br><br><mark class=\"AE\">Damn<span>(Sylbl:\"Damn\", Vowel:AE)</span></mark>     <mark class=\"IH\">Im<span>(Sylbl:\"Im\", Vowel:IH)</span></mark>     <mark class=\"IH\">in<span>(Sylbl:\"in\", Vowel:IH)</span></mark>     <mark class=\"OW\">so<span>(Sylbl:\"so\", Vowel:OW)</span></mark>     <mark class=\"IY\">deep<span>(Sylbl:\"deep\", Vowel:IY)</span></mark>     <mark class=\"ER\">girl<span>(Sylbl:\"girl\", Vowel:ER)</span></mark>     <mark class=\"AA\">prob<span>(Sylbl:\"prob\", Vowel:AA)</span></mark><mark class=\"AH\">a<span>(Sylbl:\"a\", Vowel:AH)</span></mark><mark class=\"IY\">bly<span>(Sylbl:\"bly\", Vowel:IY)</span></mark>     <mark class=\"AO\">cause<span>(Sylbl:\"cause\", Vowel:AO)</span></mark>     <mark class=\"UH\">youre<span>(Sylbl:\"youre\", Vowel:UH)</span></mark>     <mark class=\"EH\">emp<span>(Sylbl:\"emp\", Vowel:EH)</span></mark><mark class=\"IY\">ty<span>(Sylbl:\"ty\", Vowel:IY)</span></mark>     <br><mark class=\"UW\">You<span>(Sylbl:\"You\", Vowel:UW)</span></mark>     <mark class=\"AE\">cant<span>(Sylbl:\"cant\", Vowel:AE)</span></mark>     <mark class=\"IY\">ev<span>(Sylbl:\"ev\", Vowel:IY)</span></mark><mark class=\"IH\">en<span>(Sylbl:\"en\", Vowel:IH)</span></mark>     <mark class=\"IY\">speak<span>(Sylbl:\"speak\", Vowel:IY)</span></mark>     <mark class=\"ER\">girl<span>(Sylbl:\"girl\", Vowel:ER)</span></mark>     <mark class=\"AE\">damn<span>(Sylbl:\"damn\", Vowel:AE)</span></mark>     <mark class=\"AO\">your<span>(Sylbl:\"your\", Vowel:AO)</span></mark>     <mark class=\"AW\">mouth<span>(Sylbl:\"mouth\", Vowel:AW)</span></mark>     <mark class=\"OW\">so<span>(Sylbl:\"so\", Vowel:OW)</span></mark>     <mark class=\"IH\">minty<span>(Sylbl:\"minty\", Vowel:IH)</span></mark>     <br><mark class=\"UW\">Ooh<span>(Sylbl:\"Ooh\", Vowel:UW)</span></mark>     <mark class=\"UH\">your<span>(Sylbl:\"your\", Vowel:UH)</span></mark>     <mark class=\"AA\">ma<span>(Sylbl:\"ma\", Vowel:AA)</span></mark><mark class=\"AH\">ma<span>(Sylbl:\"ma\", Vowel:AH)</span></mark>     <mark class=\"EY\">hate<span>(Sylbl:\"hate\", Vowel:EY)</span></mark>     <mark class=\"IY\">me<span>(Sylbl:\"me\", Vowel:IY)</span></mark>     <mark class=\"AE\">dad<span>(Sylbl:\"dad\", Vowel:AE)</span></mark><mark class=\"IY\">dy<span>(Sylbl:\"dy\", Vowel:IY)</span></mark>     <mark class=\"UH\">would<span>(Sylbl:\"would\", Vowel:UH)</span></mark><mark class=\"AH\">nt<span>(Sylbl:\"nt\", Vowel:AH)</span></mark>     <mark class=\"EH\">let<span>(Sylbl:\"let\", Vowel:EH)</span></mark>     <mark class=\"UW\">you<span>(Sylbl:\"you\", Vowel:UW)</span></mark>     <br><mark class=\"IH\">if<span>(Sylbl:\"if\", Vowel:IH)</span></mark>     <mark class=\"IY\">he<span>(Sylbl:\"he\", Vowel:IY)</span></mark>     <mark class=\"EH\">ev<span>(Sylbl:\"ev\", Vowel:EH)</span></mark><mark class=\"ER\">er<span>(Sylbl:\"er\", Vowel:ER)</span></mark>     <mark class=\"EH\">met<span>(Sylbl:\"met\", Vowel:EH)</span></mark>     <mark class=\"IY\">me<span>(Sylbl:\"me\", Vowel:IY)</span></mark>     <mark class=\"IH\">if<span>(Sylbl:\"if\", Vowel:IH)</span></mark>     <mark class=\"IY\">he<span>(Sylbl:\"he\", Vowel:IY)</span></mark>     <mark class=\"EH\">ev<span>(Sylbl:\"ev\", Vowel:EH)</span></mark><mark class=\"ER\">er<span>(Sylbl:\"er\", Vowel:ER)</span></mark>     <mark class=\"EH\">met<span>(Sylbl:\"met\", Vowel:EH)</span></mark>     <mark class=\"UW\">you<span>(Sylbl:\"you\", Vowel:UW)</span></mark>     <br><mark class=\"UH\">Put<span>(Sylbl:\"Put\", Vowel:UH)</span></mark>     <mark class=\"AH\">that<span>(Sylbl:\"that\", Vowel:AH)</span></mark>     <mark class=\"IH\">shit<span>(Sylbl:\"shit\", Vowel:IH)</span></mark>     <mark class=\"IH\">be<span>(Sylbl:\"be\", Vowel:IH)</span></mark><mark class=\"AY\">hind<span>(Sylbl:\"hind\", Vowel:AY)</span></mark>     <mark class=\"AH\">us<span>(Sylbl:\"us\", Vowel:AH)</span></mark>     <mark class=\"AH\">and<span>(Sylbl:\"and\", Vowel:AH)</span></mark>     <mark class=\"UH\">put<span>(Sylbl:\"put\", Vowel:UH)</span></mark>     <mark class=\"IH\">this<span>(Sylbl:\"this\", Vowel:IH)</span></mark>     <mark class=\"IH\">in<span>(Sylbl:\"in\", Vowel:IH)</span></mark>     <mark class=\"UH\">your<span>(Sylbl:\"your\", Vowel:UH)</span></mark>     <mark class=\"AY\">si<span>(Sylbl:\"si\", Vowel:AY)</span></mark><mark class=\"AH\">nus<span>(Sylbl:\"nus\", Vowel:AH)</span></mark>     <br><mark class=\"AY\">Mine<span>(Sylbl:\"Mine\", Vowel:AY)</span></mark>     <mark class=\"IH\">is<span>(Sylbl:\"is\", Vowel:IH)</span></mark>     <mark class=\"AO\">all<span>(Sylbl:\"all\", Vowel:AO)</span></mark>     <mark class=\"AH\">up<span>(Sylbl:\"up\", Vowel:AH)</span></mark>     <mark class=\"IH\">in<span>(Sylbl:\"in\", Vowel:IH)</span></mark>     <mark class=\"AY\">my<span>(Sylbl:\"my\", Vowel:AY)</span></mark>     <mark class=\"AH\">gums<span>(Sylbl:\"gums\", Vowel:AH)</span></mark>     <mark class=\"AY\">mi<span>(Sylbl:\"mi\", Vowel:AY)</span></mark><mark class=\"AH\">nus<span>(Sylbl:\"nus\", Vowel:AH)</span></mark>     <mark class=\"AO\">all<span>(Sylbl:\"all\", Vowel:AO)</span></mark>     <mark class=\"AH\">that<span>(Sylbl:\"that\", Vowel:AH)</span></mark>     <mark class=\"IH\">shit<span>(Sylbl:\"shit\", Vowel:IH)</span></mark>     <mark class=\"IH\">its<span>(Sylbl:\"its\", Vowel:IH)</span></mark>     <mark class=\"AY\">lined<span>(Sylbl:\"lined\", Vowel:AY)</span></mark>     <mark class=\"IH\">with<span>(Sylbl:\"with\", Vowel:IH)</span></mark>     <br><mark class=\"AY\">I<span>(Sylbl:\"I\", Vowel:AY)</span></mark>     <mark class=\"EY\">say<span>(Sylbl:\"say\", Vowel:EY)</span></mark>     <mark class=\"OW\">oh<span>(Sylbl:\"oh\", Vowel:OW)</span></mark>     <mark class=\"OW\">oh<span>(Sylbl:\"oh\", Vowel:OW)</span></mark>     <mark class=\"OW\">oh<span>(Sylbl:\"oh\", Vowel:OW)</span></mark>     <mark class=\"AH\">ohh<span>(Sylbl:\"ohh\", Vowel:AH)</span></mark>     <mark class=\"UW\">you<span>(Sylbl:\"you\", Vowel:UW)</span></mark>     <mark class=\"IH\">been<span>(Sylbl:\"been\", Vowel:IH)</span></mark>     <mark class=\"AE\">scratchin<span>(Sylbl:\"scratchin\", Vowel:AE)</span></mark>     <mark class=\"UW\">you<span>(Sylbl:\"you\", Vowel:UW)</span></mark>     <mark class=\"IH\">been<span>(Sylbl:\"been\", Vowel:IH)</span></mark>     <mark class=\"IY\">fiendin<span>(Sylbl:\"fiendin\", Vowel:IY)</span></mark>     <br><mark class=\"IY\">Im<span>(Sylbl:\"Im\", Vowel:IY)</span></mark><mark class=\"AH\">ma<span>(Sylbl:\"ma\", Vowel:AH)</span></mark>     <mark class=\"IH\">fix<span>(Sylbl:\"fix\", Vowel:IH)</span></mark>     <mark class=\"UW\">you<span>(Sylbl:\"you\", Vowel:UW)</span></mark>     <mark class=\"IY\">Im<span>(Sylbl:\"Im\", Vowel:IY)</span></mark><mark class=\"AH\">ma<span>(Sylbl:\"ma\", Vowel:AH)</span></mark>     <mark class=\"AH\">fuck<span>(Sylbl:\"fuck\", Vowel:AH)</span></mark>     <mark class=\"UW\">you<span>(Sylbl:\"you\", Vowel:UW)</span></mark>     <mark class=\"IY\">Im<span>(Sylbl:\"Im\", Vowel:IY)</span></mark><mark class=\"AH\">ma<span>(Sylbl:\"ma\", Vowel:AH)</span></mark>     <mark class=\"IH\">get<span>(Sylbl:\"get\", Vowel:IH)</span></mark>     <mark class=\"IH\">rid<span>(Sylbl:\"rid\", Vowel:IH)</span></mark>     <mark class=\"AH\">of<span>(Sylbl:\"of\", Vowel:AH)</span></mark>     <mark class=\"AH\">them<span>(Sylbl:\"them\", Vowel:AH)</span></mark>     <mark class=\"IY\">dem<span>(Sylbl:\"dem\", Vowel:IY)</span></mark><mark class=\"AH\">ons<span>(Sylbl:\"ons\", Vowel:AH)</span></mark>     <mark class=\"IH\">its<span>(Sylbl:\"its\", Vowel:IH)</span></mark>     <mark class=\"AY\">my<span>(Sylbl:\"my\", Vowel:AY)</span></mark>     </body></html>"
      ],
      "text/plain": [
       "<IPython.core.display.HTML object>"
      ]
     },
     "metadata": {},
     "output_type": "display_data"
    }
   ],
   "source": [
    "bada_bing.opto_matches(pop=2, exc_line=False, opto_type='exact')\n",
    "bada_bing.colorize_vowels('near')\n",
    "bada_bing.graph_colored_verse()\n",
    "display(HTML(bada_bing.base_html))\n",
    "#IT WORKEEEED SO FASSSST"
   ]
  },
  {
   "cell_type": "code",
   "execution_count": null,
   "metadata": {
    "collapsed": true,
    "scrolled": false
   },
   "outputs": [],
   "source": [
    "#song uses opto well\n",
    "artist_name = 'Doom'\n",
    "song_name = 'Bada Bing'\n",
    "bada_bing = verse_graph(verse_search(works[artist_name], song_name), artist_name, song_name)"
   ]
  },
  {
   "cell_type": "code",
   "execution_count": null,
   "metadata": {
    "collapsed": true,
    "scrolled": false
   },
   "outputs": [],
   "source": [
    "bada_bing.colorize_vowels('near')\n",
    "bada_bing.graph_colored_verse()\n",
    "display(HTML(bada_bing.base_html))"
   ]
  },
  {
   "cell_type": "code",
   "execution_count": null,
   "metadata": {
    "collapsed": true,
    "scrolled": false
   },
   "outputs": [],
   "source": [
    "bada_bing.opto_matches(pop=2, exc_line=False, opto_type='exact')\n",
    "bada_bing.colorize_vowels('near')\n",
    "bada_bing.graph_colored_verse()\n",
    "display(HTML(bada_bing.base_html))"
   ]
  },
  {
   "cell_type": "code",
   "execution_count": null,
   "metadata": {
    "collapsed": true
   },
   "outputs": [],
   "source": [
    "artist_name = 'Chance'\n",
    "song_name = 'Favorite Song'\n",
    "fav_song = verse_graph(verse_search(works[artist_name], song_name, verse_number=0), artist_name, song_name)\n",
    "\n",
    "fav_song.colorize_vowels(match_type='exact')\n",
    "fav_song.graph_colored_verse()\n",
    "display(HTML(fav_song.base_html))"
   ]
  },
  {
   "cell_type": "code",
   "execution_count": null,
   "metadata": {
    "collapsed": true
   },
   "outputs": [],
   "source": [
    "artist_name = 'Del'\n",
    "song_name = 'Virus'\n",
    "virus = verse_graph(verse_search(works[artist_name], song_name, verse_number=1), artist_name, song_name)\n",
    "\n",
    "virus.colorize_vowels(match_type='broad')\n",
    "virus.graph_colored_verse()\n",
    "display(HTML(virus.base_html))"
   ]
  },
  {
   "cell_type": "code",
   "execution_count": null,
   "metadata": {
    "collapsed": true,
    "scrolled": false
   },
   "outputs": [],
   "source": [
    "v_type = 'near'\n",
    "virus.opto_matches(pop=2, exc_line=True, opto_type=v_type)\n",
    "virus.colorize_vowels(match_type=v_type)\n",
    "virus.graph_colored_verse()\n",
    "display(HTML(virus.base_html))"
   ]
  },
  {
   "cell_type": "markdown",
   "metadata": {},
   "source": [
    "estconn = pg2.connect(database='rap_songs', user='keenan', host='localhost', password='keenan')\n",
    "bob_dylan = dict(zip(['Bob Dylan'], construct_artists(estconn, art_list = ['Bob Dylan'])))\n",
    "\n",
    "artist_name = 'Bob Dylan'\n",
    "song_name = 'Subterranean Homesick Blues'\n",
    "bd = verse_graph(verse_search(bob_dylan[artist_name], song_name), artist_name, song_name)\n",
    "bd.colorize_vowels('near')\n",
    "bd.graph_colored_verse()\n",
    "display(HTML(bd.base_html))\n",
    "\n",
    "bd.opto_matches(pop=3, exc_line=True, opto_type='near')\n",
    "bd.colorize_vowels('near')\n",
    "bd.graph_colored_verse()\n",
    "display(HTML(bd.base_html))"
   ]
  },
  {
   "cell_type": "markdown",
   "metadata": {
    "collapsed": true
   },
   "source": [
    "what you did\n",
    "tested on one chance song. FOund stuuuupid bug and it works!\n",
    "clean bugs at work maybe test a little at home and then run on all you want\n",
    "GONNA SET CODE TO FULL RUN BUT NOT RUN\n",
    "\n",
    "made these changes, testing on chance, taking forever. Need to run while at dinner or something\n",
    "made new rap viz and new rap ckean where word processing is held in clean\n",
    "will take much longer to make artist but faster to colorize and allow meta analysis of sylbs\n",
    "\n",
    "\n",
    "what's next\n",
    "next viz!\n",
    "\n",
    "errors\n",
    "need db for this one\n",
    "try loading in [] as it's own segment and not adding it list of verse segments (it;s ok to have in segment, can always filter later or include cause it is a part of the song)\n",
    "captiring for [] right now is anything without versse, brideg, chorus, intro, outro and it shouldn't caputre match.group()[1:-1] in COMPLETE_RAPPERS\n",
    "\n",
    "down the line\n",
    "keep modeling and coming up with stuff!"
   ]
  },
  {
   "cell_type": "code",
   "execution_count": null,
   "metadata": {
    "collapsed": true
   },
   "outputs": [],
   "source": [
    "#estconn.close()"
   ]
  }
 ],
 "metadata": {
  "kernelspec": {
   "display_name": "Python 3",
   "language": "python",
   "name": "python3"
  },
  "language_info": {
   "codemirror_mode": {
    "name": "ipython",
    "version": 3
   },
   "file_extension": ".py",
   "mimetype": "text/x-python",
   "name": "python",
   "nbconvert_exporter": "python",
   "pygments_lexer": "ipython3",
   "version": "3.6.1"
  }
 },
 "nbformat": 4,
 "nbformat_minor": 2
}
