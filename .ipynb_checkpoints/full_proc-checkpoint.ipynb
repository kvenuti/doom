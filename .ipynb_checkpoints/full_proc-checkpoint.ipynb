{
 "cells": [
  {
   "cell_type": "code",
   "execution_count": 10,
   "metadata": {
    "collapsed": true
   },
   "outputs": [],
   "source": [
    "from rap_scrpr import *\n",
    "from rap_db import *\n",
    "#nltk.download()\n",
    "import psycopg2 as pg2\n",
    "from os import listdir\n",
    "from os.path import isfile, join\n",
    "\n",
    "estconn = pg2.connect(database='rap_songs', user='keenan', host='localhost', password='keenan')\n",
    "#create_music_tables(estconn)"
   ]
  },
  {
   "cell_type": "code",
   "execution_count": 26,
   "metadata": {},
   "outputs": [],
   "source": [
    "#for show\n",
    "#this is a full add from start to \n",
    "def scrape_multi_artists(art_dic):\n",
    "    for art, page in artist_to_scrape.items():\n",
    "        #latency timing of 1\n",
    "        scraped_songs = raw_clean(song_scrape(song_links(page[0], page[1])), art)\n",
    "        #back up scrape after clean\n",
    "        with open('json_lyrics/'+art+'_raw.json', 'w') as outfile:\n",
    "            json.dump(scraped_songs, outfile)\n",
    "        print(art+'_raw.json made!')\n",
    "\n",
    "#boolean tells it if its one of two style pages, in final product scrape an artist\n",
    "artist_to_scrape =  {}\n",
    "#artist_to_scrape = {'afroman':('http://ohhla.com/anonymous/afroman/', True)}\n",
    "scrape_multi_artists(artist_to_scrape)\n",
    "#now safely stored in json file filled folder\n",
    "\n",
    "for artist in artist_to_scrape.keys():\n",
    "        songs = json.load(open('json_lyrics/%s_raw.json' %artist))\n",
    "        for name, works in songs.items():\n",
    "            if 'raw_song_' not in name:\n",
    "                add_songs(estconn, name, works)"
   ]
  },
  {
   "cell_type": "code",
   "execution_count": 14,
   "metadata": {
    "collapsed": true
   },
   "outputs": [],
   "source": [
    "new_eds = [f for f in listdir('json_lyrics/') if isfile(join('json_lyrics/', f))]"
   ]
  },
  {
   "cell_type": "code",
   "execution_count": 20,
   "metadata": {
    "collapsed": true
   },
   "outputs": [],
   "source": [
    "def bulk_load(new_eds = []):\n",
    "    if not new_eds:\n",
    "        new_eds = [f for f in listdir('json_lyrics/') if isfile(join('json_lyrics/', f))]\n",
    "    for new in new_eds:\n",
    "        songs = json.load(open('json_lyrics/'+new))\n",
    "        for name, works in songs.items():\n",
    "            if 'raw_song_' not in name:\n",
    "                add_songs(estconn, name, works)"
   ]
  },
  {
   "cell_type": "code",
   "execution_count": 21,
   "metadata": {
    "collapsed": true
   },
   "outputs": [],
   "source": [
    "#bulk_load()"
   ]
  },
  {
   "cell_type": "code",
   "execution_count": null,
   "metadata": {
    "collapsed": true
   },
   "outputs": [],
   "source": []
  },
  {
   "cell_type": "code",
   "execution_count": null,
   "metadata": {
    "collapsed": true
   },
   "outputs": [],
   "source": [
    "estconn.close()"
   ]
  }
 ],
 "metadata": {
  "kernelspec": {
   "display_name": "Python 3",
   "language": "python",
   "name": "python3"
  },
  "language_info": {
   "codemirror_mode": {
    "name": "ipython",
    "version": 3
   },
   "file_extension": ".py",
   "mimetype": "text/x-python",
   "name": "python",
   "nbconvert_exporter": "python",
   "pygments_lexer": "ipython3",
   "version": "3.6.1"
  }
 },
 "nbformat": 4,
 "nbformat_minor": 2
}
