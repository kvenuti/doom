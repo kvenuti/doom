{
 "cells": [
  {
   "cell_type": "code",
   "execution_count": 1,
   "metadata": {
    "collapsed": true
   },
   "outputs": [],
   "source": [
    "import RAP_MASTER_LIB\n",
    "#MY LIBRARIES -- towards the end of project/when you need a break write up documentaiton of libraries\n",
    "#another library for plotting and testing\n",
    "from rap_scrpr import *\n",
    "from rap_db import *\n",
    "from rap_clean import*\n",
    "import matplotlib.pyplot as plt\n",
    "from statistics import mean, median \n",
    "estconn = pg2.connect(database='rap_songs', user='keenan', host='localhost', password='keenan')\n",
    "#create_music_tables(estconn)"
   ]
  },
  {
   "cell_type": "markdown",
   "metadata": {},
   "source": [
    "import RAP_MASTER_LIB\n",
    "import re\n",
    "from bs4 import BeautifulSoup\n",
    "import urllib\n",
    "import time\n",
    "import json\n",
    "import psycopg2 as pg2\n",
    "import psycopg2.extras\n",
    "\n",
    "from rap_scrpr import *\n",
    "from rap_db import *\n",
    "from rap_clean import*\n",
    "#nltk.download()\n",
    "from os import listdir\n",
    "from os.path import isfile, join\n",
    "\n",
    "estconn = pg2.connect(database='rap_songs', user='keenan', host='localhost', password='keenan')\n",
    "#create_music_tables(estconn)"
   ]
  },
  {
   "cell_type": "code",
   "execution_count": 1,
   "metadata": {},
   "outputs": [
    {
     "ename": "NameError",
     "evalue": "name 'construct_artists' is not defined",
     "output_type": "error",
     "traceback": [
      "\u001b[1;31m---------------------------------------------------------------------------\u001b[0m",
      "\u001b[1;31mNameError\u001b[0m                                 Traceback (most recent call last)",
      "\u001b[1;32m<ipython-input-1-cb358029511f>\u001b[0m in \u001b[0;36m<module>\u001b[1;34m()\u001b[0m\n\u001b[0;32m      5\u001b[0m \u001b[1;31m#bulk_load(estconn, new_artists)\u001b[0m\u001b[1;33m\u001b[0m\u001b[1;33m\u001b[0m\u001b[0m\n\u001b[0;32m      6\u001b[0m \u001b[1;31m#create the artist, album, song, and verse objects\u001b[0m\u001b[1;33m\u001b[0m\u001b[1;33m\u001b[0m\u001b[0m\n\u001b[1;32m----> 7\u001b[1;33m \u001b[0mworks\u001b[0m \u001b[1;33m=\u001b[0m \u001b[0mconstruct_artists\u001b[0m\u001b[1;33m(\u001b[0m\u001b[0mestconn\u001b[0m\u001b[1;33m,\u001b[0m \u001b[0mart_list\u001b[0m \u001b[1;33m=\u001b[0m \u001b[1;33m[\u001b[0m\u001b[1;34m'Del'\u001b[0m\u001b[1;33m,\u001b[0m \u001b[1;34m'Chance the Rapper'\u001b[0m\u001b[1;33m,\u001b[0m\u001b[1;34m'MF Doom'\u001b[0m\u001b[1;33m]\u001b[0m\u001b[1;33m,\u001b[0m \u001b[0muse_ind_artists\u001b[0m\u001b[1;33m=\u001b[0m\u001b[1;32mFalse\u001b[0m\u001b[1;33m)\u001b[0m\u001b[1;33m\u001b[0m\u001b[0m\n\u001b[0m",
      "\u001b[1;31mNameError\u001b[0m: name 'construct_artists' is not defined"
     ]
    }
   ],
   "source": [
    "#scrape artist\n",
    "#create_music_tables(estconn, bypass = True)\n",
    "#new_artists = scrape_multi_artists(estconn, ['10sion'])\n",
    "#load them into db\n",
    "#bulk_load(estconn, new_artists)\n",
    "#create the artist, album, song, and verse objects\n",
    "works = construct_artists(estconn, art_list = ['Del', 'Chance the Rapper','MF Doom'], use_ind_artists=False)"
   ]
  },
  {
   "cell_type": "code",
   "execution_count": 10,
   "metadata": {},
   "outputs": [],
   "source": [
    "works.append(construct_artists(estconn, art_list = ['50 Cent'], use_ind_artists=False))"
   ]
  },
  {
   "cell_type": "markdown",
   "metadata": {
    "collapsed": true
   },
   "source": [
    "what you did\n",
    "implemented construct artists on the backend\n",
    "you enter artist, albums, songs and it filters any matchces it finds of that\n",
    "\n",
    "next is viz and modeling forsure"
   ]
  },
  {
   "cell_type": "code",
   "execution_count": 2,
   "metadata": {},
   "outputs": [],
   "source": [
    "works = construct_artists(estconn, art_list = ['MF Doom'], use_ind_artists=False)"
   ]
  },
  {
   "cell_type": "markdown",
   "metadata": {},
   "source": [
    "CHANGING BACK END TO REMOVE SOUND EFFECTS LIKE (),{},**,ETC. IMPT, LEFT COMMENT AT LINE 197"
   ]
  },
  {
   "cell_type": "code",
   "execution_count": 3,
   "metadata": {
    "collapsed": true
   },
   "outputs": [],
   "source": [
    "#this is sick"
   ]
  },
  {
   "cell_type": "code",
   "execution_count": 4,
   "metadata": {
    "scrolled": false
   },
   "outputs": [
    {
     "name": "stdout",
     "output_type": "stream",
     "text": [
      "MF Doom\n"
     ]
    },
    {
     "data": {
      "image/png": "[encoded data removed]",
      "text/plain": [
       "<matplotlib.figure.Figure at 0x236705a6e10>"
      ]
     },
     "metadata": {},
     "output_type": "display_data"
    },
    {
     "name": "stdout",
     "output_type": "stream",
     "text": [
      "Verses: 0.7490168114368381 0.7540322580645161 Songs: 0.6631320404568865 0.6681043282972642\n"
     ]
    }
   ],
   "source": [
    "def quick_plot(artist_obj_list, b = 80):\n",
    "    #good start, build on ideas from here\n",
    "    #this is too messy for your final shit\n",
    "    for art in artist_obj_list:\n",
    "        #by verse\n",
    "        uniq_vs = []\n",
    "        for v in art.verses:\n",
    "            uniq_vs.append(len(v.unique_words)/len(v.all_words))\n",
    "        #by song\n",
    "        uniq_ss = []\n",
    "        for s in art.songs:\n",
    "            one_song = set()\n",
    "            one_song_all = []\n",
    "            for seg in s.segments:\n",
    "                if type(seg) == verse:\n",
    "                    one_song = one_song|seg.unique_words\n",
    "                    one_song_all.extend(seg.all_words)\n",
    "            if one_song and one_song_all:\n",
    "                uniq_ss.append(len(one_song)/len(one_song_all))\n",
    "        print(art.name)\n",
    "        \n",
    "        #graphs\n",
    "        fig, (ax1,ax2) = plt.subplots(1,2, figsize=(10,4))\n",
    "        ax1.hist(uniq_vs, bins=b, color='green')\n",
    "        ax1.axvline(mean(uniq_vs), color='yellow', linestyle='dashed', linewidth=1)\n",
    "        ax1.axvline(median(uniq_vs), color='red', linestyle='solid', linewidth=1)\n",
    "        ax2.hist(uniq_ss, bins=b, color='blue')\n",
    "        ax2.axvline(mean(uniq_ss), color='yellow', linestyle='dashed', linewidth=1)\n",
    "        ax2.axvline(median(uniq_ss), color='red', linestyle='solid', linewidth=1)\n",
    "        fig.tight_layout()\n",
    "        plt.show()\n",
    "        print('Verses:',mean(uniq_vs), median(uniq_vs),'Songs:',mean(uniq_ss), median(uniq_ss))        \n",
    "quick_plot(works)"
   ]
  },
  {
   "cell_type": "code",
   "execution_count": 5,
   "metadata": {},
   "outputs": [],
   "source": [
    "all_verses = []\n",
    "for v in works[0].verses:\n",
    "    all_verses.append((len(v.unique_words)/len(v.all_words), v.content, v.unique_words))\n",
    "all_verses = sorted(all_verses, reverse=True)"
   ]
  },
  {
   "cell_type": "code",
   "execution_count": 6,
   "metadata": {
    "scrolled": false
   },
   "outputs": [
    {
     "name": "stdout",
     "output_type": "stream",
     "text": [
      "0.9473684210526315 \n",
      "Run up in your fucking lab looking for goodies\n",
      "A hundred tooties decked out in fatass robes and St Vitus hoodies\n",
      "Three man team screaming for vengeance\n",
      "I shed repentence until my last sentence\n",
      "Time to end this\n",
      "\n",
      "0.9473684210526315 \n",
      "Looking at his henny sip\n",
      "Look at little pretty chicks\n",
      "Sucka's tryin to penny flip\n",
      "niggaz looping any shit\n",
      "\n",
      "\n",
      "\n",
      "0.9428571428571428 \n",
      "On the strength, she wasn't lent three cent\n",
      "Got her own connect for free rent off the cement\n",
      "Now what if that was your moms Short arms \n",
      "Quarter waters to bottles of Dom bought the \n",
      "\n",
      "\n",
      "\n",
      "0.9393939393939394 \n",
      "No doubt \n",
      "Krazy world, get it where you fit in...\n",
      "....\n",
      "\n",
      "\"Attention: We have heard from the control center on Monster Island that the \n",
      "two monsters have broken out. All men stand by!\"\n",
      "\n",
      "0.9375 \n",
      "MF DOOM, QUAS high like sky scrappers\n",
      "Quasimoto gettin more ass than toilet paper\n",
      "\n",
      "Who\n",
      "\n",
      "Astro Black on attack you up on the bozack\n",
      "Know smarts\n",
      "Lightweight\n",
      "Ya bald head like Cojack\n",
      "\n",
      "\n",
      "\n"
     ]
    }
   ],
   "source": [
    "for a in all_verses[:5]:\n",
    "    print(a[0], a[1])\n",
    "    print()"
   ]
  },
  {
   "cell_type": "markdown",
   "metadata": {
    "collapsed": true
   },
   "source": [
    "0.9473684210526315 \n",
    "Run up in your fucking lab looking for goodies\n",
    "A hundred tooties decked out in fatass robes and St Vitus hoodies\n",
    "Three man team screaming for vengeance\n",
    "I shed repentence until my last sentence\n",
    "Time to end this\n",
    "\n",
    "0.9473684210526315 \n",
    "Looking at his henny sip\n",
    "Look at little pretty chicks\n",
    "Sucka's tryin to penny flip\n",
    "niggaz looping any shit\n",
    "\n",
    "\n",
    "\n",
    "0.9428571428571428 \n",
    "On the strength, she wasn't lent three cent\n",
    "Got her own connect for free rent off the cement\n",
    "Now what if that was your moms Short arms \n",
    "Quarter waters to bottles of Dom bought the \n",
    "\n",
    "\n",
    "\n",
    "0.9393939393939394 \n",
    "No doubt \n",
    "Krazy world, get it where you fit in...\n",
    "....\n",
    "\n",
    "\"Attention: We have heard from the control center on Monster Island that the \n",
    "two monsters have broken out. All men stand by!\"\n",
    "\n",
    "0.9375 \n",
    "MF DOOM, QUAS high like sky scrappers\n",
    "Quasimoto gettin more ass than toilet paper\n",
    "\n",
    "Who\n",
    "\n",
    "Astro Black on attack you up on the bozack\n",
    "Know smarts\n",
    "Lightweight\n",
    "Ya bald head like Cojack\n"
   ]
  },
  {
   "cell_type": "markdown",
   "metadata": {
    "collapsed": true
   },
   "source": [
    "what you did\n",
    "\n",
    "started vizing and analying\n",
    "def found some continuty stuff gonna have to decide on\n",
    "should \"\" be included?\n",
    "are verses being segmented too quickly? (not much to do here)\n",
    "vizs look good so far, keep trucking there\n",
    "\n",
    "what's next\n",
    "plan out vizs\n",
    "plant out meta data you want\n",
    "make meta data calcs and graphing backend\n",
    "possibly add that stuff to db (maybe)"
   ]
  },
  {
   "cell_type": "code",
   "execution_count": null,
   "metadata": {
    "collapsed": true
   },
   "outputs": [],
   "source": []
  },
  {
   "cell_type": "code",
   "execution_count": 7,
   "metadata": {
    "collapsed": true
   },
   "outputs": [],
   "source": [
    "estconn.close()"
   ]
  },
  {
   "cell_type": "code",
   "execution_count": null,
   "metadata": {
    "collapsed": true
   },
   "outputs": [],
   "source": []
  }
 ],
 "metadata": {
  "kernelspec": {
   "display_name": "Python 3",
   "language": "python",
   "name": "python3"
  },
  "language_info": {
   "codemirror_mode": {
    "name": "ipython",
    "version": 3
   },
   "file_extension": ".py",
   "mimetype": "text/x-python",
   "name": "python",
   "nbconvert_exporter": "python",
   "pygments_lexer": "ipython3",
   "version": "3.6.1"
  }
 },
 "nbformat": 4,
 "nbformat_minor": 2
}
