{
 "cells": [
  {
   "cell_type": "code",
   "execution_count": 1,
   "metadata": {
    "collapsed": true
   },
   "outputs": [],
   "source": [
    "import RAP_MASTER_LIB\n",
    "#MY LIBRARIES\n",
    "from rap_scrpr import *\n",
    "from rap_db import *\n",
    "from rap_clean import*\n",
    "\n",
    "estconn = pg2.connect(database='rap_songs', user='keenan', host='localhost', password='keenan')\n",
    "#create_music_tables(estconn)"
   ]
  },
  {
   "cell_type": "markdown",
   "metadata": {},
   "source": [
    "import RAP_MASTER_LIB\n",
    "import re\n",
    "from bs4 import BeautifulSoup\n",
    "import urllib\n",
    "import time\n",
    "import json\n",
    "import psycopg2 as pg2\n",
    "import psycopg2.extras\n",
    "\n",
    "from rap_scrpr import *\n",
    "from rap_db import *\n",
    "from rap_clean import*\n",
    "#nltk.download()\n",
    "from os import listdir\n",
    "from os.path import isfile, join\n",
    "\n",
    "estconn = pg2.connect(database='rap_songs', user='keenan', host='localhost', password='keenan')\n",
    "#create_music_tables(estconn)"
   ]
  },
  {
   "cell_type": "code",
   "execution_count": 2,
   "metadata": {},
   "outputs": [
    {
     "name": "stdout",
     "output_type": "stream",
     "text": [
      "0 songs cleaned raw\n",
      "1 songs cleaned clean\n",
      "10sion_raw.json made!\n",
      "10sion_raw.json added!\n"
     ]
    }
   ],
   "source": [
    "#scrape artist\n",
    "#create_music_tables(estconn, bypass = True)\n",
    "#new_artists = scrape_multi_artists(estconn, ['10sion'])\n",
    "#load them into db\n",
    "#bulk_load(estconn, new_artists)\n",
    "#create the artist, album, song, and verse objects\n",
    "works = construct_artists(estconn, art_list = ['Chance the Rapper'], alb_list=['Acid Rap'], use_ind_artists=True)"
   ]
  },
  {
   "cell_type": "markdown",
   "metadata": {
    "collapsed": true
   },
   "source": [
    "what you did\n",
    "implemented construct artists on the backend\n",
    "you enter artist, albums, songs and it filters any matchces it finds of that\n",
    "\n",
    "next is viz and modeling forsure"
   ]
  },
  {
   "cell_type": "code",
   "execution_count": 14,
   "metadata": {
    "collapsed": true
   },
   "outputs": [],
   "source": [
    "estconn.close()"
   ]
  },
  {
   "cell_type": "code",
   "execution_count": null,
   "metadata": {
    "collapsed": true
   },
   "outputs": [],
   "source": []
  }
 ],
 "metadata": {
  "kernelspec": {
   "display_name": "Python 3",
   "language": "python",
   "name": "python3"
  },
  "language_info": {
   "codemirror_mode": {
    "name": "ipython",
    "version": 3
   },
   "file_extension": ".py",
   "mimetype": "text/x-python",
   "name": "python",
   "nbconvert_exporter": "python",
   "pygments_lexer": "ipython3",
   "version": "3.6.1"
  }
 },
 "nbformat": 4,
 "nbformat_minor": 2
}
