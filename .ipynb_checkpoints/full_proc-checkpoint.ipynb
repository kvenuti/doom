{
 "cells": [
  {
   "cell_type": "code",
   "execution_count": 1,
   "metadata": {
    "collapsed": true
   },
   "outputs": [],
   "source": [
    "import RAP_MASTER_LIB\n",
    "#MY LIBRARIES\n",
    "from rap_scrpr import *\n",
    "from rap_db import *\n",
    "from rap_clean import*\n",
    "\n",
    "estconn = pg2.connect(database='rap_songs', user='keenan', host='localhost', password='keenan')\n",
    "#create_music_tables(estconn)"
   ]
  },
  {
   "cell_type": "markdown",
   "metadata": {},
   "source": [
    "import RAP_MASTER_LIB\n",
    "import re\n",
    "from bs4 import BeautifulSoup\n",
    "import urllib\n",
    "import time\n",
    "import json\n",
    "import psycopg2 as pg2\n",
    "import psycopg2.extras\n",
    "\n",
    "from rap_scrpr import *\n",
    "from rap_db import *\n",
    "from rap_clean import*\n",
    "#nltk.download()\n",
    "from os import listdir\n",
    "from os.path import isfile, join\n",
    "\n",
    "estconn = pg2.connect(database='rap_songs', user='keenan', host='localhost', password='keenan')\n",
    "#create_music_tables(estconn)"
   ]
  },
  {
   "cell_type": "code",
   "execution_count": 2,
   "metadata": {
    "collapsed": true
   },
   "outputs": [],
   "source": [
    "#for show\n",
    "#create_music_tables(estconn, bypass = True)\n",
    "\n",
    "#scrape artist\n",
    "new_artists = scrape_multi_artists(estconn, ['artist'])\n",
    "\n",
    "#load them into db\n",
    "bulk_load(estconn, new_artists)\n",
    "\n",
    "\n",
    "#gonna run into overwrite iossues with artist, need to if then for if artist already exists\n",
    "#pull from db and make song objects\n",
    "def construct_artists(conn, art_list = [''], alb_list = [''], sng_list = [''], use_base = True):\n",
    "    #pull from db\n",
    "    record_pull = adv_pull(conn, art_list, alb_list, sng_list)\n",
    "    \n",
    "    artists = []\n",
    "    #make song objs\n",
    "    for base_art, db_records in record_pull.items():\n",
    "        for full_art, albs in db_records.items():\n",
    "            #do we we want to record under one name or each songs name\n",
    "            if use_base:\n",
    "                art = base_art\n",
    "            else:\n",
    "                art = full_art\n",
    "\n",
    "            album_objs = []\n",
    "            for alb_name, sngs in albs.items():\n",
    "                song_objs = []\n",
    "                for sng_name, lyrc in sngs.items():\n",
    "                    song_obj = song(lyrc, sng_name, art)\n",
    "                    song_obj.assign_extras()\n",
    "                    song_obj.remove_and_reass()\n",
    "                    song_obj.create_song_as_seg()\n",
    "                    song_objs.append(song_obj)\n",
    "                album_obj = album(art, alb_name, song_objs)\n",
    "                #extra verse cleaning\n",
    "                for v in album_obj.verses:\n",
    "                    v.run_all_split()\n",
    "                album_objs.append(album_obj)\n",
    "\n",
    "            artist_obj = artist(art, album_objs)\n",
    "            artists.append(artist_obj)\n",
    "    return artists"
   ]
  },
  {
   "cell_type": "code",
   "execution_count": 5,
   "metadata": {},
   "outputs": [
    {
     "ename": "NameError",
     "evalue": "name 'construct_artists' is not defined",
     "output_type": "error",
     "traceback": [
      "\u001b[1;31m---------------------------------------------------------------------------\u001b[0m",
      "\u001b[1;31mNameError\u001b[0m                                 Traceback (most recent call last)",
      "\u001b[1;32m<ipython-input-5-e6686e98bd3d>\u001b[0m in \u001b[0;36m<module>\u001b[1;34m()\u001b[0m\n\u001b[1;32m----> 1\u001b[1;33m \u001b[0mar\u001b[0m \u001b[1;33m=\u001b[0m \u001b[0mconstruct_artists\u001b[0m\u001b[1;33m(\u001b[0m\u001b[0mestconn\u001b[0m\u001b[1;33m,\u001b[0m \u001b[1;34m'Chance The Rapper'\u001b[0m\u001b[1;33m,\u001b[0m \u001b[1;33m[\u001b[0m\u001b[1;34m'Chance The Rapper'\u001b[0m\u001b[1;33m,\u001b[0m \u001b[1;34m'db'\u001b[0m\u001b[1;33m]\u001b[0m\u001b[1;33m)\u001b[0m\u001b[1;33m\u001b[0m\u001b[0m\n\u001b[0m",
      "\u001b[1;31mNameError\u001b[0m: name 'construct_artists' is not defined"
     ]
    }
   ],
   "source": [
    "ar = construct_artists(estconn, 'Chance The Rapper', ['Chance The Rapper', 'db'])"
   ]
  },
  {
   "cell_type": "code",
   "execution_count": 5,
   "metadata": {
    "collapsed": true
   },
   "outputs": [],
   "source": [
    "chance = ar"
   ]
  },
  {
   "cell_type": "code",
   "execution_count": 6,
   "metadata": {},
   "outputs": [
    {
     "data": {
      "text/plain": [
       "[]"
      ]
     },
     "execution_count": 6,
     "metadata": {},
     "output_type": "execute_result"
    }
   ],
   "source": [
    "chance"
   ]
  },
  {
   "cell_type": "code",
   "execution_count": 2,
   "metadata": {
    "collapsed": true
   },
   "outputs": [],
   "source": [
    "b = adv_pull(estconn, ['Chance The Rapper', 'db'])"
   ]
  },
  {
   "cell_type": "code",
   "execution_count": 3,
   "metadata": {
    "collapsed": true
   },
   "outputs": [],
   "source": [
    "abd = {'1':1, '2':2, '3':3}"
   ]
  },
  {
   "cell_type": "markdown",
   "metadata": {
    "collapsed": true
   },
   "source": [
    "what you did\n",
    "\n",
    "so much hard to tell tbh\n",
    "made artist, album classes, finished clean library and added all verse cleaning,\n",
    "made an upgraded way to pull from db,\n",
    "set up first function to feed artists and spit out objects, smart too\n",
    "touched up typos, cleaned clean library\n",
    "also made easier way to scrape\n",
    "soooo much shit\n",
    "probably need cleaning before final publsih\n",
    "and consolidated master library\n",
    "\n",
    "next is viz and modeling forsure\n"
   ]
  },
  {
   "cell_type": "code",
   "execution_count": 14,
   "metadata": {
    "collapsed": true
   },
   "outputs": [],
   "source": [
    "#estconn.close()"
   ]
  },
  {
   "cell_type": "code",
   "execution_count": null,
   "metadata": {
    "collapsed": true
   },
   "outputs": [],
   "source": []
  }
 ],
 "metadata": {
  "kernelspec": {
   "display_name": "Python 3",
   "language": "python",
   "name": "python3"
  },
  "language_info": {
   "codemirror_mode": {
    "name": "ipython",
    "version": 3
   },
   "file_extension": ".py",
   "mimetype": "text/x-python",
   "name": "python",
   "nbconvert_exporter": "python",
   "pygments_lexer": "ipython3",
   "version": "3.6.3"
  }
 },
 "nbformat": 4,
 "nbformat_minor": 2
}
