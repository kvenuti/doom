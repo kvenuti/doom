{
 "cells": [
  {
   "cell_type": "code",
   "execution_count": 97,
   "metadata": {
    "collapsed": true
   },
   "outputs": [],
   "source": [
    "import RAP_MASTER_LIB\n",
    "#MY LIBRARIES -- towards the end of project/when you need a break write up documentaiton of libraries\n",
    "#another library for plotting and testing\n",
    "from rap_scrpr import *\n",
    "from rap_db import *\n",
    "from rap_clean import*\n",
    "from rap_viz import *\n",
    "#import nltk\n",
    "\n",
    "#import nltk\n",
    "#nltk.download()\n",
    "#create_music_tables(estconn)\n",
    "from datamuse import datamuse\n",
    "api = datamuse.Datamuse()\n",
    "#from pyphonetics import RefinedSoundex\n",
    "#rs = RefinedSoundex()\n",
    "#https://api.datamuse.com/words?sp=rhymmin\n",
    "#^to find closest word\n",
    "from nltk.corpus import cmudict\n",
    "syl_dict = cmudict.dict()\n",
    "#from autocorrect import spell\n",
    "wrds = set(syl_dict.keys())\n",
    "from difflib import get_close_matches"
   ]
  },
  {
   "cell_type": "code",
   "execution_count": 98,
   "metadata": {
    "collapsed": true
   },
   "outputs": [],
   "source": [
    "from nltk.corpus import cmudict\n",
    "CMU_DICT = cmudict.dict()\n",
    "CMU_KEYS = set(CMU_DICT.keys())"
   ]
  },
  {
   "cell_type": "code",
   "execution_count": 99,
   "metadata": {
    "collapsed": true
   },
   "outputs": [],
   "source": [
    "estconn = pg2.connect(database='rap_songs', user='keenan', host='localhost', password='keenan')\n",
    "cur = estconn.cursor()\n",
    "cur.execute('''SELECT LOWER(song_lyrics) FROM songs;''')\n",
    "query = cur.fetchall()\n",
    "_all_words = set()\n",
    "\n",
    "LYRIC_SYL = {}\n",
    "#want all rappers listed and any rapper in list of rappers\n",
    "for lyrc in query:\n",
    "    text = lyrc[0]\n",
    "    #same splitting technique later used in verse\n",
    "    text = re.sub('[^0-9a-zA-Z\\'\\-]+', ' ', text)\n",
    "    text = text.split(' ')\n",
    "    _all_words = _all_words|set(text)\n",
    "_all_words = _all_words-{''}"
   ]
  },
  {
   "cell_type": "code",
   "execution_count": 101,
   "metadata": {},
   "outputs": [
    {
     "name": "stdout",
     "output_type": "stream",
     "text": [
      "0\n"
     ]
    },
    {
     "ename": "KeyboardInterrupt",
     "evalue": "",
     "output_type": "error",
     "traceback": [
      "\u001b[1;31m---------------------------------------------------------------------------\u001b[0m",
      "\u001b[1;31mKeyboardInterrupt\u001b[0m                         Traceback (most recent call last)",
      "\u001b[1;32m<ipython-input-101-78c4bc56356b>\u001b[0m in \u001b[0;36m<module>\u001b[1;34m()\u001b[0m\n\u001b[0;32m      7\u001b[0m     \u001b[0mmtch\u001b[0m \u001b[1;33m=\u001b[0m \u001b[0mword\u001b[0m\u001b[1;33m\u001b[0m\u001b[0m\n\u001b[0;32m      8\u001b[0m     \u001b[1;32mif\u001b[0m \u001b[0mmtch\u001b[0m \u001b[1;32mnot\u001b[0m \u001b[1;32min\u001b[0m \u001b[0mCMU_KEYS\u001b[0m\u001b[1;33m:\u001b[0m\u001b[1;33m\u001b[0m\u001b[0m\n\u001b[1;32m----> 9\u001b[1;33m         \u001b[0mmtch\u001b[0m \u001b[1;33m=\u001b[0m \u001b[0mget_close_matches\u001b[0m\u001b[1;33m(\u001b[0m\u001b[0mword\u001b[0m\u001b[1;33m,\u001b[0m \u001b[0mCMU_KEYS\u001b[0m\u001b[1;33m)\u001b[0m\u001b[1;33m\u001b[0m\u001b[0m\n\u001b[0m\u001b[0;32m     10\u001b[0m     \u001b[1;32mif\u001b[0m \u001b[0mmtch\u001b[0m\u001b[1;33m:\u001b[0m\u001b[1;33m\u001b[0m\u001b[0m\n\u001b[0;32m     11\u001b[0m         \u001b[0mLYRIC_SYL\u001b[0m\u001b[1;33m[\u001b[0m\u001b[0mmtch\u001b[0m\u001b[1;33m[\u001b[0m\u001b[1;36m0\u001b[0m\u001b[1;33m]\u001b[0m\u001b[1;33m]\u001b[0m \u001b[1;33m=\u001b[0m \u001b[0mCMU_DICT\u001b[0m\u001b[1;33m[\u001b[0m\u001b[0mmtch\u001b[0m\u001b[1;33m[\u001b[0m\u001b[1;36m0\u001b[0m\u001b[1;33m]\u001b[0m\u001b[1;33m]\u001b[0m\u001b[1;33m\u001b[0m\u001b[0m\n",
      "\u001b[1;32mC:\\Users\\kvenu\\AppData\\Local\\Continuum\\Anaconda3\\lib\\difflib.py\u001b[0m in \u001b[0;36mget_close_matches\u001b[1;34m(word, possibilities, n, cutoff)\u001b[0m\n\u001b[0;32m    725\u001b[0m         \u001b[0ms\u001b[0m\u001b[1;33m.\u001b[0m\u001b[0mset_seq1\u001b[0m\u001b[1;33m(\u001b[0m\u001b[0mx\u001b[0m\u001b[1;33m)\u001b[0m\u001b[1;33m\u001b[0m\u001b[0m\n\u001b[0;32m    726\u001b[0m         \u001b[1;32mif\u001b[0m \u001b[0ms\u001b[0m\u001b[1;33m.\u001b[0m\u001b[0mreal_quick_ratio\u001b[0m\u001b[1;33m(\u001b[0m\u001b[1;33m)\u001b[0m \u001b[1;33m>=\u001b[0m \u001b[0mcutoff\u001b[0m \u001b[1;32mand\u001b[0m\u001b[0;31m \u001b[0m\u001b[0;31m\\\u001b[0m\u001b[1;33m\u001b[0m\u001b[0m\n\u001b[1;32m--> 727\u001b[1;33m            \u001b[0ms\u001b[0m\u001b[1;33m.\u001b[0m\u001b[0mquick_ratio\u001b[0m\u001b[1;33m(\u001b[0m\u001b[1;33m)\u001b[0m \u001b[1;33m>=\u001b[0m \u001b[0mcutoff\u001b[0m \u001b[1;32mand\u001b[0m\u001b[0;31m \u001b[0m\u001b[0;31m\\\u001b[0m\u001b[1;33m\u001b[0m\u001b[0m\n\u001b[0m\u001b[0;32m    728\u001b[0m            \u001b[0ms\u001b[0m\u001b[1;33m.\u001b[0m\u001b[0mratio\u001b[0m\u001b[1;33m(\u001b[0m\u001b[1;33m)\u001b[0m \u001b[1;33m>=\u001b[0m \u001b[0mcutoff\u001b[0m\u001b[1;33m:\u001b[0m\u001b[1;33m\u001b[0m\u001b[0m\n\u001b[0;32m    729\u001b[0m             \u001b[0mresult\u001b[0m\u001b[1;33m.\u001b[0m\u001b[0mappend\u001b[0m\u001b[1;33m(\u001b[0m\u001b[1;33m(\u001b[0m\u001b[0ms\u001b[0m\u001b[1;33m.\u001b[0m\u001b[0mratio\u001b[0m\u001b[1;33m(\u001b[0m\u001b[1;33m)\u001b[0m\u001b[1;33m,\u001b[0m \u001b[0mx\u001b[0m\u001b[1;33m)\u001b[0m\u001b[1;33m)\u001b[0m\u001b[1;33m\u001b[0m\u001b[0m\n",
      "\u001b[1;32mC:\\Users\\kvenu\\AppData\\Local\\Continuum\\Anaconda3\\lib\\difflib.py\u001b[0m in \u001b[0;36mquick_ratio\u001b[1;34m(self)\u001b[0m\n\u001b[0;32m    668\u001b[0m                 \u001b[0mnumb\u001b[0m \u001b[1;33m=\u001b[0m \u001b[0mavail\u001b[0m\u001b[1;33m[\u001b[0m\u001b[0melt\u001b[0m\u001b[1;33m]\u001b[0m\u001b[1;33m\u001b[0m\u001b[0m\n\u001b[0;32m    669\u001b[0m             \u001b[1;32melse\u001b[0m\u001b[1;33m:\u001b[0m\u001b[1;33m\u001b[0m\u001b[0m\n\u001b[1;32m--> 670\u001b[1;33m                 \u001b[0mnumb\u001b[0m \u001b[1;33m=\u001b[0m \u001b[0mfullbcount\u001b[0m\u001b[1;33m.\u001b[0m\u001b[0mget\u001b[0m\u001b[1;33m(\u001b[0m\u001b[0melt\u001b[0m\u001b[1;33m,\u001b[0m \u001b[1;36m0\u001b[0m\u001b[1;33m)\u001b[0m\u001b[1;33m\u001b[0m\u001b[0m\n\u001b[0m\u001b[0;32m    671\u001b[0m             \u001b[0mavail\u001b[0m\u001b[1;33m[\u001b[0m\u001b[0melt\u001b[0m\u001b[1;33m]\u001b[0m \u001b[1;33m=\u001b[0m \u001b[0mnumb\u001b[0m \u001b[1;33m-\u001b[0m \u001b[1;36m1\u001b[0m\u001b[1;33m\u001b[0m\u001b[0m\n\u001b[0;32m    672\u001b[0m             \u001b[1;32mif\u001b[0m \u001b[0mnumb\u001b[0m \u001b[1;33m>\u001b[0m \u001b[1;36m0\u001b[0m\u001b[1;33m:\u001b[0m\u001b[1;33m\u001b[0m\u001b[0m\n",
      "\u001b[1;31mKeyboardInterrupt\u001b[0m: "
     ]
    }
   ],
   "source": [
    "#this is what takes a chunk of time\n",
    "c = 0\n",
    "for word in _all_words:\n",
    "    if c % 5000 == 0:\n",
    "        print(c)\n",
    "    c+=1\n",
    "    mtch = word\n",
    "    if mtch not in CMU_KEYS:\n",
    "        mtch = get_close_matches(word, CMU_KEYS)\n",
    "    if mtch:\n",
    "        LYRIC_SYL[mtch[0]] = CMU_DICT[mtch[0]]\n",
    "art_save({'LYRIC_SYLBLS':LYRIC_SYL})"
   ]
  },
  {
   "cell_type": "code",
   "execution_count": null,
   "metadata": {
    "collapsed": true
   },
   "outputs": [],
   "source": [
    "LYRIC_SYL = art_load(nms='LYRIC_SYLBLS')['LYRIC_SYLBLS']"
   ]
  },
  {
   "cell_type": "code",
   "execution_count": null,
   "metadata": {
    "collapsed": true
   },
   "outputs": [],
   "source": []
  },
  {
   "cell_type": "code",
   "execution_count": null,
   "metadata": {
    "collapsed": true
   },
   "outputs": [],
   "source": []
  },
  {
   "cell_type": "code",
   "execution_count": null,
   "metadata": {
    "collapsed": true
   },
   "outputs": [],
   "source": []
  },
  {
   "cell_type": "code",
   "execution_count": null,
   "metadata": {
    "collapsed": true
   },
   "outputs": [],
   "source": []
  },
  {
   "cell_type": "code",
   "execution_count": 90,
   "metadata": {
    "collapsed": true
   },
   "outputs": [],
   "source": [
    "cur.close()\n",
    "estconn.close()"
   ]
  }
 ],
 "metadata": {
  "kernelspec": {
   "display_name": "Python 3",
   "language": "python",
   "name": "python3"
  },
  "language_info": {
   "codemirror_mode": {
    "name": "ipython",
    "version": 3
   },
   "file_extension": ".py",
   "mimetype": "text/x-python",
   "name": "python",
   "nbconvert_exporter": "python",
   "pygments_lexer": "ipython3",
   "version": "3.6.1"
  }
 },
 "nbformat": 4,
 "nbformat_minor": 2
}
