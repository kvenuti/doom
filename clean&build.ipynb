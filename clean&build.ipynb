{
 "cells": [
  {
   "cell_type": "code",
   "execution_count": 1,
   "metadata": {},
   "outputs": [],
   "source": [
    "import json\n",
    "import nltk\n",
    "import re\n",
    "#nltk.download()\n",
    "import psycopg2 as pg2\n",
    "#let's store in a postgresql db\n",
    "#from nltk.classify import NaiveBayesClassifier\n",
    "#from nltk.corpus import subjectivity\n",
    "#from nltk.sentiment import SentimentAnalyzer\n",
    "#from nltk.sentiment.util import *"
   ]
  },
  {
   "cell_type": "markdown",
   "metadata": {},
   "source": [
    "Vizualizations to start\n",
    "\n",
    "Sentiment anlaysis for each line for each verse for each song for each album\n",
    "sentiment analysis for each verse for each song for each album\n",
    "sentiment analysis fo reach song for each album\n",
    "http://lotrproject.com/statistics/books/sentimentanalysis\n",
    "http://help.sentiment140.com/api\n",
    "\n",
    "word count for album\n",
    "word count for artist\n",
    "\n",
    "word similarity/diversity count score for each song\n",
    "word similarity score for each album\n",
    "\n",
    "phoneme similarity score for each song\n",
    "phoneme similarity score for each album\n",
    "\n",
    "eventually a full textual representation of matching phoenems"
   ]
  },
  {
   "cell_type": "markdown",
   "metadata": {},
   "source": [
    "code/functions to build\n",
    "breaks down text to list of words (already have)\n",
    "breaks down list of words into list of list of phonemes\n",
    "\n"
   ]
  },
  {
   "cell_type": "markdown",
   "metadata": {},
   "source": [
    "algorithms/metrics to implemnet\n"
   ]
  },
  {
   "cell_type": "markdown",
   "metadata": {},
   "source": [
    "this is a cool project, I'd like to make a cool website to go along with hit"
   ]
  },
  {
   "cell_type": "code",
   "execution_count": 2,
   "metadata": {},
   "outputs": [],
   "source": [
    "songs = json.load(open('raw_mf_doom.json'))\n",
    "songs = songs['Songs']"
   ]
  },
  {
   "cell_type": "code",
   "execution_count": 3,
   "metadata": {
    "collapsed": true
   },
   "outputs": [],
   "source": [
    "def clean_lyrics(full_text):\n",
    "    words = re.sub(\"([\\(\\[]).*?([\\)\\]])\", \"\", full_text)\n",
    "    words = re.sub(\"\\n\",\"----\",words)\n",
    "    return words"
   ]
  },
  {
   "cell_type": "code",
   "execution_count": 4,
   "metadata": {},
   "outputs": [],
   "source": [
    "class artist():\n",
    "    def __init__(self, name):\n",
    "        self.name = name\n",
    "        self.albums = {}\n",
    "class album():\n",
    "    def __init__(self, name):\n",
    "        self.name = name\n",
    "        self.songs = {}\n",
    "class song():\n",
    "    def __init__(self, name, lyrics):\n",
    "        self.name = name\n",
    "        self.lyrics = clean_lyrics(lyrics)"
   ]
  },
  {
   "cell_type": "code",
   "execution_count": 5,
   "metadata": {},
   "outputs": [],
   "source": [
    "artists_dic = {}\n",
    "rejects = []\n",
    "for song_iter in songs:\n",
    "    #missing some info\n",
    "    try:\n",
    "        art = song_iter['Artist']\n",
    "        alb = song_iter['Album']\n",
    "        sng = song_iter['Title']\n",
    "        lyrc = song_iter['Lyrics']\n",
    "\n",
    "        if art not in artists_dic:\n",
    "            artists_dic[art] = artist(art)\n",
    "\n",
    "        if alb not in artists_dic[art].albums:\n",
    "            artists_dic[art].albums[alb] = album(alb)\n",
    "\n",
    "        artists_dic[art].albums[alb].songs[sng] = song(sng, lyrc)\n",
    "    except:\n",
    "        rejects.append(song_iter)"
   ]
  },
  {
   "cell_type": "code",
   "execution_count": null,
   "metadata": {
    "collapsed": true
   },
   "outputs": [],
   "source": [
    "#create our table in db\n",
    "def create_music_tables(conn):\n",
    "    clean = '''DROP TABLE IF EXISTS artist, album, song'''\n",
    "    artists = '''CREATE TABLE artist\n",
    "                (artist_id SERIAL PRIMARY KEY,\n",
    "                artist_name VARCHAR(50) NOT NULL,\n",
    "                artist_backg VARCHAR(50))'''\n",
    "    albums = '''CREATE TABLE album\n",
    "                (album_id SERIAL PRIMARY KEY,\n",
    "                artist_id SERIAL\n",
    "                REFERENCES artist (artist_id)\n",
    "                ON UPDATE CASCADE ON DELETE CASCADE,\n",
    "                album_name VARCHAR(50) NOT NULL,\n",
    "                album_sld SERIAL,\n",
    "                album_rtng SERIAL,\n",
    "                album_rev SERIAL)'''\n",
    "    songs = '''CREATE TABLE song\n",
    "                (song_id SERIAL PRIMARY KEY,\n",
    "                artist_id SERIAL\n",
    "                REFERENCES artist (artist_id)\n",
    "                ON UPDATE CASCADE ON DELETE CASCADE,\n",
    "                album_id SERIAL\n",
    "                REFERENCES album (album_id)\n",
    "                ON UPDATE CASCADE ON DELETE CASCADE,\n",
    "                song_name VARCHAR(50) NOT NULL,\n",
    "                song_lyrics TEXT NOT NULL,\n",
    "                song_wrd_len SERIAL,\n",
    "                song_time_len SERIAL)'''\n",
    "    \n",
    "    \n",
    "    cur = conn.cursor()\n",
    "    for command in [clean, artists, albums, songs]:\n",
    "        cur.execute(command)\n",
    "    cur.close()\n",
    "    conn.commit()"
   ]
  },
  {
   "cell_type": "code",
   "execution_count": null,
   "metadata": {},
   "outputs": [],
   "source": [
    "estconn = pg2.connect(database='rap_songs', user='keenan', host='localhost', password='keenan')\n",
    "#create_music_tables(estconn)\n",
    "estconn.close()"
   ]
  },
  {
   "cell_type": "markdown",
   "metadata": {
    "collapsed": true
   },
   "source": [
    "be great to figure out a way to add with artist name instead of key\n",
    "def add(art, albs):\n",
    "    commands = []\n",
    "    art_add = ('''DELETE FROM artist WHERE artist_name = %('art')s\n",
    "                INSERT INTO artist artist_name VALUES (%('art')s)''', {'art':art})\n",
    "    for alb in albs.keys():\n",
    "        alb_add = ('''DELETE FROM album WHERE artist_name = %('alb')s\n",
    "                    INSERT INTO artist artist_name VALUES (, %('alb')s)''', {'art':art,'alb':alb})\n",
    "    song_add = ('''DELETE FROM artist WHERE artist_name = %('art')s\n",
    "                INSERT INTO artist artist_name VALUES (%('art')s)''', {'art':art})"
   ]
  },
  {
   "cell_type": "code",
   "execution_count": null,
   "metadata": {
    "collapsed": true
   },
   "outputs": [],
   "source": [
    "for k, v in artists_dic:\n",
    "    add(k, v)"
   ]
  }
 ],
 "metadata": {
  "kernelspec": {
   "display_name": "Python 3",
   "language": "python",
   "name": "python3"
  },
  "language_info": {
   "codemirror_mode": {
    "name": "ipython",
    "version": 3
   },
   "file_extension": ".py",
   "mimetype": "text/x-python",
   "name": "python",
   "nbconvert_exporter": "python",
   "pygments_lexer": "ipython3",
   "version": "3.6.1"
  }
 },
 "nbformat": 4,
 "nbformat_minor": 2
}
