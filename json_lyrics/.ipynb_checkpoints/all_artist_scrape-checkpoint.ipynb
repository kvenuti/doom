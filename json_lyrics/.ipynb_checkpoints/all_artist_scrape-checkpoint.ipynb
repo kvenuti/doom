{
 "cells": [
  {
   "cell_type": "code",
   "execution_count": null,
   "metadata": {
    "collapsed": true
   },
   "outputs": [],
   "source": [
    "import json\n",
    "import re\n",
    "from bs4 import BeautifulSoup\n",
    "import urllib\n",
    "import psycopg2 as pg2\n",
    "import nltk\n",
    "#nltk.download()\n",
    "#estconn = pg2.connect(database='rap_songs', user='keenan', host='localhost', password='keenan')"
   ]
  },
  {
   "cell_type": "code",
   "execution_count": 106,
   "metadata": {
    "collapsed": true
   },
   "outputs": [],
   "source": [
    "soup = BeautifulSoup(urllib.request.urlopen('http://ohhla.com/all.html').read(), 'html.parser')"
   ]
  },
  {
   "cell_type": "code",
   "execution_count": 107,
   "metadata": {},
   "outputs": [
    {
     "data": {
      "text/plain": [
       "[<a name=\"xx\"> </a>,\n",
       " <a href=\"anonymous/10_kans/\">10 K.A.N.'s</a>,\n",
       " <a href=\"anonymous/10sion/\">10sion</a>,\n",
       " <a href=\"anonymous/113/\">113</a>,\n",
       " <a href=\"anonymous/eleven_5/\">11/5</a>]"
      ]
     },
     "execution_count": 107,
     "metadata": {},
     "output_type": "execute_result"
    }
   ],
   "source": [
    "soup.select('pre > a')[0:5]"
   ]
  },
  {
   "cell_type": "code",
   "execution_count": 108,
   "metadata": {
    "collapsed": true
   },
   "outputs": [],
   "source": [
    "art_dic = {}\n",
    "for a in soup.select('pre > a'):\n",
    "    try:\n",
    "        line = str(a).split('\">')\n",
    "        url = line[0].split('<a href=\"')[1]\n",
    "        art = line[1].split('<')[0]\n",
    "        art_dic[art] = url\n",
    "    except:\n",
    "        pass"
   ]
  },
  {
   "cell_type": "code",
   "execution_count": null,
   "metadata": {
    "collapsed": true
   },
   "outputs": [],
   "source": [
    "estconn = pg2.connect(database='rap_songs', user='keenan', host='localhost', password='keenan')\n",
    "s = '''drop table if exists all_artist_names'''\n",
    "f = '''create table all_artist_names (artist_nm text not null unique, artist_link text)'''\n",
    "commands = []\n",
    "for art, url in art_dic.items():\n",
    "    add = '''insert into all_artist_names values (%(art)s, %(url)s)''', {'art':art, 'url':url}\n",
    "    commands.append(add)\n",
    "    \n",
    "cur = estconn.cursor()\n",
    "cur.execute(s)\n",
    "cur.execute(f)\n",
    "for command in commands:\n",
    "    cur.execute(command[0], command[1])\n",
    "cur.close()\n",
    "estconn.commit()\n",
    "estconn.close()"
   ]
  },
  {
   "cell_type": "code",
   "execution_count": 19,
   "metadata": {
    "collapsed": true
   },
   "outputs": [],
   "source": [
    "estconn = pg2.connect(database='rap_songs', user='keenan', host='localhost', password='keenan')"
   ]
  },
  {
   "cell_type": "code",
   "execution_count": 103,
   "metadata": {
    "scrolled": true
   },
   "outputs": [
    {
     "name": "stdout",
     "output_type": "stream",
     "text": [
      "fuck you keenan\n",
      "fuck you keenan\n",
      "fuck you keenan\n",
      "fuck you keenan\n",
      "fuck you keenan\n",
      "fuck you keenan\n",
      "fuck you keenan\n",
      "fuck you keenan\n"
     ]
    }
   ],
   "source": [
    "#need this to figure out verses  - anytime a rapper is quoted need name to id type == verse\n",
    "cur = estconn.cursor()\n",
    "cur.execute('''SELECT lower(artist_nm) FROM all_artist_names UNION SELECT lower(artist_name) from artists;''')\n",
    "quer = cur.fetchall()\n",
    "COMPLETE_RAPPERS = set()\n",
    "#want all rappers listed and any rapper in string\n",
    "#this means special cases for 1, 2, 3 word rap names\n",
    "for art in quer:\n",
    "    full_name = art[0]\n",
    "    sep_name = re.sub('f./|f/|w/|&amp;|and|((^|\\W)\\()|(\\)($|\\W))', ',', full_name)\n",
    "    list_of_names = sep_name.split(',')\n",
    "    for name in list_of_names:\n",
    "        COMPLETE_RAPPERS = COMPLETE_RAPPERS|{name.strip()}\n",
    "        \n",
    "COMPLETE_RAPPERS = COMPLETE_RAPPERS - {''}"
   ]
  },
  {
   "cell_type": "code",
   "execution_count": 104,
   "metadata": {
    "scrolled": true
   },
   "outputs": [
    {
     "data": {
      "text/plain": [
       "True"
      ]
     },
     "execution_count": 104,
     "metadata": {},
     "output_type": "execute_result"
    }
   ],
   "source": [
    "'jay-z' in COMPLETE_RAPPERS"
   ]
  },
  {
   "cell_type": "code",
   "execution_count": null,
   "metadata": {
    "collapsed": true
   },
   "outputs": [],
   "source": []
  }
 ],
 "metadata": {
  "kernelspec": {
   "display_name": "Python 3",
   "language": "python",
   "name": "python3"
  },
  "language_info": {
   "codemirror_mode": {
    "name": "ipython",
    "version": 3
   },
   "file_extension": ".py",
   "mimetype": "text/x-python",
   "name": "python",
   "nbconvert_exporter": "python",
   "pygments_lexer": "ipython3",
   "version": "3.6.1"
  }
 },
 "nbformat": 4,
 "nbformat_minor": 2
}
