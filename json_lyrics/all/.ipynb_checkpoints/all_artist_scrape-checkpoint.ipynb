{
 "cells": [
  {
   "cell_type": "code",
   "execution_count": 1,
   "metadata": {},
   "outputs": [
    {
     "name": "stderr",
     "output_type": "stream",
     "text": [
      "/home/keenan/anaconda3/lib/python3.6/site-packages/psycopg2/__init__.py:144: UserWarning: The psycopg2 wheel package will be renamed from release 2.8; in order to keep installing from binary please use \"pip install psycopg2-binary\" instead. For details see: <http://initd.org/psycopg/docs/install.html#binary-install-from-pypi>.\n",
      "  \"\"\")\n"
     ]
    }
   ],
   "source": [
    "import json\n",
    "import re\n",
    "from bs4 import BeautifulSoup\n",
    "import urllib\n",
    "import psycopg2 as pg2\n",
    "import nltk\n",
    "#nltk.download()\n",
    "#estconn = pg2.connect(database='rap_songs', user='keenan', host='localhost', password='keenan')"
   ]
  },
  {
   "cell_type": "code",
   "execution_count": 2,
   "metadata": {},
   "outputs": [],
   "source": [
    "soup = BeautifulSoup(urllib.request.urlopen('http://ohhla.com/all.html').read(), 'html.parser')"
   ]
  },
  {
   "cell_type": "code",
   "execution_count": 3,
   "metadata": {},
   "outputs": [
    {
     "data": {
      "text/plain": [
       "[<a name=\"xx\"> </a>,\n",
       " <a href=\"anonymous/10_kans/\">10 K.A.N.'s</a>,\n",
       " <a href=\"anonymous/10sion/\">10sion</a>,\n",
       " <a href=\"anonymous/113/\">113</a>,\n",
       " <a href=\"anonymous/eleven_5/\">11/5</a>]"
      ]
     },
     "execution_count": 3,
     "metadata": {},
     "output_type": "execute_result"
    }
   ],
   "source": [
    "soup.select('pre > a')[0:5]"
   ]
  },
  {
   "cell_type": "code",
   "execution_count": 4,
   "metadata": {},
   "outputs": [],
   "source": [
    "art_dic = {}\n",
    "for a in soup.select('pre > a'):\n",
    "    try:\n",
    "        line = str(a).split('\">')\n",
    "        url = line[0].split('<a href=\"')[1]\n",
    "        art = line[1].split('<')[0]\n",
    "        art_dic[art] = url\n",
    "    except:\n",
    "        pass"
   ]
  },
  {
   "cell_type": "code",
   "execution_count": 5,
   "metadata": {},
   "outputs": [],
   "source": [
    "estconn = pg2.connect(database='rap_songs', user='keenan', host='localhost', password='keenan')\n",
    "s = '''drop table if exists all_artist_names'''\n",
    "f = '''create table all_artist_names (artist_nm text not null unique, artist_link text)'''\n",
    "commands = []\n",
    "for art, url in art_dic.items():\n",
    "    add = '''insert into all_artist_names values (%(art)s, %(url)s)''', {'art':art, 'url':url}\n",
    "    commands.append(add)\n",
    "    \n",
    "cur = estconn.cursor()\n",
    "cur.execute(s)\n",
    "cur.execute(f)\n",
    "for command in commands:\n",
    "    cur.execute(command[0], command[1])\n",
    "cur.close()\n",
    "estconn.commit()\n",
    "estconn.close()"
   ]
  },
  {
   "cell_type": "code",
   "execution_count": 6,
   "metadata": {},
   "outputs": [],
   "source": [
    "estconn = pg2.connect(database='rap_songs', user='keenan', host='localhost', password='keenan')"
   ]
  },
  {
   "cell_type": "code",
   "execution_count": 7,
   "metadata": {
    "scrolled": true
   },
   "outputs": [],
   "source": [
    "#need this to figure out verses  - anytime a rapper is quoted need name to id type == verse\n",
    "cur = estconn.cursor()\n",
    "cur.execute('''SELECT lower(artist_nm) FROM all_artist_names UNION SELECT lower(artist_name) from artists;''')\n",
    "quer = cur.fetchall()\n",
    "COMPLETE_RAPPERS = set()\n",
    "#want all rappers listed and any rapper in string\n",
    "#this means special cases for 1, 2, 3 word rap names\n",
    "for art in quer:\n",
    "    full_name = art[0]\n",
    "    sep_name = re.sub('f./|f/|w/|&amp;|and|((^|\\W)\\()|(\\)($|\\W))', ',', full_name)\n",
    "    list_of_names = sep_name.split(',')\n",
    "    for name in list_of_names:\n",
    "        COMPLETE_RAPPERS = COMPLETE_RAPPERS|{name.strip()}\n",
    "        \n",
    "COMPLETE_RAPPERS = COMPLETE_RAPPERS - {''}"
   ]
  },
  {
   "cell_type": "code",
   "execution_count": 12,
   "metadata": {
    "scrolled": true
   },
   "outputs": [
    {
     "data": {
      "text/plain": [
       "False"
      ]
     },
     "execution_count": 12,
     "metadata": {},
     "output_type": "execute_result"
    }
   ],
   "source": [
    "'Eminem' in COMPLETE_RAPPERS"
   ]
  },
  {
   "cell_type": "code",
   "execution_count": null,
   "metadata": {
    "collapsed": true
   },
   "outputs": [],
   "source": []
  }
 ],
 "metadata": {
  "kernelspec": {
   "display_name": "Python 3",
   "language": "python",
   "name": "python3"
  },
  "language_info": {
   "codemirror_mode": {
    "name": "ipython",
    "version": 3
   },
   "file_extension": ".py",
   "mimetype": "text/x-python",
   "name": "python",
   "nbconvert_exporter": "python",
   "pygments_lexer": "ipython3",
   "version": "3.6.5"
  }
 },
 "nbformat": 4,
 "nbformat_minor": 2
}
