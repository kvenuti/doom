{
 "cells": [
  {
   "cell_type": "code",
   "execution_count": 263,
   "metadata": {
    "collapsed": true
   },
   "outputs": [],
   "source": [
    "from bs4 import BeautifulSoup\n",
    "import urllib\n",
    "import re\n",
    "import json"
   ]
  },
  {
   "cell_type": "code",
   "execution_count": 264,
   "metadata": {},
   "outputs": [],
   "source": [
    "r = urllib.request.urlopen('http://ohhla.com/YFA_mfdoom.html').read()\n",
    "soup = BeautifulSoup(r, 'html.parser')"
   ]
  },
  {
   "cell_type": "code",
   "execution_count": 265,
   "metadata": {
    "scrolled": false
   },
   "outputs": [],
   "source": [
    "song_list = []\n",
    "for a in soup.find_all('a'):\n",
    "    if '.txt\">' in str(a):\n",
    "        lines = str(a).split('\">')\n",
    "        match = re.search(r'href=[\\'\"]?([^\\'\" >]+)', lines[0])\n",
    "        link = match.group(1)\n",
    "        title = lines[1][:-4]\n",
    "        song_list.append(link)"
   ]
  },
  {
   "cell_type": "code",
   "execution_count": 266,
   "metadata": {},
   "outputs": [
    {
     "data": {
      "text/plain": [
       "['anonymous/kmd/mr_hood/crackpot.kmd.txt',\n",
       " 'anonymous/kmd/mr_hood/who_me.kmd.txt',\n",
       " 'anonymous/kmd/mr_hood/boogie.kmd.txt',\n",
       " 'anonymous/kmd/mr_hood/subrocs.kmd.txt',\n",
       " 'anonymous/kmd/mr_hood/humrush.kmd.txt']"
      ]
     },
     "execution_count": 266,
     "metadata": {},
     "output_type": "execute_result"
    }
   ],
   "source": [
    "song_list[:5]"
   ]
  },
  {
   "cell_type": "code",
   "execution_count": 267,
   "metadata": {
    "scrolled": false
   },
   "outputs": [
    {
     "ename": "IndexError",
     "evalue": "list index out of range",
     "output_type": "error",
     "traceback": [
      "\u001b[1;31m---------------------------------------------------------------------------\u001b[0m",
      "\u001b[1;31mIndexError\u001b[0m                                Traceback (most recent call last)",
      "\u001b[1;32m<ipython-input-267-d8b8aa494603>\u001b[0m in \u001b[0;36m<module>\u001b[1;34m()\u001b[0m\n\u001b[0;32m      3\u001b[0m     \u001b[0mpage\u001b[0m \u001b[1;33m=\u001b[0m \u001b[0murllib\u001b[0m\u001b[1;33m.\u001b[0m\u001b[0mrequest\u001b[0m\u001b[1;33m.\u001b[0m\u001b[0murlopen\u001b[0m\u001b[1;33m(\u001b[0m\u001b[1;34m\"http://ohhla.com/\"\u001b[0m\u001b[1;33m+\u001b[0m\u001b[0msong\u001b[0m\u001b[1;33m)\u001b[0m\u001b[1;33m.\u001b[0m\u001b[0mread\u001b[0m\u001b[1;33m(\u001b[0m\u001b[1;33m)\u001b[0m\u001b[1;33m\u001b[0m\u001b[0m\n\u001b[0;32m      4\u001b[0m     \u001b[0mtext\u001b[0m \u001b[1;33m=\u001b[0m \u001b[0mBeautifulSoup\u001b[0m\u001b[1;33m(\u001b[0m\u001b[0mpage\u001b[0m\u001b[1;33m,\u001b[0m \u001b[1;34m'html.parser'\u001b[0m\u001b[1;33m)\u001b[0m\u001b[1;33m\u001b[0m\u001b[0m\n\u001b[1;32m----> 5\u001b[1;33m     \u001b[0mlyrics\u001b[0m \u001b[1;33m=\u001b[0m \u001b[0mstr\u001b[0m\u001b[1;33m(\u001b[0m\u001b[0mtext\u001b[0m\u001b[1;33m.\u001b[0m\u001b[0mfind_all\u001b[0m\u001b[1;33m(\u001b[0m\u001b[1;34m'pre'\u001b[0m\u001b[1;33m)\u001b[0m\u001b[1;33m[\u001b[0m\u001b[1;36m0\u001b[0m\u001b[1;33m]\u001b[0m\u001b[1;33m)\u001b[0m\u001b[1;33m\u001b[0m\u001b[0m\n\u001b[0m\u001b[0;32m      6\u001b[0m     \u001b[0msong_text\u001b[0m\u001b[1;33m.\u001b[0m\u001b[0mappend\u001b[0m\u001b[1;33m(\u001b[0m\u001b[0mre\u001b[0m\u001b[1;33m.\u001b[0m\u001b[0msub\u001b[0m\u001b[1;33m(\u001b[0m\u001b[1;34m'<[^>]*>'\u001b[0m\u001b[1;33m,\u001b[0m \u001b[1;34m''\u001b[0m\u001b[1;33m,\u001b[0m \u001b[0mlyrics\u001b[0m\u001b[1;33m)\u001b[0m\u001b[1;33m)\u001b[0m\u001b[1;33m\u001b[0m\u001b[0m\n",
      "\u001b[1;31mIndexError\u001b[0m: list index out of range"
     ]
    }
   ],
   "source": [
    "song_text = []\n",
    "for song in song_list:\n",
    "    page = urllib.request.urlopen(\"http://ohhla.com/\"+song).read()\n",
    "    text = BeautifulSoup(page, 'html.parser')\n",
    "    lyrics = str(text.find_all('pre')[0])\n",
    "    song_text.append(re.sub('<[^>]*>', '', lyrics))"
   ]
  },
  {
   "cell_type": "code",
   "execution_count": 268,
   "metadata": {
    "scrolled": true
   },
   "outputs": [
    {
     "data": {
      "text/plain": [
       "[\"\\nArtist: K.M.D.\\nAlbum:  Mr. Hood\\nSong:   Mr. Hood at Piocalles Jewelry/Crackpot\\nTyped by: OHHLA Webmaster DJ Flash\\n\\n[Mr. Hood]  Let's enter this jewerly shop.\\n[Zev Love]  Ahc'mon Mr. Piocalles man hook it up\\n            14K, def bracelet, you can't beat it kid!\\n[Piocalles] No I cannot do that.\\n            This is not a pawn shop, this is Piocalles Jewelry!\\n            Ahh, Mr. Hood, my favorite customer!\\n            What can I do for you today?\\n[Mr. Hood]  I would like to see some gold rings.\\n[Piocalles] Ahh yes we have these stupid phat gold rings,\\n            perfect for your masculine hands.\\n[Mr. Hood]  Some earrings for my wife.\\n[Piocalles] How about these elephant studded diamond earrings,\\n            perfect for the woman of your dreams.\\n[Mr. Hood]  And a watch, for my cousin.\\n[Piocalles] Ahh yes we have a Rolex for just under three-thousand\\n            seven-hundred and ninety-two.\\n[Mr. Hood]  That is a beautiful watch.\\n[Zev Love]  No actually it's two-thousand, three-hundred\\n            and thirty-six green.\\n[Mr. Hood]  Many thanks for your help.\\n[Zev Love]  Yeah he's always trying to jerk people!\\n[Mr. Hood]  My name is Mr. Hood.  What is your name?\\n[Zev Love]  Hmm... yeah I'm Zev Love X from K.M.D.\\n[Mr. Hood]  I am pleased to meet you.\\n[Zev Love]  Oh yeah likewise uhh, how ya doin anyway?\\n[Mr. Hood]  Perfectly well, thank you.  And you?\\n[Zev Love]  Ohh... I'm just chillin, ya see uhh\\n            but I got one problem.  I come in here to pawn this\\n            bracelet, see cause this rhymin for nickels business\\n            ain't makin it.  What I need is a job uhh...\\n            where you work at?  They hiring?\\n[Mr. Hood]  Follow this avenue (yeah) turn right at the corner (uh-huh)\\n            go to the left when you reach the square. (yeah)\\n            It is the house next to the theater.\\n[Zev Love]  Ohh.  Huh.  Yeah I know the line of work you're in, yeah.\\n[Mr. Hood]  Would you care for a spoon?  They are not too expensive.\\n[Zev Love]  No go, I don't deal with that stuff.\\n            As a matter of fact...\\n\\nThis reminds me of the days of dwelling with those who\\nkilled off the weak for fancy clothes and hoes too\\nNot opposed to the picket fence dream\\nWhere both lines are same side of the gate\\nIt seems that it's all coming back to me now\\nYeah ummmmm ahhhhhh I figured it was about two summers ago\\nNo joking, no I lie to win\\nCause it was a crackpot, yeah Crackpot Jenkins\\nI first met Crackpot in like Head Starts\\nAnd then I knew he wasn't too head smart cuz I scribbled in art\\nHe insisted on standing in the sandbox to collect unknown\\namounts of pebbles and stones to throw rocks\\nDissin the wrist he flicked was suddenly an early physics lesson\\nTwo atoms can't occupy the same space\\nat the same time, acknowledged by the playground's boot to wesson\\nWho felt pops rock then cracked pops face\\nConsidering his aim, I warned he could hurt others with his game\\nMs. Kristmahn warned the same\\nAlthough, he didn't care the heat cuz in a decade and one year\\nHe continued to throw rocks for a career\\nPain and more pain as he pelt rocks felt by\\nEvery brother and brown will soon be dealt\\nOne more rock thrown, ahh shoot\\nUnder the van was a boy in a blue suit\\nStill a lot of rock throwin goin on up the block\\nBut a pocket full of pebbles what locked up Crackpot\\nShould've used his wrists for the cut like Subroc\\nMaybe then he'd have avoided the cacophony jackpot\\nYeah, the phony jackpot\\n\\n[Zev Love]  Yo man, we got much better things to do with your time\\n[Mr. Hood]  Show me something better\\n[Zev Love]  What, something better?  We built this place man.\\n            We're the Gods of the Universe, Kings and Queens\\n            of the planet.\\n(If you or I could see this individual, we might call him an\\n impractical dreamer, or a crackpot.)\\n[Zev Love]  No, I'm not crackpot.\\n(Would you have seen the scientific, intellectual, creative\\n genius, in a small ragged negro boy?)\\n[Zev Love]  Uh-oh, uh-oh, ohh no.  You're gonna set it off!\\n\",\n",
       " '\\nArtist: KMD\\nAlbum:  Mr. Hood\\nSong:   Who Me? (With an Answer from Dr. Bert)\\nTyped by: jostmatt@bluewin.ch.\\n \\n\"Once upon a time there was a little boy \\nwho lived in the deep, dark jungles of Africa\\nHis name was Little Sambo\"\\n \\n[ Zev Love X ]\\n( *mumbling* )\\n \\n[ Subroc ]\\nUh-oh, ZL\\'s X-ercising his right to be hostile...\\n \\n[ Zev Love X ]\\nThey always - they always try to say that coon is me for some reason\\n \\n[ Subroc ]\\nI don\\'t understand, man\\n \\n[ Zev Love X ]\\nYou don\\'t understand?!\\n \\n[ Subroc ]\\nNo, I don\\'t know\\n \\n[ Zev Love X ]\\nMy temper tempers up to like tenward\\nSwitched up with thoughts that I recommend\\nMy nest is flood but thicker is blood\\nPlus still some stay stud like sticks in the mud\\nIbuprofen from ( ? ) keep me from flippin\\' daily\\nYet I constantly slip into thinkin\\' kinda loony\\nIn my logo you see us?\\nWhoever said that coon was me?\\n \\nOH NO!\\n \\n[ Chorus 4X ]\\nWho me?\\nOh...\\nOH NO!\\n \\n[ Zev Love X ]\\nHoly smokes! I see it\\'s a joke\\nTo make a mockery of the original folks\\nOkay, joke\\'s over, but still it cloaks over us \\nWith no luck from no clover\\nThis, irritates X, so goes into my text\\nTolerates one N-word complex\\nSubroc, etched the fuzz of what once was\\nIn eighty-deca the joke\\'s on Cuz\\nThose on top of my head stand seven thick\\nHairs that even if I wanted to I couldn\\'t pick\\nPigment, is this a defect in birth?\\nOr more an example of the richness on Earth?\\nLips and eyes dominant traits of our race\\nDoes not take up 95 percent of one\\'s face\\nBut still I see\\nIn the back two or three\\nIgnorant punks pointing at me\\n \\nOH NO!\\n \\n[ Chorus 4X ]\\nWho me?\\nOh...\\nOH NO!\\n \\n[ Onyx ]\\nWho me? \\nYo, I begs your pardon\\nBut have you ever seen this brother walkin\\' around here anywhere?\\nThat must be missing person\\nHave you ever saw his face on a milk carton?\\n \\n[ Zev Love X ]\\nTricky tricky, must be part of the \"Gas Face\" series\\nThe same one who started black cat bad luck theories\\nYeah, he done it, this place, he runs it\\nAnd I\\'m guilty, Alcatraz till four hundred\\nJudge ye not the unjudged is where he slipped\\nThe real guilty is filthy, he chipped Egypt\\nBlew the nose right of the Sphynx, now when he inks\\nUgly as when our hair kinks, we thinks\\nThen zap goes the nap, now I gots good hair\\nIf that\\'s good hair then bad\\'s a hood\\'s hair\\nComb-twisted dome, braided or faded\\nThe first man played it and now we hate it?\\nRobbed of our culture, true indeed I bear witness\\nAnd recommend this mental fitness\\nSo get this loaded toolie and point it at a ghoul, G\\nThen ask him: \"Who you callin\\' moolie?\"\\n \\nOH NO!\\n \\nWho me?\\nOh...\\nOH NO!\\n\\nWho me?\\nOh...\\nOH NO!\\n\\nWho me?\\nOh...\\nOH NO!\\nWho...\\n \\n[ Zev Love X ]\\nAh man, damn, man. \\nYo, they wanna call me a monkey, a coon, a jiggaboo a boogieman...\\nYo Bert\\nYo... \\nBert\\n[ Bert ]\\nUm, what is it?\\n[ Zev Love X ]\\nYo G, they wanna call me all these names\\n[ Bert ]\\nAha\\nI know what we can do\\n[ Zev Love X ]\\nWhat can we do?\\n[ Bert ]\\nWe\\'ll ask someone out there to find...\\n(Little Sambo)\\n[ Zev Love X ]\\nWhat you be meanin\\', G?\\n[ Bert ]\\nOkay, pick up a crayon...\\n(Who me?)\\nNo, them\\n[ Zev Love X ]\\nUs?\\n[ Bert ]\\nYes\\nKids pick up a crayon, look for...\\n(Little Sambo)\\nWhen you find him, draw a circle around him\\n[ Zev Love X ]\\nYo Bert, you gets props, G\\n[ Bert ]\\n( *laughs* )\\n[ Zev Love X ]\\nYo, have dap, man\\n[ KMD ]\\nPeace\\n[ Zev Love X ]\\nYo, you got to rock that Hum shit for me later, too',\n",
       " \"\\nArtist: K.M.D.\\nAlbum:  Mr. Hood\\nSong:   Boogie Man!\\nTyped by: OHHLA Webmaster DJ Flash\\n\\n[Onyx]\\nWham, BAM, bound to slam\\nComes the birthstone kid with his own jam\\nSo what'cha tellin me, you thought I couldn't rip it solo?\\nBut yo, for your info, if every wind blow, I rip a show\\nThe crowd says ho, gotta go gotta go\\nThe birthstone kid {?} get biz {?} flow bro\\nSo check the style, God don't even front on me\\nI gots the skills, your boy he gots none on me\\nI gets my props so yo Hops I don't share it\\nAnd if a beeper doesn't work indeed then why wear it?\\nNot about frontin, I never have, I never will be\\nIf you swing, swing hard, God you better kill me\\nI'm blowin up like a SCUD missile hittin land\\nSo take a stand, and wave your hand, cause I'm your Boogie Man!\\n\\n[Onyx]\\nYou ain't tryin to hear the what maaan, I beg your pardon\\nThis ain't the place to bass you'll find your face up on a milk carton\\nCheck it the message while I rip it somethin love love\\nto shreds, I turn jheri curls to knotty dreads\\nHere's the style that I say I sorta brought along\\nStraight from the Island called Long, but we call it Strong\\nGod Body, by God {?} George I think I've got it\\nFunky as the Doo Doo Man, outside MC's were nodding\\nDon't even bite my style, relax, be different\\nPick up your pen but forget bombing, that option's senseless\\nI'm despicable but not lickable YOU CAN'T LICK THIS\\nTry it Hops, you'll catch mops with the quickness\\nI got a sickness, called one-two-and-mic-check\\nand rippin wreck and gettin notice and all that\\nMy style is that fat, I want you to know it and\\nstay tuned you coon as I wreck it for the Boogie Man\\n\\n[Onyx]\\nNow check it, don't miss this, lick them while I diss this\\nsarcastic bastard, of which I've been mastered\\nYou know the man, mankind let me say\\nKind of like man the woman can't tolerate, he's low rate\\nAnyway, he called you and I the Boogie Man (what?)\\nWebster's Dictionary, black man, look it up\\nBut that's an emphatical (Now Cipher)\\nOkay now that's that (yo Onyx why don't you get hyper?)\\nHyper shall I get just to make your wish granted see\\nI rocks my tippity tippity {?} upon the planet G\\nI'm is a God-, -zilla, because I fill a\\nsucker with fear, who gets a kick off drinkin Miller Beer\\nI keep struttin, cause scrubs are sayin nuttin\\nThe record Sub is cuttin, the Boogie Man is movin his butt\\nand so it stay grit, no need to be offended\\nYou can have your soul back because the Boogie Man is ended\\n\\nYeah, there it is, khamsayin?\\nDevon he was tryin to call me the Boogie Man\\nCause I can move like this, and like that\\n(And you can bop like this, and check it like that)\\nBut yo God, I'll be the Boogie Man\\nLong as it's Boogie referrin to gettin down, knahmsayin?\\n(Word, got the soul)\\nYeah, yeah, yeah, yeah (that's right, that's right)\\nYeah, yeah, yeah\\n\\nThe Boogie the Boogie the Boogie Boogie Man\\n(Yeah, that's right) The Boogie Boogie Man\\nYeah, yeah (do that stuff) yeah, yeah (do this God)\\nYeah, yeah (do this God) yeah, yeah (bop like this, bop like that)\\nYeah, yeah, yeah, yeah\\nAnd you don't stop (and you don't stop)\\nAnd you don't stop now (and you don't quit now)\\nYeah, yeah, yeah (yo check it out yo)\\nUhh, uhh, uhh, uhh (check it out yo)\\nUhh, uhh, uhh (that's how we do it, yeah)\\n\\n[more ad libs to fade]\"]"
      ]
     },
     "execution_count": 268,
     "metadata": {},
     "output_type": "execute_result"
    }
   ],
   "source": [
    "song_text[:3]"
   ]
  },
  {
   "cell_type": "code",
   "execution_count": 269,
   "metadata": {
    "scrolled": false
   },
   "outputs": [
    {
     "ename": "AttributeError",
     "evalue": "'NoneType' object has no attribute 'group'",
     "output_type": "error",
     "traceback": [
      "\u001b[1;31m---------------------------------------------------------------------------\u001b[0m",
      "\u001b[1;31mAttributeError\u001b[0m                            Traceback (most recent call last)",
      "\u001b[1;32m<ipython-input-269-cf69ccefd3f7>\u001b[0m in \u001b[0;36m<module>\u001b[1;34m()\u001b[0m\n\u001b[0;32m      2\u001b[0m \u001b[0msong_data\u001b[0m\u001b[1;33m[\u001b[0m\u001b[1;34m'Songs'\u001b[0m\u001b[1;33m]\u001b[0m \u001b[1;33m=\u001b[0m \u001b[1;33m[\u001b[0m\u001b[1;33m]\u001b[0m\u001b[1;33m\u001b[0m\u001b[0m\n\u001b[0;32m      3\u001b[0m \u001b[1;32mfor\u001b[0m \u001b[0msong\u001b[0m \u001b[1;32min\u001b[0m \u001b[0msong_text\u001b[0m\u001b[1;33m:\u001b[0m\u001b[1;33m\u001b[0m\u001b[0m\n\u001b[1;32m----> 4\u001b[1;33m     \u001b[0martist\u001b[0m \u001b[1;33m=\u001b[0m \u001b[0mre\u001b[0m\u001b[1;33m.\u001b[0m\u001b[0msearch\u001b[0m\u001b[1;33m(\u001b[0m\u001b[1;34mr\"\\nArtist: (.*?)\\n\"\u001b[0m\u001b[1;33m,\u001b[0m \u001b[0msong\u001b[0m\u001b[1;33m)\u001b[0m\u001b[1;33m.\u001b[0m\u001b[0mgroup\u001b[0m\u001b[1;33m(\u001b[0m\u001b[1;36m1\u001b[0m\u001b[1;33m)\u001b[0m\u001b[1;33m\u001b[0m\u001b[0m\n\u001b[0m\u001b[0;32m      5\u001b[0m     \u001b[0malbum\u001b[0m \u001b[1;33m=\u001b[0m \u001b[0mre\u001b[0m\u001b[1;33m.\u001b[0m\u001b[0msearch\u001b[0m\u001b[1;33m(\u001b[0m\u001b[1;34mr\"\\nAlbum:  (.*?)\\n\"\u001b[0m\u001b[1;33m,\u001b[0m \u001b[0msong\u001b[0m\u001b[1;33m)\u001b[0m\u001b[1;33m.\u001b[0m\u001b[0mgroup\u001b[0m\u001b[1;33m(\u001b[0m\u001b[1;36m1\u001b[0m\u001b[1;33m)\u001b[0m\u001b[1;33m\u001b[0m\u001b[0m\n\u001b[0;32m      6\u001b[0m     \u001b[0mtitle\u001b[0m \u001b[1;33m=\u001b[0m \u001b[0mre\u001b[0m\u001b[1;33m.\u001b[0m\u001b[0msearch\u001b[0m\u001b[1;33m(\u001b[0m\u001b[1;34mr\"\\nSong:   (.*?)\\n\"\u001b[0m\u001b[1;33m,\u001b[0m \u001b[0msong\u001b[0m\u001b[1;33m)\u001b[0m\u001b[1;33m.\u001b[0m\u001b[0mgroup\u001b[0m\u001b[1;33m(\u001b[0m\u001b[1;36m1\u001b[0m\u001b[1;33m)\u001b[0m\u001b[1;33m\u001b[0m\u001b[0m\n",
      "\u001b[1;31mAttributeError\u001b[0m: 'NoneType' object has no attribute 'group'"
     ]
    }
   ],
   "source": [
    "song_data = {}\n",
    "song_data['Songs'] = []\n",
    "for song in song_text:\n",
    "    artist = re.search(r\"\\nArtist: (.*?)\\n\", song).group(1)\n",
    "    album = re.search(r\"\\nAlbum:  (.*?)\\n\", song).group(1)\n",
    "    title = re.search(r\"\\nSong:   (.*?)\\n\", song).group(1)\n",
    "    typed = re.search(r\"Typed by: (.*?)\\n\", song).group(0)\n",
    "    lyrics = song.split(typed,1)[1] \n",
    "    song_data['Songs'].append({'Title':title,'Album':album, 'Artist':artist, 'lyrics':lyrics})"
   ]
  },
  {
   "cell_type": "code",
   "execution_count": 270,
   "metadata": {
    "collapsed": true
   },
   "outputs": [],
   "source": [
    "with open('raw_mf_doom.txt', 'w') as outfile:\n",
    "    json.dump(song_data, outfile)"
   ]
  },
  {
   "cell_type": "code",
   "execution_count": null,
   "metadata": {
    "collapsed": true
   },
   "outputs": [],
   "source": []
  },
  {
   "cell_type": "code",
   "execution_count": null,
   "metadata": {
    "collapsed": true
   },
   "outputs": [],
   "source": []
  }
 ],
 "metadata": {
  "kernelspec": {
   "display_name": "Python 3",
   "language": "python",
   "name": "python3"
  },
  "language_info": {
   "codemirror_mode": {
    "name": "ipython",
    "version": 3
   },
   "file_extension": ".py",
   "mimetype": "text/x-python",
   "name": "python",
   "nbconvert_exporter": "python",
   "pygments_lexer": "ipython3",
   "version": "3.6.1"
  }
 },
 "nbformat": 4,
 "nbformat_minor": 2
}
